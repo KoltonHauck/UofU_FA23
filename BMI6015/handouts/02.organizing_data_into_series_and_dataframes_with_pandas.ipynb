{
 "cells": [
  {
   "cell_type": "markdown",
   "metadata": {},
   "source": [
    "# 02: Organizing data into Series and DataFrames with Pandas\n",
    "\n",
    "Pandas is another essential package for data analysis and machine learning. While we won't be using is as much in Deep learning, it is still important to know how to use it for loading data files and for data processing and wrangling. It comes with two main data structures: Series and DataFrame. A Series is like a dictionary with keys (also called indexes) and values. A DataFrame represents tabular data with one or more columns.\n",
    "\n",
    "To use pandas, we first need to import it. Let's also import NumPy."
   ]
  },
  {
   "cell_type": "code",
   "execution_count": 1,
   "metadata": {},
   "outputs": [],
   "source": [
    "import numpy as np\n",
    "import pandas as pd"
   ]
  },
  {
   "cell_type": "markdown",
   "metadata": {},
   "source": [
    "We can now create series and dataframes.\n",
    "\n",
    "## Series\n",
    "A series is a one-dimensional narray with axis labels (or indexes).\n",
    "\n",
    "### Creating a series\n",
    "We can create a series by providing an array of values."
   ]
  },
  {
   "cell_type": "code",
   "execution_count": 2,
   "metadata": {},
   "outputs": [
    {
     "name": "stdout",
     "output_type": "stream",
     "text": [
      "0    10\n",
      "1    20\n",
      "2    30\n",
      "3    40\n",
      "4    50\n",
      "dtype: int64\n"
     ]
    }
   ],
   "source": [
    "s1 = pd.Series([10,20,30,40,50])\n",
    "print(s1)"
   ]
  },
  {
   "cell_type": "markdown",
   "metadata": {},
   "source": [
    "Since we did not provide indexes for our data, numeric zero-based indexes (much like those for arrays) will be automatically provided.\n",
    "\n",
    "We can also create a series by providing custom indexes."
   ]
  },
  {
   "cell_type": "code",
   "execution_count": 3,
   "metadata": {
    "tags": []
   },
   "outputs": [
    {
     "name": "stdout",
     "output_type": "stream",
     "text": [
      "a    1\n",
      "b    2\n",
      "c    3\n",
      "d    4\n",
      "e    5\n",
      "dtype: int64\n"
     ]
    }
   ],
   "source": [
    "s2 = pd.Series([1,2,3,4,5], index=['a','b','c','d','e'])\n",
    "print(s2)\n"
   ]
  },
  {
   "cell_type": "markdown",
   "metadata": {},
   "source": [
    "Notice that indexes are not required to be unique. For example, we can create a Series with duplicate indexes."
   ]
  },
  {
   "cell_type": "code",
   "execution_count": 4,
   "metadata": {},
   "outputs": [
    {
     "name": "stdout",
     "output_type": "stream",
     "text": [
      "a    1\n",
      "b    2\n",
      "b    3\n",
      "c    4\n",
      "c    5\n",
      "dtype: int64\n"
     ]
    }
   ],
   "source": [
    "s3 = pd.Series([1,2,3,4,5], index=['a','b','b','c','c']) \n",
    "print(s3)"
   ]
  },
  {
   "cell_type": "markdown",
   "metadata": {},
   "source": [
    "We can create a series from NumPy arrays."
   ]
  },
  {
   "cell_type": "code",
   "execution_count": 5,
   "metadata": {},
   "outputs": [
    {
     "name": "stdout",
     "output_type": "stream",
     "text": [
      "A     2\n",
      "B     4\n",
      "C     6\n",
      "D     8\n",
      "F    10\n",
      "dtype: int64\n"
     ]
    }
   ],
   "source": [
    "snp = pd.Series(np.arange(2, 11, 2), index=['A','B','C','D','F']) \n",
    "print(snp)"
   ]
  },
  {
   "cell_type": "markdown",
   "metadata": {},
   "source": [
    "And indexes could be ranges."
   ]
  },
  {
   "cell_type": "code",
   "execution_count": 6,
   "metadata": {},
   "outputs": [
    {
     "name": "stdout",
     "output_type": "stream",
     "text": [
      "1     2\n",
      "2     4\n",
      "3     6\n",
      "4     8\n",
      "5    10\n",
      "dtype: int64\n"
     ]
    }
   ],
   "source": [
    "s4 = pd.Series(np.arange(2, 11, 2), index=np.arange(1, 6)) \n",
    "print(s4)"
   ]
  },
  {
   "cell_type": "markdown",
   "metadata": {},
   "source": [
    "### Accessing elements in a series (Indexing)\n",
    "\n",
    "We can use the indexes to extract and/or slice elements within a series. For example, given the series `s1`:"
   ]
  },
  {
   "cell_type": "code",
   "execution_count": 7,
   "metadata": {},
   "outputs": [
    {
     "data": {
      "text/plain": [
       "0    10\n",
       "1    20\n",
       "2    30\n",
       "3    40\n",
       "4    50\n",
       "dtype: int64"
      ]
     },
     "execution_count": 7,
     "metadata": {},
     "output_type": "execute_result"
    }
   ],
   "source": [
    "s1"
   ]
  },
  {
   "cell_type": "markdown",
   "metadata": {},
   "source": [
    "Here is the element at index 0:"
   ]
  },
  {
   "cell_type": "code",
   "execution_count": 8,
   "metadata": {},
   "outputs": [
    {
     "data": {
      "text/plain": [
       "10"
      ]
     },
     "execution_count": 8,
     "metadata": {},
     "output_type": "execute_result"
    }
   ],
   "source": [
    "s1[0]"
   ]
  },
  {
   "cell_type": "markdown",
   "metadata": {},
   "source": [
    "and the elements at indexes 2 and 3:"
   ]
  },
  {
   "cell_type": "code",
   "execution_count": 9,
   "metadata": {},
   "outputs": [
    {
     "data": {
      "text/plain": [
       "2    30\n",
       "3    40\n",
       "dtype: int64"
      ]
     },
     "execution_count": 9,
     "metadata": {},
     "output_type": "execute_result"
    }
   ],
   "source": [
    "s1[[2,3]]"
   ]
  },
  {
   "cell_type": "markdown",
   "metadata": {},
   "source": [
    "or at the index range from 2 up to but not equal to 4"
   ]
  },
  {
   "cell_type": "code",
   "execution_count": 10,
   "metadata": {},
   "outputs": [
    {
     "data": {
      "text/plain": [
       "2    30\n",
       "3    40\n",
       "dtype: int64"
      ]
     },
     "execution_count": 10,
     "metadata": {},
     "output_type": "execute_result"
    }
   ],
   "source": [
    "s1[2:4]"
   ]
  },
  {
   "cell_type": "markdown",
   "metadata": {},
   "source": [
    "And given the series `s2`:"
   ]
  },
  {
   "cell_type": "code",
   "execution_count": 11,
   "metadata": {},
   "outputs": [
    {
     "data": {
      "text/plain": [
       "a    1\n",
       "b    2\n",
       "c    3\n",
       "d    4\n",
       "e    5\n",
       "dtype: int64"
      ]
     },
     "execution_count": 11,
     "metadata": {},
     "output_type": "execute_result"
    }
   ],
   "source": [
    "s2"
   ]
  },
  {
   "cell_type": "markdown",
   "metadata": {},
   "source": [
    "Here is the element at index 'c':"
   ]
  },
  {
   "cell_type": "code",
   "execution_count": 12,
   "metadata": {},
   "outputs": [
    {
     "data": {
      "text/plain": [
       "3"
      ]
     },
     "execution_count": 12,
     "metadata": {},
     "output_type": "execute_result"
    }
   ],
   "source": [
    "s2['c']"
   ]
  },
  {
   "cell_type": "markdown",
   "metadata": {},
   "source": [
    "and here are the elements from index 'b' to index 'd'"
   ]
  },
  {
   "cell_type": "code",
   "execution_count": 13,
   "metadata": {},
   "outputs": [
    {
     "data": {
      "text/plain": [
       "b    2\n",
       "c    3\n",
       "d    4\n",
       "dtype: int64"
      ]
     },
     "execution_count": 13,
     "metadata": {},
     "output_type": "execute_result"
    }
   ],
   "source": [
    "s2['b':'d']"
   ]
  },
  {
   "cell_type": "markdown",
   "metadata": {},
   "source": [
    "And for a series with duplicate indexes such as:"
   ]
  },
  {
   "cell_type": "code",
   "execution_count": 14,
   "metadata": {},
   "outputs": [
    {
     "data": {
      "text/plain": [
       "a    1\n",
       "b    2\n",
       "b    3\n",
       "c    4\n",
       "c    5\n",
       "dtype: int64"
      ]
     },
     "execution_count": 14,
     "metadata": {},
     "output_type": "execute_result"
    }
   ],
   "source": [
    "s3"
   ]
  },
  {
   "cell_type": "markdown",
   "metadata": {},
   "source": [
    "Using a duplicate index returns a series of all the elements with that index."
   ]
  },
  {
   "cell_type": "code",
   "execution_count": 15,
   "metadata": {},
   "outputs": [
    {
     "data": {
      "text/plain": [
       "b    2\n",
       "b    3\n",
       "dtype: int64"
      ]
     },
     "execution_count": 15,
     "metadata": {},
     "output_type": "execute_result"
    }
   ],
   "source": [
    "s3['b']"
   ]
  },
  {
   "cell_type": "markdown",
   "metadata": {},
   "source": [
    "The above use of indexes is the same as using `.loc[]` with indexes between `[` and `]`. That is"
   ]
  },
  {
   "cell_type": "code",
   "execution_count": 16,
   "metadata": {},
   "outputs": [
    {
     "name": "stdout",
     "output_type": "stream",
     "text": [
      "A    2\n",
      "B    4\n",
      "C    6\n",
      "D    8\n",
      "dtype: int64\n",
      "b    2\n",
      "b    3\n",
      "dtype: int64\n"
     ]
    }
   ],
   "source": [
    "print(snp['A':'D'])\n",
    "print(s3['b'])"
   ]
  },
  {
   "cell_type": "markdown",
   "metadata": {},
   "source": [
    "is the same as:"
   ]
  },
  {
   "cell_type": "code",
   "execution_count": 17,
   "metadata": {},
   "outputs": [
    {
     "name": "stdout",
     "output_type": "stream",
     "text": [
      "A    2\n",
      "B    4\n",
      "C    6\n",
      "D    8\n",
      "dtype: int64\n",
      "b    2\n",
      "b    3\n",
      "dtype: int64\n"
     ]
    }
   ],
   "source": [
    "print(snp.loc['A':'D'])\n",
    "print(s3.loc['b'])"
   ]
  },
  {
   "cell_type": "markdown",
   "metadata": {},
   "source": [
    "But sometimes we want to use the position of the index rather than its actual value to access elements within a series. We can use `.iloc[]` with zero-based numeric indexes positions between `[` and `]`. The position 0 means the first index. For example, given the Series:"
   ]
  },
  {
   "cell_type": "code",
   "execution_count": 18,
   "metadata": {},
   "outputs": [
    {
     "data": {
      "text/plain": [
       "A     2\n",
       "B     4\n",
       "C     6\n",
       "D     8\n",
       "F    10\n",
       "dtype: int64"
      ]
     },
     "execution_count": 18,
     "metadata": {},
     "output_type": "execute_result"
    }
   ],
   "source": [
    "snp"
   ]
  },
  {
   "cell_type": "markdown",
   "metadata": {},
   "source": [
    "We can access its first element:"
   ]
  },
  {
   "cell_type": "code",
   "execution_count": 19,
   "metadata": {},
   "outputs": [
    {
     "data": {
      "text/plain": [
       "2"
      ]
     },
     "execution_count": 19,
     "metadata": {},
     "output_type": "execute_result"
    }
   ],
   "source": [
    "snp.iloc[0]"
   ]
  },
  {
   "cell_type": "markdown",
   "metadata": {},
   "source": [
    "And its last element:"
   ]
  },
  {
   "cell_type": "code",
   "execution_count": 20,
   "metadata": {},
   "outputs": [
    {
     "data": {
      "text/plain": [
       "10"
      ]
     },
     "execution_count": 20,
     "metadata": {},
     "output_type": "execute_result"
    }
   ],
   "source": [
    "snp.iloc[snp.size - 1]"
   ]
  },
  {
   "cell_type": "markdown",
   "metadata": {},
   "source": [
    "### Slicing a series\n",
    "With `.iloc`, we can index and slice a series in exactly the same way we did in a one-dimensional NumPy array. Here is, for example, how you select every other element in a Series."
   ]
  },
  {
   "cell_type": "code",
   "execution_count": 21,
   "metadata": {},
   "outputs": [
    {
     "data": {
      "text/plain": [
       "A     2\n",
       "C     6\n",
       "F    10\n",
       "dtype: int64"
      ]
     },
     "execution_count": 21,
     "metadata": {},
     "output_type": "execute_result"
    }
   ],
   "source": [
    "snp.iloc[0::2]"
   ]
  },
  {
   "cell_type": "markdown",
   "metadata": {},
   "source": [
    "And speaking of NumPy, we can extract the values of a series as a NumPy array."
   ]
  },
  {
   "cell_type": "code",
   "execution_count": 22,
   "metadata": {},
   "outputs": [
    {
     "data": {
      "text/plain": [
       "array([ 2,  4,  6,  8, 10])"
      ]
     },
     "execution_count": 22,
     "metadata": {},
     "output_type": "execute_result"
    }
   ],
   "source": [
    "snp.values"
   ]
  },
  {
   "cell_type": "markdown",
   "metadata": {},
   "source": [
    "We can also extract its indexes as an array also:"
   ]
  },
  {
   "cell_type": "code",
   "execution_count": 23,
   "metadata": {},
   "outputs": [
    {
     "data": {
      "text/plain": [
       "Index(['A', 'B', 'C', 'D', 'F'], dtype='object')"
      ]
     },
     "execution_count": 23,
     "metadata": {},
     "output_type": "execute_result"
    }
   ],
   "source": [
    "snp.index"
   ]
  },
  {
   "cell_type": "markdown",
   "metadata": {},
   "source": [
    "### An example using a series\n",
    "To show how useful series can be, here is an example series with random values and `A` to `Z` keys."
   ]
  },
  {
   "cell_type": "code",
   "execution_count": 24,
   "metadata": {},
   "outputs": [
    {
     "data": {
      "text/plain": [
       "A    0.252667\n",
       "B    0.732682\n",
       "C    1.472765\n",
       "D   -0.587280\n",
       "E   -0.304544\n",
       "F   -0.629237\n",
       "G    1.767808\n",
       "H   -0.966587\n",
       "I   -0.520488\n",
       "J    0.846570\n",
       "K   -0.595373\n",
       "L   -0.344268\n",
       "M   -0.815882\n",
       "N   -0.518733\n",
       "O    0.258134\n",
       "P   -0.740938\n",
       "Q    1.606480\n",
       "R    1.501638\n",
       "S   -0.651595\n",
       "T   -0.289723\n",
       "U    2.035900\n",
       "V   -0.633746\n",
       "W   -0.596911\n",
       "X    0.408341\n",
       "Y    0.488841\n",
       "Z   -0.374850\n",
       "dtype: float64"
      ]
     },
     "execution_count": 24,
     "metadata": {},
     "output_type": "execute_result"
    }
   ],
   "source": [
    "s = pd.Series(np.random.randn(26), index=[chr(65 + c) for c in range(26)])\n",
    "s"
   ]
  },
  {
   "cell_type": "markdown",
   "metadata": {},
   "source": [
    "We can sort this series descendingly like this:"
   ]
  },
  {
   "cell_type": "code",
   "execution_count": 25,
   "metadata": {
    "tags": []
   },
   "outputs": [
    {
     "data": {
      "text/plain": [
       "U    2.035900\n",
       "G    1.767808\n",
       "Q    1.606480\n",
       "R    1.501638\n",
       "C    1.472765\n",
       "J    0.846570\n",
       "B    0.732682\n",
       "Y    0.488841\n",
       "X    0.408341\n",
       "O    0.258134\n",
       "A    0.252667\n",
       "T   -0.289723\n",
       "E   -0.304544\n",
       "L   -0.344268\n",
       "Z   -0.374850\n",
       "N   -0.518733\n",
       "I   -0.520488\n",
       "D   -0.587280\n",
       "K   -0.595373\n",
       "W   -0.596911\n",
       "F   -0.629237\n",
       "V   -0.633746\n",
       "S   -0.651595\n",
       "P   -0.740938\n",
       "M   -0.815882\n",
       "H   -0.966587\n",
       "dtype: float64"
      ]
     },
     "execution_count": 25,
     "metadata": {},
     "output_type": "execute_result"
    }
   ],
   "source": [
    "s.sort_values(ascending=False)"
   ]
  },
  {
   "cell_type": "markdown",
   "metadata": {
    "tags": []
   },
   "source": [
    "And here is how we get its top 5 elements:"
   ]
  },
  {
   "cell_type": "code",
   "execution_count": 26,
   "metadata": {
    "tags": []
   },
   "outputs": [
    {
     "data": {
      "text/plain": [
       "U    2.035900\n",
       "G    1.767808\n",
       "Q    1.606480\n",
       "R    1.501638\n",
       "C    1.472765\n",
       "dtype: float64"
      ]
     },
     "execution_count": 26,
     "metadata": {},
     "output_type": "execute_result"
    }
   ],
   "source": [
    "s.sort_values(ascending=False).iloc[:5]"
   ]
  },
  {
   "cell_type": "markdown",
   "metadata": {
    "tags": []
   },
   "source": [
    "And here is the index of the top element"
   ]
  },
  {
   "cell_type": "code",
   "execution_count": 27,
   "metadata": {},
   "outputs": [
    {
     "data": {
      "text/plain": [
       "'U'"
      ]
     },
     "execution_count": 27,
     "metadata": {},
     "output_type": "execute_result"
    }
   ],
   "source": [
    "s.idxmax()"
   ]
  },
  {
   "cell_type": "markdown",
   "metadata": {
    "tags": []
   },
   "source": [
    "Similarly, here is the index of the bottom element"
   ]
  },
  {
   "cell_type": "code",
   "execution_count": 28,
   "metadata": {},
   "outputs": [
    {
     "data": {
      "text/plain": [
       "'H'"
      ]
     },
     "execution_count": 28,
     "metadata": {},
     "output_type": "execute_result"
    }
   ],
   "source": [
    "s.idxmin()"
   ]
  },
  {
   "cell_type": "markdown",
   "metadata": {},
   "source": [
    "And we can show next to each key the order of its element if the series is ascendingly sorted."
   ]
  },
  {
   "cell_type": "code",
   "execution_count": 29,
   "metadata": {},
   "outputs": [
    {
     "data": {
      "text/plain": [
       "A     7\n",
       "B    12\n",
       "C    15\n",
       "D    18\n",
       "E    21\n",
       "F     5\n",
       "G    22\n",
       "H    10\n",
       "I     3\n",
       "J     8\n",
       "K    13\n",
       "L    25\n",
       "M    11\n",
       "N     4\n",
       "O    19\n",
       "P     0\n",
       "Q    14\n",
       "R    23\n",
       "S    24\n",
       "T     1\n",
       "U     9\n",
       "V     2\n",
       "W    17\n",
       "X    16\n",
       "Y     6\n",
       "Z    20\n",
       "dtype: int64"
      ]
     },
     "execution_count": 29,
     "metadata": {},
     "output_type": "execute_result"
    }
   ],
   "source": [
    "s.argsort()"
   ]
  },
  {
   "cell_type": "markdown",
   "metadata": {
    "tags": []
   },
   "source": [
    "This gives us another way to sort a series"
   ]
  },
  {
   "cell_type": "code",
   "execution_count": 30,
   "metadata": {
    "tags": []
   },
   "outputs": [
    {
     "data": {
      "text/plain": [
       "U    2.035900\n",
       "G    1.767808\n",
       "Q    1.606480\n",
       "R    1.501638\n",
       "C    1.472765\n",
       "J    0.846570\n",
       "B    0.732682\n",
       "Y    0.488841\n",
       "X    0.408341\n",
       "O    0.258134\n",
       "A    0.252667\n",
       "T   -0.289723\n",
       "E   -0.304544\n",
       "L   -0.344268\n",
       "Z   -0.374850\n",
       "N   -0.518733\n",
       "I   -0.520488\n",
       "D   -0.587280\n",
       "K   -0.595373\n",
       "W   -0.596911\n",
       "F   -0.629237\n",
       "V   -0.633746\n",
       "S   -0.651595\n",
       "P   -0.740938\n",
       "M   -0.815882\n",
       "H   -0.966587\n",
       "dtype: float64"
      ]
     },
     "execution_count": 30,
     "metadata": {},
     "output_type": "execute_result"
    }
   ],
   "source": [
    "s[s.argsort()][::-1]"
   ]
  },
  {
   "cell_type": "markdown",
   "metadata": {
    "tags": []
   },
   "source": [
    "Notice that we used `[::-1]` to make this sort in descending order. Finally we cat extract the top 5 elements:"
   ]
  },
  {
   "cell_type": "code",
   "execution_count": 31,
   "metadata": {},
   "outputs": [
    {
     "data": {
      "text/plain": [
       "U    2.035900\n",
       "G    1.767808\n",
       "Q    1.606480\n",
       "R    1.501638\n",
       "C    1.472765\n",
       "dtype: float64"
      ]
     },
     "execution_count": 31,
     "metadata": {},
     "output_type": "execute_result"
    }
   ],
   "source": [
    "s[s.argsort()][::-1].iloc[:5]"
   ]
  },
  {
   "cell_type": "markdown",
   "metadata": {
    "tags": []
   },
   "source": [
    "and the bottom five:"
   ]
  },
  {
   "cell_type": "code",
   "execution_count": 32,
   "metadata": {},
   "outputs": [
    {
     "data": {
      "text/plain": [
       "V   -0.633746\n",
       "S   -0.651595\n",
       "P   -0.740938\n",
       "M   -0.815882\n",
       "H   -0.966587\n",
       "dtype: float64"
      ]
     },
     "execution_count": 32,
     "metadata": {},
     "output_type": "execute_result"
    }
   ],
   "source": [
    "s[s.argsort()][::-1].iloc[-5:]"
   ]
  },
  {
   "cell_type": "markdown",
   "metadata": {},
   "source": [
    "## DataFrames\n",
    "A data frame is a two-dimensional table with columns and rows. You can think of each column on a DataFrame as a series sharing the same indexes with the other columns. Each column has a name that can be used to access it.\n",
    "\n",
    "### Creating DataFrames\n",
    "The easiest way to create a DataFrame is by using a dictionary of arrays. The keys of this dictionary will become column names. Here is a DataFrame with 4 by 9 multiplication table."
   ]
  },
  {
   "cell_type": "code",
   "execution_count": 33,
   "metadata": {},
   "outputs": [
    {
     "data": {
      "text/html": [
       "<div>\n",
       "<style scoped>\n",
       "    .dataframe tbody tr th:only-of-type {\n",
       "        vertical-align: middle;\n",
       "    }\n",
       "\n",
       "    .dataframe tbody tr th {\n",
       "        vertical-align: top;\n",
       "    }\n",
       "\n",
       "    .dataframe thead th {\n",
       "        text-align: right;\n",
       "    }\n",
       "</style>\n",
       "<table border=\"1\" class=\"dataframe\">\n",
       "  <thead>\n",
       "    <tr style=\"text-align: right;\">\n",
       "      <th></th>\n",
       "      <th>byOne</th>\n",
       "      <th>byTwo</th>\n",
       "      <th>byThree</th>\n",
       "      <th>byFour</th>\n",
       "    </tr>\n",
       "  </thead>\n",
       "  <tbody>\n",
       "    <tr>\n",
       "      <th>0</th>\n",
       "      <td>1</td>\n",
       "      <td>2</td>\n",
       "      <td>3</td>\n",
       "      <td>4</td>\n",
       "    </tr>\n",
       "    <tr>\n",
       "      <th>1</th>\n",
       "      <td>2</td>\n",
       "      <td>4</td>\n",
       "      <td>6</td>\n",
       "      <td>8</td>\n",
       "    </tr>\n",
       "    <tr>\n",
       "      <th>2</th>\n",
       "      <td>3</td>\n",
       "      <td>6</td>\n",
       "      <td>9</td>\n",
       "      <td>12</td>\n",
       "    </tr>\n",
       "    <tr>\n",
       "      <th>3</th>\n",
       "      <td>4</td>\n",
       "      <td>8</td>\n",
       "      <td>12</td>\n",
       "      <td>16</td>\n",
       "    </tr>\n",
       "    <tr>\n",
       "      <th>4</th>\n",
       "      <td>5</td>\n",
       "      <td>10</td>\n",
       "      <td>15</td>\n",
       "      <td>20</td>\n",
       "    </tr>\n",
       "    <tr>\n",
       "      <th>5</th>\n",
       "      <td>6</td>\n",
       "      <td>12</td>\n",
       "      <td>18</td>\n",
       "      <td>24</td>\n",
       "    </tr>\n",
       "    <tr>\n",
       "      <th>6</th>\n",
       "      <td>7</td>\n",
       "      <td>14</td>\n",
       "      <td>21</td>\n",
       "      <td>28</td>\n",
       "    </tr>\n",
       "    <tr>\n",
       "      <th>7</th>\n",
       "      <td>8</td>\n",
       "      <td>16</td>\n",
       "      <td>24</td>\n",
       "      <td>32</td>\n",
       "    </tr>\n",
       "    <tr>\n",
       "      <th>8</th>\n",
       "      <td>9</td>\n",
       "      <td>18</td>\n",
       "      <td>27</td>\n",
       "      <td>36</td>\n",
       "    </tr>\n",
       "  </tbody>\n",
       "</table>\n",
       "</div>"
      ],
      "text/plain": [
       "   byOne  byTwo  byThree  byFour\n",
       "0      1      2        3       4\n",
       "1      2      4        6       8\n",
       "2      3      6        9      12\n",
       "3      4      8       12      16\n",
       "4      5     10       15      20\n",
       "5      6     12       18      24\n",
       "6      7     14       21      28\n",
       "7      8     16       24      32\n",
       "8      9     18       27      36"
      ]
     },
     "execution_count": 33,
     "metadata": {},
     "output_type": "execute_result"
    }
   ],
   "source": [
    "mtable = pd.DataFrame({\n",
    "    'byOne': [1,2, 3, 4, 5, 6, 7, 8, 9],\n",
    "    'byTwo': [2, 4, 6, 8, 10, 12, 14, 16, 18],\n",
    "    'byThree': [3, 6, 9, 12, 15, 18, 21, 24, 27],\n",
    "    'byFour': [4, 8, 12, 16, 20, 24, 28, 32, 36]\n",
    "})\n",
    "\n",
    "mtable"
   ]
  },
  {
   "cell_type": "markdown",
   "metadata": {},
   "source": [
    "Since we did not provide indexes, Pandas will create zero-based numeric indexes for us, just like it does for a Series.\n",
    "\n",
    "We can use NumPy arrays to create the same table:"
   ]
  },
  {
   "cell_type": "code",
   "execution_count": 34,
   "metadata": {},
   "outputs": [
    {
     "name": "stdout",
     "output_type": "stream",
     "text": [
      "   byOne  byTwo  byThree  byFour\n",
      "0      1      2        3       4\n",
      "1      2      4        6       8\n",
      "2      3      6        9      12\n",
      "3      4      8       12      16\n",
      "4      5     10       15      20\n",
      "5      6     12       18      24\n",
      "6      7     14       21      28\n",
      "7      8     16       24      32\n",
      "8      9     18       27      36\n"
     ]
    }
   ],
   "source": [
    "mtable = pd.DataFrame({\n",
    "    'byOne': np.arange(1, 10),\n",
    "    'byTwo': 2 * np.arange(1, 10),\n",
    "    'byThree': 3 * np.arange(1, 10),\n",
    "    'byFour': 4 * np.arange(1, 10)\n",
    "})\n",
    "\n",
    "print(mtable)"
   ]
  },
  {
   "cell_type": "markdown",
   "metadata": {},
   "source": [
    "We can create a DataFrame from a two-dimensional array. Given an array,"
   ]
  },
  {
   "cell_type": "code",
   "execution_count": 35,
   "metadata": {},
   "outputs": [
    {
     "name": "stdout",
     "output_type": "stream",
     "text": [
      "[[ 1  2  3  4]\n",
      " [ 2  4  6  8]\n",
      " [ 3  6  9 12]\n",
      " [ 4  8 12 16]\n",
      " [ 5 10 15 20]\n",
      " [ 6 12 18 24]\n",
      " [ 7 14 21 28]\n",
      " [ 8 16 24 32]\n",
      " [ 9 18 27 36]]\n"
     ]
    }
   ],
   "source": [
    "table = np.array([\n",
    "    np.arange(1, 10),\n",
    "    2 * np.arange(1, 10),\n",
    "    3 * np.arange(1, 10),\n",
    "    4 * np.arange(1, 10)\n",
    "]).T\n",
    "\n",
    "print(table)"
   ]
  },
  {
   "cell_type": "markdown",
   "metadata": {},
   "source": [
    "we can create a DataFrame from it."
   ]
  },
  {
   "cell_type": "code",
   "execution_count": 36,
   "metadata": {},
   "outputs": [
    {
     "data": {
      "text/html": [
       "<div>\n",
       "<style scoped>\n",
       "    .dataframe tbody tr th:only-of-type {\n",
       "        vertical-align: middle;\n",
       "    }\n",
       "\n",
       "    .dataframe tbody tr th {\n",
       "        vertical-align: top;\n",
       "    }\n",
       "\n",
       "    .dataframe thead th {\n",
       "        text-align: right;\n",
       "    }\n",
       "</style>\n",
       "<table border=\"1\" class=\"dataframe\">\n",
       "  <thead>\n",
       "    <tr style=\"text-align: right;\">\n",
       "      <th></th>\n",
       "      <th>0</th>\n",
       "      <th>1</th>\n",
       "      <th>2</th>\n",
       "      <th>3</th>\n",
       "    </tr>\n",
       "  </thead>\n",
       "  <tbody>\n",
       "    <tr>\n",
       "      <th>0</th>\n",
       "      <td>1</td>\n",
       "      <td>2</td>\n",
       "      <td>3</td>\n",
       "      <td>4</td>\n",
       "    </tr>\n",
       "    <tr>\n",
       "      <th>1</th>\n",
       "      <td>2</td>\n",
       "      <td>4</td>\n",
       "      <td>6</td>\n",
       "      <td>8</td>\n",
       "    </tr>\n",
       "    <tr>\n",
       "      <th>2</th>\n",
       "      <td>3</td>\n",
       "      <td>6</td>\n",
       "      <td>9</td>\n",
       "      <td>12</td>\n",
       "    </tr>\n",
       "    <tr>\n",
       "      <th>3</th>\n",
       "      <td>4</td>\n",
       "      <td>8</td>\n",
       "      <td>12</td>\n",
       "      <td>16</td>\n",
       "    </tr>\n",
       "    <tr>\n",
       "      <th>4</th>\n",
       "      <td>5</td>\n",
       "      <td>10</td>\n",
       "      <td>15</td>\n",
       "      <td>20</td>\n",
       "    </tr>\n",
       "    <tr>\n",
       "      <th>5</th>\n",
       "      <td>6</td>\n",
       "      <td>12</td>\n",
       "      <td>18</td>\n",
       "      <td>24</td>\n",
       "    </tr>\n",
       "    <tr>\n",
       "      <th>6</th>\n",
       "      <td>7</td>\n",
       "      <td>14</td>\n",
       "      <td>21</td>\n",
       "      <td>28</td>\n",
       "    </tr>\n",
       "    <tr>\n",
       "      <th>7</th>\n",
       "      <td>8</td>\n",
       "      <td>16</td>\n",
       "      <td>24</td>\n",
       "      <td>32</td>\n",
       "    </tr>\n",
       "    <tr>\n",
       "      <th>8</th>\n",
       "      <td>9</td>\n",
       "      <td>18</td>\n",
       "      <td>27</td>\n",
       "      <td>36</td>\n",
       "    </tr>\n",
       "  </tbody>\n",
       "</table>\n",
       "</div>"
      ],
      "text/plain": [
       "   0   1   2   3\n",
       "0  1   2   3   4\n",
       "1  2   4   6   8\n",
       "2  3   6   9  12\n",
       "3  4   8  12  16\n",
       "4  5  10  15  20\n",
       "5  6  12  18  24\n",
       "6  7  14  21  28\n",
       "7  8  16  24  32\n",
       "8  9  18  27  36"
      ]
     },
     "execution_count": 36,
     "metadata": {},
     "output_type": "execute_result"
    }
   ],
   "source": [
    "mtable = pd.DataFrame(table)\n",
    "\n",
    "mtable"
   ]
  },
  {
   "cell_type": "markdown",
   "metadata": {},
   "source": [
    "Since we did not provide column names or indexes, Pandas provided numeric zero-based column names and indexes for us. We can rename these columns by providing custom names for it after it was created."
   ]
  },
  {
   "cell_type": "code",
   "execution_count": 37,
   "metadata": {},
   "outputs": [
    {
     "data": {
      "text/html": [
       "<div>\n",
       "<style scoped>\n",
       "    .dataframe tbody tr th:only-of-type {\n",
       "        vertical-align: middle;\n",
       "    }\n",
       "\n",
       "    .dataframe tbody tr th {\n",
       "        vertical-align: top;\n",
       "    }\n",
       "\n",
       "    .dataframe thead th {\n",
       "        text-align: right;\n",
       "    }\n",
       "</style>\n",
       "<table border=\"1\" class=\"dataframe\">\n",
       "  <thead>\n",
       "    <tr style=\"text-align: right;\">\n",
       "      <th></th>\n",
       "      <th>A</th>\n",
       "      <th>B</th>\n",
       "      <th>C</th>\n",
       "      <th>D</th>\n",
       "    </tr>\n",
       "  </thead>\n",
       "  <tbody>\n",
       "    <tr>\n",
       "      <th>0</th>\n",
       "      <td>1</td>\n",
       "      <td>2</td>\n",
       "      <td>3</td>\n",
       "      <td>4</td>\n",
       "    </tr>\n",
       "    <tr>\n",
       "      <th>1</th>\n",
       "      <td>2</td>\n",
       "      <td>4</td>\n",
       "      <td>6</td>\n",
       "      <td>8</td>\n",
       "    </tr>\n",
       "    <tr>\n",
       "      <th>2</th>\n",
       "      <td>3</td>\n",
       "      <td>6</td>\n",
       "      <td>9</td>\n",
       "      <td>12</td>\n",
       "    </tr>\n",
       "    <tr>\n",
       "      <th>3</th>\n",
       "      <td>4</td>\n",
       "      <td>8</td>\n",
       "      <td>12</td>\n",
       "      <td>16</td>\n",
       "    </tr>\n",
       "    <tr>\n",
       "      <th>4</th>\n",
       "      <td>5</td>\n",
       "      <td>10</td>\n",
       "      <td>15</td>\n",
       "      <td>20</td>\n",
       "    </tr>\n",
       "    <tr>\n",
       "      <th>5</th>\n",
       "      <td>6</td>\n",
       "      <td>12</td>\n",
       "      <td>18</td>\n",
       "      <td>24</td>\n",
       "    </tr>\n",
       "    <tr>\n",
       "      <th>6</th>\n",
       "      <td>7</td>\n",
       "      <td>14</td>\n",
       "      <td>21</td>\n",
       "      <td>28</td>\n",
       "    </tr>\n",
       "    <tr>\n",
       "      <th>7</th>\n",
       "      <td>8</td>\n",
       "      <td>16</td>\n",
       "      <td>24</td>\n",
       "      <td>32</td>\n",
       "    </tr>\n",
       "    <tr>\n",
       "      <th>8</th>\n",
       "      <td>9</td>\n",
       "      <td>18</td>\n",
       "      <td>27</td>\n",
       "      <td>36</td>\n",
       "    </tr>\n",
       "  </tbody>\n",
       "</table>\n",
       "</div>"
      ],
      "text/plain": [
       "   A   B   C   D\n",
       "0  1   2   3   4\n",
       "1  2   4   6   8\n",
       "2  3   6   9  12\n",
       "3  4   8  12  16\n",
       "4  5  10  15  20\n",
       "5  6  12  18  24\n",
       "6  7  14  21  28\n",
       "7  8  16  24  32\n",
       "8  9  18  27  36"
      ]
     },
     "execution_count": 37,
     "metadata": {},
     "output_type": "execute_result"
    }
   ],
   "source": [
    "mtable.columns= ['A', 'B', 'C', 'D']\n",
    "mtable"
   ]
  },
  {
   "cell_type": "markdown",
   "metadata": {},
   "source": [
    "We can provide the column names at the time of creating the DataFrame."
   ]
  },
  {
   "cell_type": "code",
   "execution_count": 38,
   "metadata": {},
   "outputs": [
    {
     "data": {
      "text/html": [
       "<div>\n",
       "<style scoped>\n",
       "    .dataframe tbody tr th:only-of-type {\n",
       "        vertical-align: middle;\n",
       "    }\n",
       "\n",
       "    .dataframe tbody tr th {\n",
       "        vertical-align: top;\n",
       "    }\n",
       "\n",
       "    .dataframe thead th {\n",
       "        text-align: right;\n",
       "    }\n",
       "</style>\n",
       "<table border=\"1\" class=\"dataframe\">\n",
       "  <thead>\n",
       "    <tr style=\"text-align: right;\">\n",
       "      <th></th>\n",
       "      <th>byOne</th>\n",
       "      <th>byTwo</th>\n",
       "      <th>byThree</th>\n",
       "      <th>byFour</th>\n",
       "    </tr>\n",
       "  </thead>\n",
       "  <tbody>\n",
       "    <tr>\n",
       "      <th>0</th>\n",
       "      <td>1</td>\n",
       "      <td>2</td>\n",
       "      <td>3</td>\n",
       "      <td>4</td>\n",
       "    </tr>\n",
       "    <tr>\n",
       "      <th>1</th>\n",
       "      <td>2</td>\n",
       "      <td>4</td>\n",
       "      <td>6</td>\n",
       "      <td>8</td>\n",
       "    </tr>\n",
       "    <tr>\n",
       "      <th>2</th>\n",
       "      <td>3</td>\n",
       "      <td>6</td>\n",
       "      <td>9</td>\n",
       "      <td>12</td>\n",
       "    </tr>\n",
       "    <tr>\n",
       "      <th>3</th>\n",
       "      <td>4</td>\n",
       "      <td>8</td>\n",
       "      <td>12</td>\n",
       "      <td>16</td>\n",
       "    </tr>\n",
       "    <tr>\n",
       "      <th>4</th>\n",
       "      <td>5</td>\n",
       "      <td>10</td>\n",
       "      <td>15</td>\n",
       "      <td>20</td>\n",
       "    </tr>\n",
       "    <tr>\n",
       "      <th>5</th>\n",
       "      <td>6</td>\n",
       "      <td>12</td>\n",
       "      <td>18</td>\n",
       "      <td>24</td>\n",
       "    </tr>\n",
       "    <tr>\n",
       "      <th>6</th>\n",
       "      <td>7</td>\n",
       "      <td>14</td>\n",
       "      <td>21</td>\n",
       "      <td>28</td>\n",
       "    </tr>\n",
       "    <tr>\n",
       "      <th>7</th>\n",
       "      <td>8</td>\n",
       "      <td>16</td>\n",
       "      <td>24</td>\n",
       "      <td>32</td>\n",
       "    </tr>\n",
       "    <tr>\n",
       "      <th>8</th>\n",
       "      <td>9</td>\n",
       "      <td>18</td>\n",
       "      <td>27</td>\n",
       "      <td>36</td>\n",
       "    </tr>\n",
       "  </tbody>\n",
       "</table>\n",
       "</div>"
      ],
      "text/plain": [
       "   byOne  byTwo  byThree  byFour\n",
       "0      1      2        3       4\n",
       "1      2      4        6       8\n",
       "2      3      6        9      12\n",
       "3      4      8       12      16\n",
       "4      5     10       15      20\n",
       "5      6     12       18      24\n",
       "6      7     14       21      28\n",
       "7      8     16       24      32\n",
       "8      9     18       27      36"
      ]
     },
     "execution_count": 38,
     "metadata": {},
     "output_type": "execute_result"
    }
   ],
   "source": [
    "mt = pd.DataFrame(table, columns=['byOne', 'byTwo', 'byThree', 'byFour'])\n",
    "\n",
    "mt"
   ]
  },
  {
   "cell_type": "markdown",
   "metadata": {},
   "source": [
    "We can also provide custom indexes."
   ]
  },
  {
   "cell_type": "code",
   "execution_count": 39,
   "metadata": {},
   "outputs": [
    {
     "data": {
      "text/html": [
       "<div>\n",
       "<style scoped>\n",
       "    .dataframe tbody tr th:only-of-type {\n",
       "        vertical-align: middle;\n",
       "    }\n",
       "\n",
       "    .dataframe tbody tr th {\n",
       "        vertical-align: top;\n",
       "    }\n",
       "\n",
       "    .dataframe thead th {\n",
       "        text-align: right;\n",
       "    }\n",
       "</style>\n",
       "<table border=\"1\" class=\"dataframe\">\n",
       "  <thead>\n",
       "    <tr style=\"text-align: right;\">\n",
       "      <th></th>\n",
       "      <th>byOne</th>\n",
       "      <th>byTwo</th>\n",
       "      <th>byThree</th>\n",
       "      <th>byFour</th>\n",
       "    </tr>\n",
       "  </thead>\n",
       "  <tbody>\n",
       "    <tr>\n",
       "      <th>x1</th>\n",
       "      <td>1</td>\n",
       "      <td>2</td>\n",
       "      <td>3</td>\n",
       "      <td>4</td>\n",
       "    </tr>\n",
       "    <tr>\n",
       "      <th>x2</th>\n",
       "      <td>2</td>\n",
       "      <td>4</td>\n",
       "      <td>6</td>\n",
       "      <td>8</td>\n",
       "    </tr>\n",
       "    <tr>\n",
       "      <th>x3</th>\n",
       "      <td>3</td>\n",
       "      <td>6</td>\n",
       "      <td>9</td>\n",
       "      <td>12</td>\n",
       "    </tr>\n",
       "    <tr>\n",
       "      <th>x4</th>\n",
       "      <td>4</td>\n",
       "      <td>8</td>\n",
       "      <td>12</td>\n",
       "      <td>16</td>\n",
       "    </tr>\n",
       "    <tr>\n",
       "      <th>x5</th>\n",
       "      <td>5</td>\n",
       "      <td>10</td>\n",
       "      <td>15</td>\n",
       "      <td>20</td>\n",
       "    </tr>\n",
       "    <tr>\n",
       "      <th>x6</th>\n",
       "      <td>6</td>\n",
       "      <td>12</td>\n",
       "      <td>18</td>\n",
       "      <td>24</td>\n",
       "    </tr>\n",
       "    <tr>\n",
       "      <th>x7</th>\n",
       "      <td>7</td>\n",
       "      <td>14</td>\n",
       "      <td>21</td>\n",
       "      <td>28</td>\n",
       "    </tr>\n",
       "    <tr>\n",
       "      <th>x8</th>\n",
       "      <td>8</td>\n",
       "      <td>16</td>\n",
       "      <td>24</td>\n",
       "      <td>32</td>\n",
       "    </tr>\n",
       "    <tr>\n",
       "      <th>x9</th>\n",
       "      <td>9</td>\n",
       "      <td>18</td>\n",
       "      <td>27</td>\n",
       "      <td>36</td>\n",
       "    </tr>\n",
       "  </tbody>\n",
       "</table>\n",
       "</div>"
      ],
      "text/plain": [
       "    byOne  byTwo  byThree  byFour\n",
       "x1      1      2        3       4\n",
       "x2      2      4        6       8\n",
       "x3      3      6        9      12\n",
       "x4      4      8       12      16\n",
       "x5      5     10       15      20\n",
       "x6      6     12       18      24\n",
       "x7      7     14       21      28\n",
       "x8      8     16       24      32\n",
       "x9      9     18       27      36"
      ]
     },
     "execution_count": 39,
     "metadata": {},
     "output_type": "execute_result"
    }
   ],
   "source": [
    "mt = pd.DataFrame(table, \n",
    "                  columns=['byOne', 'byTwo', 'byThree', 'byFour'],\n",
    "                  index=['x1', 'x2', 'x3', 'x4', 'x5', 'x6', 'x7', 'x8', 'x9'])\n",
    "\n",
    "mt"
   ]
  },
  {
   "cell_type": "markdown",
   "metadata": {},
   "source": [
    "We can convert the contents of a DataFrame to a NumPy array:"
   ]
  },
  {
   "cell_type": "code",
   "execution_count": 40,
   "metadata": {},
   "outputs": [
    {
     "data": {
      "text/plain": [
       "array([[ 1,  2,  3,  4],\n",
       "       [ 2,  4,  6,  8],\n",
       "       [ 3,  6,  9, 12],\n",
       "       [ 4,  8, 12, 16],\n",
       "       [ 5, 10, 15, 20],\n",
       "       [ 6, 12, 18, 24],\n",
       "       [ 7, 14, 21, 28],\n",
       "       [ 8, 16, 24, 32],\n",
       "       [ 9, 18, 27, 36]])"
      ]
     },
     "execution_count": 40,
     "metadata": {},
     "output_type": "execute_result"
    }
   ],
   "source": [
    "mt.values"
   ]
  },
  {
   "cell_type": "markdown",
   "metadata": {},
   "source": [
    "We can get its column names:"
   ]
  },
  {
   "cell_type": "code",
   "execution_count": 41,
   "metadata": {},
   "outputs": [
    {
     "data": {
      "text/plain": [
       "Index(['byOne', 'byTwo', 'byThree', 'byFour'], dtype='object')"
      ]
     },
     "execution_count": 41,
     "metadata": {},
     "output_type": "execute_result"
    }
   ],
   "source": [
    "mt.columns"
   ]
  },
  {
   "cell_type": "markdown",
   "metadata": {},
   "source": [
    "and its indexes:"
   ]
  },
  {
   "cell_type": "code",
   "execution_count": 42,
   "metadata": {},
   "outputs": [
    {
     "data": {
      "text/plain": [
       "Index(['x1', 'x2', 'x3', 'x4', 'x5', 'x6', 'x7', 'x8', 'x9'], dtype='object')"
      ]
     },
     "execution_count": 42,
     "metadata": {},
     "output_type": "execute_result"
    }
   ],
   "source": [
    "mt.index"
   ]
  },
  {
   "cell_type": "markdown",
   "metadata": {},
   "source": [
    "### Adding new columns and rows to an existing DataFrame\n",
    "Given the DataFrame:"
   ]
  },
  {
   "cell_type": "code",
   "execution_count": 43,
   "metadata": {
    "tags": []
   },
   "outputs": [
    {
     "data": {
      "text/html": [
       "<div>\n",
       "<style scoped>\n",
       "    .dataframe tbody tr th:only-of-type {\n",
       "        vertical-align: middle;\n",
       "    }\n",
       "\n",
       "    .dataframe tbody tr th {\n",
       "        vertical-align: top;\n",
       "    }\n",
       "\n",
       "    .dataframe thead th {\n",
       "        text-align: right;\n",
       "    }\n",
       "</style>\n",
       "<table border=\"1\" class=\"dataframe\">\n",
       "  <thead>\n",
       "    <tr style=\"text-align: right;\">\n",
       "      <th></th>\n",
       "      <th>byOne</th>\n",
       "      <th>byTwo</th>\n",
       "      <th>byThree</th>\n",
       "      <th>byFour</th>\n",
       "    </tr>\n",
       "  </thead>\n",
       "  <tbody>\n",
       "    <tr>\n",
       "      <th>x1</th>\n",
       "      <td>1</td>\n",
       "      <td>2</td>\n",
       "      <td>3</td>\n",
       "      <td>4</td>\n",
       "    </tr>\n",
       "    <tr>\n",
       "      <th>x2</th>\n",
       "      <td>2</td>\n",
       "      <td>4</td>\n",
       "      <td>6</td>\n",
       "      <td>8</td>\n",
       "    </tr>\n",
       "    <tr>\n",
       "      <th>x3</th>\n",
       "      <td>3</td>\n",
       "      <td>6</td>\n",
       "      <td>9</td>\n",
       "      <td>12</td>\n",
       "    </tr>\n",
       "    <tr>\n",
       "      <th>x4</th>\n",
       "      <td>4</td>\n",
       "      <td>8</td>\n",
       "      <td>12</td>\n",
       "      <td>16</td>\n",
       "    </tr>\n",
       "    <tr>\n",
       "      <th>x5</th>\n",
       "      <td>5</td>\n",
       "      <td>10</td>\n",
       "      <td>15</td>\n",
       "      <td>20</td>\n",
       "    </tr>\n",
       "    <tr>\n",
       "      <th>x6</th>\n",
       "      <td>6</td>\n",
       "      <td>12</td>\n",
       "      <td>18</td>\n",
       "      <td>24</td>\n",
       "    </tr>\n",
       "    <tr>\n",
       "      <th>x7</th>\n",
       "      <td>7</td>\n",
       "      <td>14</td>\n",
       "      <td>21</td>\n",
       "      <td>28</td>\n",
       "    </tr>\n",
       "    <tr>\n",
       "      <th>x8</th>\n",
       "      <td>8</td>\n",
       "      <td>16</td>\n",
       "      <td>24</td>\n",
       "      <td>32</td>\n",
       "    </tr>\n",
       "    <tr>\n",
       "      <th>x9</th>\n",
       "      <td>9</td>\n",
       "      <td>18</td>\n",
       "      <td>27</td>\n",
       "      <td>36</td>\n",
       "    </tr>\n",
       "  </tbody>\n",
       "</table>\n",
       "</div>"
      ],
      "text/plain": [
       "    byOne  byTwo  byThree  byFour\n",
       "x1      1      2        3       4\n",
       "x2      2      4        6       8\n",
       "x3      3      6        9      12\n",
       "x4      4      8       12      16\n",
       "x5      5     10       15      20\n",
       "x6      6     12       18      24\n",
       "x7      7     14       21      28\n",
       "x8      8     16       24      32\n",
       "x9      9     18       27      36"
      ]
     },
     "execution_count": 43,
     "metadata": {},
     "output_type": "execute_result"
    }
   ],
   "source": [
    "mt"
   ]
  },
  {
   "cell_type": "markdown",
   "metadata": {},
   "source": [
    "We can add a new column like this:"
   ]
  },
  {
   "cell_type": "code",
   "execution_count": 44,
   "metadata": {
    "tags": []
   },
   "outputs": [
    {
     "data": {
      "text/html": [
       "<div>\n",
       "<style scoped>\n",
       "    .dataframe tbody tr th:only-of-type {\n",
       "        vertical-align: middle;\n",
       "    }\n",
       "\n",
       "    .dataframe tbody tr th {\n",
       "        vertical-align: top;\n",
       "    }\n",
       "\n",
       "    .dataframe thead th {\n",
       "        text-align: right;\n",
       "    }\n",
       "</style>\n",
       "<table border=\"1\" class=\"dataframe\">\n",
       "  <thead>\n",
       "    <tr style=\"text-align: right;\">\n",
       "      <th></th>\n",
       "      <th>byOne</th>\n",
       "      <th>byTwo</th>\n",
       "      <th>byThree</th>\n",
       "      <th>byFour</th>\n",
       "      <th>byFive</th>\n",
       "    </tr>\n",
       "  </thead>\n",
       "  <tbody>\n",
       "    <tr>\n",
       "      <th>x1</th>\n",
       "      <td>1</td>\n",
       "      <td>2</td>\n",
       "      <td>3</td>\n",
       "      <td>4</td>\n",
       "      <td>5</td>\n",
       "    </tr>\n",
       "    <tr>\n",
       "      <th>x2</th>\n",
       "      <td>2</td>\n",
       "      <td>4</td>\n",
       "      <td>6</td>\n",
       "      <td>8</td>\n",
       "      <td>10</td>\n",
       "    </tr>\n",
       "    <tr>\n",
       "      <th>x3</th>\n",
       "      <td>3</td>\n",
       "      <td>6</td>\n",
       "      <td>9</td>\n",
       "      <td>12</td>\n",
       "      <td>15</td>\n",
       "    </tr>\n",
       "    <tr>\n",
       "      <th>x4</th>\n",
       "      <td>4</td>\n",
       "      <td>8</td>\n",
       "      <td>12</td>\n",
       "      <td>16</td>\n",
       "      <td>20</td>\n",
       "    </tr>\n",
       "    <tr>\n",
       "      <th>x5</th>\n",
       "      <td>5</td>\n",
       "      <td>10</td>\n",
       "      <td>15</td>\n",
       "      <td>20</td>\n",
       "      <td>25</td>\n",
       "    </tr>\n",
       "    <tr>\n",
       "      <th>x6</th>\n",
       "      <td>6</td>\n",
       "      <td>12</td>\n",
       "      <td>18</td>\n",
       "      <td>24</td>\n",
       "      <td>30</td>\n",
       "    </tr>\n",
       "    <tr>\n",
       "      <th>x7</th>\n",
       "      <td>7</td>\n",
       "      <td>14</td>\n",
       "      <td>21</td>\n",
       "      <td>28</td>\n",
       "      <td>35</td>\n",
       "    </tr>\n",
       "    <tr>\n",
       "      <th>x8</th>\n",
       "      <td>8</td>\n",
       "      <td>16</td>\n",
       "      <td>24</td>\n",
       "      <td>32</td>\n",
       "      <td>40</td>\n",
       "    </tr>\n",
       "    <tr>\n",
       "      <th>x9</th>\n",
       "      <td>9</td>\n",
       "      <td>18</td>\n",
       "      <td>27</td>\n",
       "      <td>36</td>\n",
       "      <td>45</td>\n",
       "    </tr>\n",
       "  </tbody>\n",
       "</table>\n",
       "</div>"
      ],
      "text/plain": [
       "    byOne  byTwo  byThree  byFour  byFive\n",
       "x1      1      2        3       4       5\n",
       "x2      2      4        6       8      10\n",
       "x3      3      6        9      12      15\n",
       "x4      4      8       12      16      20\n",
       "x5      5     10       15      20      25\n",
       "x6      6     12       18      24      30\n",
       "x7      7     14       21      28      35\n",
       "x8      8     16       24      32      40\n",
       "x9      9     18       27      36      45"
      ]
     },
     "execution_count": 44,
     "metadata": {},
     "output_type": "execute_result"
    }
   ],
   "source": [
    "mt['byFive'] = 5 * np.arange(1, 10)\n",
    "\n",
    "mt"
   ]
  },
  {
   "cell_type": "markdown",
   "metadata": {},
   "source": [
    "And using the `.loc`, we can add a new row like this:"
   ]
  },
  {
   "cell_type": "code",
   "execution_count": 45,
   "metadata": {
    "tags": []
   },
   "outputs": [
    {
     "data": {
      "text/html": [
       "<div>\n",
       "<style scoped>\n",
       "    .dataframe tbody tr th:only-of-type {\n",
       "        vertical-align: middle;\n",
       "    }\n",
       "\n",
       "    .dataframe tbody tr th {\n",
       "        vertical-align: top;\n",
       "    }\n",
       "\n",
       "    .dataframe thead th {\n",
       "        text-align: right;\n",
       "    }\n",
       "</style>\n",
       "<table border=\"1\" class=\"dataframe\">\n",
       "  <thead>\n",
       "    <tr style=\"text-align: right;\">\n",
       "      <th></th>\n",
       "      <th>byOne</th>\n",
       "      <th>byTwo</th>\n",
       "      <th>byThree</th>\n",
       "      <th>byFour</th>\n",
       "      <th>byFive</th>\n",
       "    </tr>\n",
       "  </thead>\n",
       "  <tbody>\n",
       "    <tr>\n",
       "      <th>x1</th>\n",
       "      <td>1</td>\n",
       "      <td>2</td>\n",
       "      <td>3</td>\n",
       "      <td>4</td>\n",
       "      <td>5</td>\n",
       "    </tr>\n",
       "    <tr>\n",
       "      <th>x2</th>\n",
       "      <td>2</td>\n",
       "      <td>4</td>\n",
       "      <td>6</td>\n",
       "      <td>8</td>\n",
       "      <td>10</td>\n",
       "    </tr>\n",
       "    <tr>\n",
       "      <th>x3</th>\n",
       "      <td>3</td>\n",
       "      <td>6</td>\n",
       "      <td>9</td>\n",
       "      <td>12</td>\n",
       "      <td>15</td>\n",
       "    </tr>\n",
       "    <tr>\n",
       "      <th>x4</th>\n",
       "      <td>4</td>\n",
       "      <td>8</td>\n",
       "      <td>12</td>\n",
       "      <td>16</td>\n",
       "      <td>20</td>\n",
       "    </tr>\n",
       "    <tr>\n",
       "      <th>x5</th>\n",
       "      <td>5</td>\n",
       "      <td>10</td>\n",
       "      <td>15</td>\n",
       "      <td>20</td>\n",
       "      <td>25</td>\n",
       "    </tr>\n",
       "    <tr>\n",
       "      <th>x6</th>\n",
       "      <td>6</td>\n",
       "      <td>12</td>\n",
       "      <td>18</td>\n",
       "      <td>24</td>\n",
       "      <td>30</td>\n",
       "    </tr>\n",
       "    <tr>\n",
       "      <th>x7</th>\n",
       "      <td>7</td>\n",
       "      <td>14</td>\n",
       "      <td>21</td>\n",
       "      <td>28</td>\n",
       "      <td>35</td>\n",
       "    </tr>\n",
       "    <tr>\n",
       "      <th>x8</th>\n",
       "      <td>8</td>\n",
       "      <td>16</td>\n",
       "      <td>24</td>\n",
       "      <td>32</td>\n",
       "      <td>40</td>\n",
       "    </tr>\n",
       "    <tr>\n",
       "      <th>x9</th>\n",
       "      <td>9</td>\n",
       "      <td>18</td>\n",
       "      <td>27</td>\n",
       "      <td>36</td>\n",
       "      <td>45</td>\n",
       "    </tr>\n",
       "    <tr>\n",
       "      <th>x10</th>\n",
       "      <td>10</td>\n",
       "      <td>20</td>\n",
       "      <td>30</td>\n",
       "      <td>40</td>\n",
       "      <td>50</td>\n",
       "    </tr>\n",
       "  </tbody>\n",
       "</table>\n",
       "</div>"
      ],
      "text/plain": [
       "     byOne  byTwo  byThree  byFour  byFive\n",
       "x1       1      2        3       4       5\n",
       "x2       2      4        6       8      10\n",
       "x3       3      6        9      12      15\n",
       "x4       4      8       12      16      20\n",
       "x5       5     10       15      20      25\n",
       "x6       6     12       18      24      30\n",
       "x7       7     14       21      28      35\n",
       "x8       8     16       24      32      40\n",
       "x9       9     18       27      36      45\n",
       "x10     10     20       30      40      50"
      ]
     },
     "execution_count": 45,
     "metadata": {},
     "output_type": "execute_result"
    }
   ],
   "source": [
    "mt.loc['x10'] = 10 * np.arange(1, 6)\n",
    "mt"
   ]
  },
  {
   "cell_type": "markdown",
   "metadata": {},
   "source": [
    "### Dropping a column or a row from a DataFrame\n",
    "We can use the `drop` method to remove a column from a DataFrame. Let's remove the column `byFive` we added above:"
   ]
  },
  {
   "cell_type": "code",
   "execution_count": 46,
   "metadata": {},
   "outputs": [
    {
     "data": {
      "text/html": [
       "<div>\n",
       "<style scoped>\n",
       "    .dataframe tbody tr th:only-of-type {\n",
       "        vertical-align: middle;\n",
       "    }\n",
       "\n",
       "    .dataframe tbody tr th {\n",
       "        vertical-align: top;\n",
       "    }\n",
       "\n",
       "    .dataframe thead th {\n",
       "        text-align: right;\n",
       "    }\n",
       "</style>\n",
       "<table border=\"1\" class=\"dataframe\">\n",
       "  <thead>\n",
       "    <tr style=\"text-align: right;\">\n",
       "      <th></th>\n",
       "      <th>byOne</th>\n",
       "      <th>byTwo</th>\n",
       "      <th>byThree</th>\n",
       "      <th>byFour</th>\n",
       "    </tr>\n",
       "  </thead>\n",
       "  <tbody>\n",
       "    <tr>\n",
       "      <th>x1</th>\n",
       "      <td>1</td>\n",
       "      <td>2</td>\n",
       "      <td>3</td>\n",
       "      <td>4</td>\n",
       "    </tr>\n",
       "    <tr>\n",
       "      <th>x2</th>\n",
       "      <td>2</td>\n",
       "      <td>4</td>\n",
       "      <td>6</td>\n",
       "      <td>8</td>\n",
       "    </tr>\n",
       "    <tr>\n",
       "      <th>x3</th>\n",
       "      <td>3</td>\n",
       "      <td>6</td>\n",
       "      <td>9</td>\n",
       "      <td>12</td>\n",
       "    </tr>\n",
       "    <tr>\n",
       "      <th>x4</th>\n",
       "      <td>4</td>\n",
       "      <td>8</td>\n",
       "      <td>12</td>\n",
       "      <td>16</td>\n",
       "    </tr>\n",
       "    <tr>\n",
       "      <th>x5</th>\n",
       "      <td>5</td>\n",
       "      <td>10</td>\n",
       "      <td>15</td>\n",
       "      <td>20</td>\n",
       "    </tr>\n",
       "    <tr>\n",
       "      <th>x6</th>\n",
       "      <td>6</td>\n",
       "      <td>12</td>\n",
       "      <td>18</td>\n",
       "      <td>24</td>\n",
       "    </tr>\n",
       "    <tr>\n",
       "      <th>x7</th>\n",
       "      <td>7</td>\n",
       "      <td>14</td>\n",
       "      <td>21</td>\n",
       "      <td>28</td>\n",
       "    </tr>\n",
       "    <tr>\n",
       "      <th>x8</th>\n",
       "      <td>8</td>\n",
       "      <td>16</td>\n",
       "      <td>24</td>\n",
       "      <td>32</td>\n",
       "    </tr>\n",
       "    <tr>\n",
       "      <th>x9</th>\n",
       "      <td>9</td>\n",
       "      <td>18</td>\n",
       "      <td>27</td>\n",
       "      <td>36</td>\n",
       "    </tr>\n",
       "    <tr>\n",
       "      <th>x10</th>\n",
       "      <td>10</td>\n",
       "      <td>20</td>\n",
       "      <td>30</td>\n",
       "      <td>40</td>\n",
       "    </tr>\n",
       "  </tbody>\n",
       "</table>\n",
       "</div>"
      ],
      "text/plain": [
       "     byOne  byTwo  byThree  byFour\n",
       "x1       1      2        3       4\n",
       "x2       2      4        6       8\n",
       "x3       3      6        9      12\n",
       "x4       4      8       12      16\n",
       "x5       5     10       15      20\n",
       "x6       6     12       18      24\n",
       "x7       7     14       21      28\n",
       "x8       8     16       24      32\n",
       "x9       9     18       27      36\n",
       "x10     10     20       30      40"
      ]
     },
     "execution_count": 46,
     "metadata": {},
     "output_type": "execute_result"
    }
   ],
   "source": [
    "mt.drop(['byFive'], axis=1)"
   ]
  },
  {
   "cell_type": "markdown",
   "metadata": {},
   "source": [
    "Here `axis=1` refers to columns. To drop a row we use `axis=0` and provide a index instead of a column name."
   ]
  },
  {
   "cell_type": "code",
   "execution_count": 47,
   "metadata": {},
   "outputs": [
    {
     "data": {
      "text/html": [
       "<div>\n",
       "<style scoped>\n",
       "    .dataframe tbody tr th:only-of-type {\n",
       "        vertical-align: middle;\n",
       "    }\n",
       "\n",
       "    .dataframe tbody tr th {\n",
       "        vertical-align: top;\n",
       "    }\n",
       "\n",
       "    .dataframe thead th {\n",
       "        text-align: right;\n",
       "    }\n",
       "</style>\n",
       "<table border=\"1\" class=\"dataframe\">\n",
       "  <thead>\n",
       "    <tr style=\"text-align: right;\">\n",
       "      <th></th>\n",
       "      <th>byOne</th>\n",
       "      <th>byTwo</th>\n",
       "      <th>byThree</th>\n",
       "      <th>byFour</th>\n",
       "      <th>byFive</th>\n",
       "    </tr>\n",
       "  </thead>\n",
       "  <tbody>\n",
       "    <tr>\n",
       "      <th>x1</th>\n",
       "      <td>1</td>\n",
       "      <td>2</td>\n",
       "      <td>3</td>\n",
       "      <td>4</td>\n",
       "      <td>5</td>\n",
       "    </tr>\n",
       "    <tr>\n",
       "      <th>x2</th>\n",
       "      <td>2</td>\n",
       "      <td>4</td>\n",
       "      <td>6</td>\n",
       "      <td>8</td>\n",
       "      <td>10</td>\n",
       "    </tr>\n",
       "    <tr>\n",
       "      <th>x3</th>\n",
       "      <td>3</td>\n",
       "      <td>6</td>\n",
       "      <td>9</td>\n",
       "      <td>12</td>\n",
       "      <td>15</td>\n",
       "    </tr>\n",
       "    <tr>\n",
       "      <th>x4</th>\n",
       "      <td>4</td>\n",
       "      <td>8</td>\n",
       "      <td>12</td>\n",
       "      <td>16</td>\n",
       "      <td>20</td>\n",
       "    </tr>\n",
       "    <tr>\n",
       "      <th>x5</th>\n",
       "      <td>5</td>\n",
       "      <td>10</td>\n",
       "      <td>15</td>\n",
       "      <td>20</td>\n",
       "      <td>25</td>\n",
       "    </tr>\n",
       "    <tr>\n",
       "      <th>x6</th>\n",
       "      <td>6</td>\n",
       "      <td>12</td>\n",
       "      <td>18</td>\n",
       "      <td>24</td>\n",
       "      <td>30</td>\n",
       "    </tr>\n",
       "    <tr>\n",
       "      <th>x7</th>\n",
       "      <td>7</td>\n",
       "      <td>14</td>\n",
       "      <td>21</td>\n",
       "      <td>28</td>\n",
       "      <td>35</td>\n",
       "    </tr>\n",
       "    <tr>\n",
       "      <th>x8</th>\n",
       "      <td>8</td>\n",
       "      <td>16</td>\n",
       "      <td>24</td>\n",
       "      <td>32</td>\n",
       "      <td>40</td>\n",
       "    </tr>\n",
       "    <tr>\n",
       "      <th>x9</th>\n",
       "      <td>9</td>\n",
       "      <td>18</td>\n",
       "      <td>27</td>\n",
       "      <td>36</td>\n",
       "      <td>45</td>\n",
       "    </tr>\n",
       "  </tbody>\n",
       "</table>\n",
       "</div>"
      ],
      "text/plain": [
       "    byOne  byTwo  byThree  byFour  byFive\n",
       "x1      1      2        3       4       5\n",
       "x2      2      4        6       8      10\n",
       "x3      3      6        9      12      15\n",
       "x4      4      8       12      16      20\n",
       "x5      5     10       15      20      25\n",
       "x6      6     12       18      24      30\n",
       "x7      7     14       21      28      35\n",
       "x8      8     16       24      32      40\n",
       "x9      9     18       27      36      45"
      ]
     },
     "execution_count": 47,
     "metadata": {},
     "output_type": "execute_result"
    }
   ],
   "source": [
    "mt.drop(['x10'], axis=0)"
   ]
  },
  {
   "cell_type": "markdown",
   "metadata": {},
   "source": [
    "### DataFrame indexing and slicing\n",
    "\n",
    "We can use the column names and indexes to access individual cells."
   ]
  },
  {
   "cell_type": "code",
   "execution_count": 48,
   "metadata": {},
   "outputs": [
    {
     "data": {
      "text/plain": [
       "10"
      ]
     },
     "execution_count": 48,
     "metadata": {},
     "output_type": "execute_result"
    }
   ],
   "source": [
    "mt['byTwo']['x5']"
   ]
  },
  {
   "cell_type": "markdown",
   "metadata": {},
   "source": [
    "To extract a single column, use its name:"
   ]
  },
  {
   "cell_type": "code",
   "execution_count": 49,
   "metadata": {},
   "outputs": [
    {
     "data": {
      "text/plain": [
       "x1      3\n",
       "x2      6\n",
       "x3      9\n",
       "x4     12\n",
       "x5     15\n",
       "x6     18\n",
       "x7     21\n",
       "x8     24\n",
       "x9     27\n",
       "x10    30\n",
       "Name: byThree, dtype: int64"
      ]
     },
     "execution_count": 49,
     "metadata": {},
     "output_type": "execute_result"
    }
   ],
   "source": [
    "mt['byThree']"
   ]
  },
  {
   "cell_type": "markdown",
   "metadata": {},
   "source": [
    "And use an array of column names to extract multiple columns"
   ]
  },
  {
   "cell_type": "code",
   "execution_count": 50,
   "metadata": {
    "tags": []
   },
   "outputs": [
    {
     "data": {
      "text/html": [
       "<div>\n",
       "<style scoped>\n",
       "    .dataframe tbody tr th:only-of-type {\n",
       "        vertical-align: middle;\n",
       "    }\n",
       "\n",
       "    .dataframe tbody tr th {\n",
       "        vertical-align: top;\n",
       "    }\n",
       "\n",
       "    .dataframe thead th {\n",
       "        text-align: right;\n",
       "    }\n",
       "</style>\n",
       "<table border=\"1\" class=\"dataframe\">\n",
       "  <thead>\n",
       "    <tr style=\"text-align: right;\">\n",
       "      <th></th>\n",
       "      <th>byTwo</th>\n",
       "      <th>byFour</th>\n",
       "    </tr>\n",
       "  </thead>\n",
       "  <tbody>\n",
       "    <tr>\n",
       "      <th>x1</th>\n",
       "      <td>2</td>\n",
       "      <td>4</td>\n",
       "    </tr>\n",
       "    <tr>\n",
       "      <th>x2</th>\n",
       "      <td>4</td>\n",
       "      <td>8</td>\n",
       "    </tr>\n",
       "    <tr>\n",
       "      <th>x3</th>\n",
       "      <td>6</td>\n",
       "      <td>12</td>\n",
       "    </tr>\n",
       "    <tr>\n",
       "      <th>x4</th>\n",
       "      <td>8</td>\n",
       "      <td>16</td>\n",
       "    </tr>\n",
       "    <tr>\n",
       "      <th>x5</th>\n",
       "      <td>10</td>\n",
       "      <td>20</td>\n",
       "    </tr>\n",
       "    <tr>\n",
       "      <th>x6</th>\n",
       "      <td>12</td>\n",
       "      <td>24</td>\n",
       "    </tr>\n",
       "    <tr>\n",
       "      <th>x7</th>\n",
       "      <td>14</td>\n",
       "      <td>28</td>\n",
       "    </tr>\n",
       "    <tr>\n",
       "      <th>x8</th>\n",
       "      <td>16</td>\n",
       "      <td>32</td>\n",
       "    </tr>\n",
       "    <tr>\n",
       "      <th>x9</th>\n",
       "      <td>18</td>\n",
       "      <td>36</td>\n",
       "    </tr>\n",
       "    <tr>\n",
       "      <th>x10</th>\n",
       "      <td>20</td>\n",
       "      <td>40</td>\n",
       "    </tr>\n",
       "  </tbody>\n",
       "</table>\n",
       "</div>"
      ],
      "text/plain": [
       "     byTwo  byFour\n",
       "x1       2       4\n",
       "x2       4       8\n",
       "x3       6      12\n",
       "x4       8      16\n",
       "x5      10      20\n",
       "x6      12      24\n",
       "x7      14      28\n",
       "x8      16      32\n",
       "x9      18      36\n",
       "x10     20      40"
      ]
     },
     "execution_count": 50,
     "metadata": {},
     "output_type": "execute_result"
    }
   ],
   "source": [
    "mt[['byTwo', 'byFour']]"
   ]
  },
  {
   "cell_type": "markdown",
   "metadata": {},
   "source": [
    "Use `.loc` to access a specific row using its index:"
   ]
  },
  {
   "cell_type": "code",
   "execution_count": 51,
   "metadata": {},
   "outputs": [
    {
     "data": {
      "text/plain": [
       "byOne       6\n",
       "byTwo      12\n",
       "byThree    18\n",
       "byFour     24\n",
       "byFive     30\n",
       "Name: x6, dtype: int64"
      ]
     },
     "execution_count": 51,
     "metadata": {},
     "output_type": "execute_result"
    }
   ],
   "source": [
    "mt.loc['x6']"
   ]
  },
  {
   "cell_type": "markdown",
   "metadata": {},
   "source": [
    "Similarly we can extract rows using their index positions using `.iloc[]`. We can, for example extract the first row using the its index position `0` (the index itself is `x1`)."
   ]
  },
  {
   "cell_type": "code",
   "execution_count": 52,
   "metadata": {},
   "outputs": [
    {
     "data": {
      "text/plain": [
       "byOne      1\n",
       "byTwo      2\n",
       "byThree    3\n",
       "byFour     4\n",
       "byFive     5\n",
       "Name: x1, dtype: int64"
      ]
     },
     "execution_count": 52,
     "metadata": {},
     "output_type": "execute_result"
    }
   ],
   "source": [
    "mt.iloc[0]"
   ]
  },
  {
   "cell_type": "markdown",
   "metadata": {},
   "source": [
    "We can also use `.iloc` to access certain columns and rows based on their positions, much like the indexing and slicing of a two-dimensional NumPy array. Here is the whole DataFrame:"
   ]
  },
  {
   "cell_type": "code",
   "execution_count": 53,
   "metadata": {
    "tags": []
   },
   "outputs": [
    {
     "data": {
      "text/html": [
       "<div>\n",
       "<style scoped>\n",
       "    .dataframe tbody tr th:only-of-type {\n",
       "        vertical-align: middle;\n",
       "    }\n",
       "\n",
       "    .dataframe tbody tr th {\n",
       "        vertical-align: top;\n",
       "    }\n",
       "\n",
       "    .dataframe thead th {\n",
       "        text-align: right;\n",
       "    }\n",
       "</style>\n",
       "<table border=\"1\" class=\"dataframe\">\n",
       "  <thead>\n",
       "    <tr style=\"text-align: right;\">\n",
       "      <th></th>\n",
       "      <th>byOne</th>\n",
       "      <th>byTwo</th>\n",
       "      <th>byThree</th>\n",
       "      <th>byFour</th>\n",
       "      <th>byFive</th>\n",
       "    </tr>\n",
       "  </thead>\n",
       "  <tbody>\n",
       "    <tr>\n",
       "      <th>x1</th>\n",
       "      <td>1</td>\n",
       "      <td>2</td>\n",
       "      <td>3</td>\n",
       "      <td>4</td>\n",
       "      <td>5</td>\n",
       "    </tr>\n",
       "    <tr>\n",
       "      <th>x2</th>\n",
       "      <td>2</td>\n",
       "      <td>4</td>\n",
       "      <td>6</td>\n",
       "      <td>8</td>\n",
       "      <td>10</td>\n",
       "    </tr>\n",
       "    <tr>\n",
       "      <th>x3</th>\n",
       "      <td>3</td>\n",
       "      <td>6</td>\n",
       "      <td>9</td>\n",
       "      <td>12</td>\n",
       "      <td>15</td>\n",
       "    </tr>\n",
       "    <tr>\n",
       "      <th>x4</th>\n",
       "      <td>4</td>\n",
       "      <td>8</td>\n",
       "      <td>12</td>\n",
       "      <td>16</td>\n",
       "      <td>20</td>\n",
       "    </tr>\n",
       "    <tr>\n",
       "      <th>x5</th>\n",
       "      <td>5</td>\n",
       "      <td>10</td>\n",
       "      <td>15</td>\n",
       "      <td>20</td>\n",
       "      <td>25</td>\n",
       "    </tr>\n",
       "    <tr>\n",
       "      <th>x6</th>\n",
       "      <td>6</td>\n",
       "      <td>12</td>\n",
       "      <td>18</td>\n",
       "      <td>24</td>\n",
       "      <td>30</td>\n",
       "    </tr>\n",
       "    <tr>\n",
       "      <th>x7</th>\n",
       "      <td>7</td>\n",
       "      <td>14</td>\n",
       "      <td>21</td>\n",
       "      <td>28</td>\n",
       "      <td>35</td>\n",
       "    </tr>\n",
       "    <tr>\n",
       "      <th>x8</th>\n",
       "      <td>8</td>\n",
       "      <td>16</td>\n",
       "      <td>24</td>\n",
       "      <td>32</td>\n",
       "      <td>40</td>\n",
       "    </tr>\n",
       "    <tr>\n",
       "      <th>x9</th>\n",
       "      <td>9</td>\n",
       "      <td>18</td>\n",
       "      <td>27</td>\n",
       "      <td>36</td>\n",
       "      <td>45</td>\n",
       "    </tr>\n",
       "    <tr>\n",
       "      <th>x10</th>\n",
       "      <td>10</td>\n",
       "      <td>20</td>\n",
       "      <td>30</td>\n",
       "      <td>40</td>\n",
       "      <td>50</td>\n",
       "    </tr>\n",
       "  </tbody>\n",
       "</table>\n",
       "</div>"
      ],
      "text/plain": [
       "     byOne  byTwo  byThree  byFour  byFive\n",
       "x1       1      2        3       4       5\n",
       "x2       2      4        6       8      10\n",
       "x3       3      6        9      12      15\n",
       "x4       4      8       12      16      20\n",
       "x5       5     10       15      20      25\n",
       "x6       6     12       18      24      30\n",
       "x7       7     14       21      28      35\n",
       "x8       8     16       24      32      40\n",
       "x9       9     18       27      36      45\n",
       "x10     10     20       30      40      50"
      ]
     },
     "execution_count": 53,
     "metadata": {},
     "output_type": "execute_result"
    }
   ],
   "source": [
    "mt.iloc[:, :]"
   ]
  },
  {
   "cell_type": "markdown",
   "metadata": {},
   "source": [
    "In the `[:, :]` expression, the first `:` refers to all rows and the second `:` refers to all columns.\n",
    "\n",
    "Here is a slice from the third(position 2) row to the sixth (position 5) and from the second column (position 1) to the fifth column(position 4)."
   ]
  },
  {
   "cell_type": "code",
   "execution_count": 54,
   "metadata": {},
   "outputs": [
    {
     "data": {
      "text/html": [
       "<div>\n",
       "<style scoped>\n",
       "    .dataframe tbody tr th:only-of-type {\n",
       "        vertical-align: middle;\n",
       "    }\n",
       "\n",
       "    .dataframe tbody tr th {\n",
       "        vertical-align: top;\n",
       "    }\n",
       "\n",
       "    .dataframe thead th {\n",
       "        text-align: right;\n",
       "    }\n",
       "</style>\n",
       "<table border=\"1\" class=\"dataframe\">\n",
       "  <thead>\n",
       "    <tr style=\"text-align: right;\">\n",
       "      <th></th>\n",
       "      <th>byTwo</th>\n",
       "      <th>byThree</th>\n",
       "      <th>byFour</th>\n",
       "    </tr>\n",
       "  </thead>\n",
       "  <tbody>\n",
       "    <tr>\n",
       "      <th>x3</th>\n",
       "      <td>6</td>\n",
       "      <td>9</td>\n",
       "      <td>12</td>\n",
       "    </tr>\n",
       "    <tr>\n",
       "      <th>x4</th>\n",
       "      <td>8</td>\n",
       "      <td>12</td>\n",
       "      <td>16</td>\n",
       "    </tr>\n",
       "    <tr>\n",
       "      <th>x5</th>\n",
       "      <td>10</td>\n",
       "      <td>15</td>\n",
       "      <td>20</td>\n",
       "    </tr>\n",
       "  </tbody>\n",
       "</table>\n",
       "</div>"
      ],
      "text/plain": [
       "    byTwo  byThree  byFour\n",
       "x3      6        9      12\n",
       "x4      8       12      16\n",
       "x5     10       15      20"
      ]
     },
     "execution_count": 54,
     "metadata": {},
     "output_type": "execute_result"
    }
   ],
   "source": [
    "mt.iloc[2:5, 1:4]"
   ]
  },
  {
   "cell_type": "markdown",
   "metadata": {},
   "source": [
    "And here is every other column and row."
   ]
  },
  {
   "cell_type": "code",
   "execution_count": 55,
   "metadata": {},
   "outputs": [
    {
     "data": {
      "text/html": [
       "<div>\n",
       "<style scoped>\n",
       "    .dataframe tbody tr th:only-of-type {\n",
       "        vertical-align: middle;\n",
       "    }\n",
       "\n",
       "    .dataframe tbody tr th {\n",
       "        vertical-align: top;\n",
       "    }\n",
       "\n",
       "    .dataframe thead th {\n",
       "        text-align: right;\n",
       "    }\n",
       "</style>\n",
       "<table border=\"1\" class=\"dataframe\">\n",
       "  <thead>\n",
       "    <tr style=\"text-align: right;\">\n",
       "      <th></th>\n",
       "      <th>byOne</th>\n",
       "      <th>byThree</th>\n",
       "      <th>byFive</th>\n",
       "    </tr>\n",
       "  </thead>\n",
       "  <tbody>\n",
       "    <tr>\n",
       "      <th>x1</th>\n",
       "      <td>1</td>\n",
       "      <td>3</td>\n",
       "      <td>5</td>\n",
       "    </tr>\n",
       "    <tr>\n",
       "      <th>x3</th>\n",
       "      <td>3</td>\n",
       "      <td>9</td>\n",
       "      <td>15</td>\n",
       "    </tr>\n",
       "    <tr>\n",
       "      <th>x5</th>\n",
       "      <td>5</td>\n",
       "      <td>15</td>\n",
       "      <td>25</td>\n",
       "    </tr>\n",
       "    <tr>\n",
       "      <th>x7</th>\n",
       "      <td>7</td>\n",
       "      <td>21</td>\n",
       "      <td>35</td>\n",
       "    </tr>\n",
       "    <tr>\n",
       "      <th>x9</th>\n",
       "      <td>9</td>\n",
       "      <td>27</td>\n",
       "      <td>45</td>\n",
       "    </tr>\n",
       "  </tbody>\n",
       "</table>\n",
       "</div>"
      ],
      "text/plain": [
       "    byOne  byThree  byFive\n",
       "x1      1        3       5\n",
       "x3      3        9      15\n",
       "x5      5       15      25\n",
       "x7      7       21      35\n",
       "x9      9       27      45"
      ]
     },
     "execution_count": 55,
     "metadata": {},
     "output_type": "execute_result"
    }
   ],
   "source": [
    "mt.iloc[::2, ::2]"
   ]
  },
  {
   "cell_type": "markdown",
   "metadata": {},
   "source": [
    "Finally we can use the methods `head` and `tail` to display the first couple of rows at the top or the bottom of a DataFrame. This is useful for exploring large dataframes."
   ]
  },
  {
   "cell_type": "code",
   "execution_count": 56,
   "metadata": {},
   "outputs": [
    {
     "name": "stdout",
     "output_type": "stream",
     "text": [
      "    byOne  byTwo  byThree  byFour  byFive\n",
      "x1      1      2        3       4       5\n",
      "x2      2      4        6       8      10\n",
      "x3      3      6        9      12      15\n",
      "x4      4      8       12      16      20\n",
      "x5      5     10       15      20      25\n",
      "    byOne  byTwo  byThree  byFour  byFive\n",
      "x1      1      2        3       4       5\n",
      "x2      2      4        6       8      10\n",
      "x3      3      6        9      12      15\n",
      "x4      4      8       12      16      20\n",
      "x5      5     10       15      20      25\n",
      "x6      6     12       18      24      30\n",
      "     byOne  byTwo  byThree  byFour  byFive\n",
      "x6       6     12       18      24      30\n",
      "x7       7     14       21      28      35\n",
      "x8       8     16       24      32      40\n",
      "x9       9     18       27      36      45\n",
      "x10     10     20       30      40      50\n",
      "     byOne  byTwo  byThree  byFour  byFive\n",
      "x4       4      8       12      16      20\n",
      "x5       5     10       15      20      25\n",
      "x6       6     12       18      24      30\n",
      "x7       7     14       21      28      35\n",
      "x8       8     16       24      32      40\n",
      "x9       9     18       27      36      45\n",
      "x10     10     20       30      40      50\n"
     ]
    }
   ],
   "source": [
    "print(mt.head())\n",
    "print(mt.head(6))\n",
    "\n",
    "print(mt.tail())\n",
    "print(mt.tail(7))"
   ]
  },
  {
   "cell_type": "markdown",
   "metadata": {},
   "source": [
    "### Summarizing dataframes\n",
    "Given the following 50 by 10 DataFrame:"
   ]
  },
  {
   "cell_type": "code",
   "execution_count": 57,
   "metadata": {},
   "outputs": [],
   "source": [
    "data = pd.DataFrame(np.random.randn(50,10), columns=list('ABCDEFGHIJ'))"
   ]
  },
  {
   "cell_type": "code",
   "execution_count": 58,
   "metadata": {},
   "outputs": [
    {
     "data": {
      "text/html": [
       "<div>\n",
       "<style scoped>\n",
       "    .dataframe tbody tr th:only-of-type {\n",
       "        vertical-align: middle;\n",
       "    }\n",
       "\n",
       "    .dataframe tbody tr th {\n",
       "        vertical-align: top;\n",
       "    }\n",
       "\n",
       "    .dataframe thead th {\n",
       "        text-align: right;\n",
       "    }\n",
       "</style>\n",
       "<table border=\"1\" class=\"dataframe\">\n",
       "  <thead>\n",
       "    <tr style=\"text-align: right;\">\n",
       "      <th></th>\n",
       "      <th>A</th>\n",
       "      <th>B</th>\n",
       "      <th>C</th>\n",
       "      <th>D</th>\n",
       "      <th>E</th>\n",
       "      <th>F</th>\n",
       "      <th>G</th>\n",
       "      <th>H</th>\n",
       "      <th>I</th>\n",
       "      <th>J</th>\n",
       "    </tr>\n",
       "  </thead>\n",
       "  <tbody>\n",
       "    <tr>\n",
       "      <th>0</th>\n",
       "      <td>0.733276</td>\n",
       "      <td>-0.342386</td>\n",
       "      <td>1.410603</td>\n",
       "      <td>-2.154478</td>\n",
       "      <td>0.654737</td>\n",
       "      <td>0.995158</td>\n",
       "      <td>-0.720911</td>\n",
       "      <td>-1.433215</td>\n",
       "      <td>-0.398798</td>\n",
       "      <td>-2.220342</td>\n",
       "    </tr>\n",
       "    <tr>\n",
       "      <th>1</th>\n",
       "      <td>-1.116380</td>\n",
       "      <td>-0.666719</td>\n",
       "      <td>0.268802</td>\n",
       "      <td>-2.159837</td>\n",
       "      <td>0.013830</td>\n",
       "      <td>2.060263</td>\n",
       "      <td>0.971307</td>\n",
       "      <td>-0.289935</td>\n",
       "      <td>0.743694</td>\n",
       "      <td>0.292744</td>\n",
       "    </tr>\n",
       "    <tr>\n",
       "      <th>2</th>\n",
       "      <td>0.126154</td>\n",
       "      <td>-0.143216</td>\n",
       "      <td>-1.100917</td>\n",
       "      <td>-0.829872</td>\n",
       "      <td>-0.038187</td>\n",
       "      <td>-1.418361</td>\n",
       "      <td>-0.486728</td>\n",
       "      <td>-0.354431</td>\n",
       "      <td>0.198931</td>\n",
       "      <td>-1.691048</td>\n",
       "    </tr>\n",
       "    <tr>\n",
       "      <th>3</th>\n",
       "      <td>0.333132</td>\n",
       "      <td>-0.419473</td>\n",
       "      <td>1.596589</td>\n",
       "      <td>0.981824</td>\n",
       "      <td>0.856074</td>\n",
       "      <td>1.070598</td>\n",
       "      <td>1.215529</td>\n",
       "      <td>1.604969</td>\n",
       "      <td>0.601560</td>\n",
       "      <td>-0.963667</td>\n",
       "    </tr>\n",
       "    <tr>\n",
       "      <th>4</th>\n",
       "      <td>0.064683</td>\n",
       "      <td>0.520477</td>\n",
       "      <td>0.461204</td>\n",
       "      <td>0.471319</td>\n",
       "      <td>0.734359</td>\n",
       "      <td>-1.086613</td>\n",
       "      <td>-0.514328</td>\n",
       "      <td>-1.594676</td>\n",
       "      <td>-1.134257</td>\n",
       "      <td>1.026236</td>\n",
       "    </tr>\n",
       "  </tbody>\n",
       "</table>\n",
       "</div>"
      ],
      "text/plain": [
       "          A         B         C         D         E         F         G  \\\n",
       "0  0.733276 -0.342386  1.410603 -2.154478  0.654737  0.995158 -0.720911   \n",
       "1 -1.116380 -0.666719  0.268802 -2.159837  0.013830  2.060263  0.971307   \n",
       "2  0.126154 -0.143216 -1.100917 -0.829872 -0.038187 -1.418361 -0.486728   \n",
       "3  0.333132 -0.419473  1.596589  0.981824  0.856074  1.070598  1.215529   \n",
       "4  0.064683  0.520477  0.461204  0.471319  0.734359 -1.086613 -0.514328   \n",
       "\n",
       "          H         I         J  \n",
       "0 -1.433215 -0.398798 -2.220342  \n",
       "1 -0.289935  0.743694  0.292744  \n",
       "2 -0.354431  0.198931 -1.691048  \n",
       "3  1.604969  0.601560 -0.963667  \n",
       "4 -1.594676 -1.134257  1.026236  "
      ]
     },
     "execution_count": 58,
     "metadata": {},
     "output_type": "execute_result"
    }
   ],
   "source": [
    "data.head()"
   ]
  },
  {
   "cell_type": "markdown",
   "metadata": {},
   "source": [
    "We can statistically summarize it like this:"
   ]
  },
  {
   "cell_type": "code",
   "execution_count": 59,
   "metadata": {
    "tags": []
   },
   "outputs": [
    {
     "data": {
      "text/html": [
       "<div>\n",
       "<style scoped>\n",
       "    .dataframe tbody tr th:only-of-type {\n",
       "        vertical-align: middle;\n",
       "    }\n",
       "\n",
       "    .dataframe tbody tr th {\n",
       "        vertical-align: top;\n",
       "    }\n",
       "\n",
       "    .dataframe thead th {\n",
       "        text-align: right;\n",
       "    }\n",
       "</style>\n",
       "<table border=\"1\" class=\"dataframe\">\n",
       "  <thead>\n",
       "    <tr style=\"text-align: right;\">\n",
       "      <th></th>\n",
       "      <th>A</th>\n",
       "      <th>B</th>\n",
       "      <th>C</th>\n",
       "      <th>D</th>\n",
       "      <th>E</th>\n",
       "      <th>F</th>\n",
       "      <th>G</th>\n",
       "      <th>H</th>\n",
       "      <th>I</th>\n",
       "      <th>J</th>\n",
       "    </tr>\n",
       "  </thead>\n",
       "  <tbody>\n",
       "    <tr>\n",
       "      <th>count</th>\n",
       "      <td>50.000000</td>\n",
       "      <td>50.000000</td>\n",
       "      <td>50.000000</td>\n",
       "      <td>50.000000</td>\n",
       "      <td>50.000000</td>\n",
       "      <td>50.000000</td>\n",
       "      <td>50.000000</td>\n",
       "      <td>50.000000</td>\n",
       "      <td>50.000000</td>\n",
       "      <td>50.000000</td>\n",
       "    </tr>\n",
       "    <tr>\n",
       "      <th>mean</th>\n",
       "      <td>0.136994</td>\n",
       "      <td>-0.157965</td>\n",
       "      <td>0.075888</td>\n",
       "      <td>-0.080505</td>\n",
       "      <td>-0.022497</td>\n",
       "      <td>0.075718</td>\n",
       "      <td>-0.216367</td>\n",
       "      <td>0.015642</td>\n",
       "      <td>0.205468</td>\n",
       "      <td>-0.348042</td>\n",
       "    </tr>\n",
       "    <tr>\n",
       "      <th>std</th>\n",
       "      <td>0.796087</td>\n",
       "      <td>1.100161</td>\n",
       "      <td>0.967628</td>\n",
       "      <td>0.985961</td>\n",
       "      <td>0.968178</td>\n",
       "      <td>1.069319</td>\n",
       "      <td>1.018116</td>\n",
       "      <td>1.059452</td>\n",
       "      <td>1.065991</td>\n",
       "      <td>1.055660</td>\n",
       "    </tr>\n",
       "    <tr>\n",
       "      <th>min</th>\n",
       "      <td>-1.633764</td>\n",
       "      <td>-2.544412</td>\n",
       "      <td>-2.101232</td>\n",
       "      <td>-2.159837</td>\n",
       "      <td>-3.056763</td>\n",
       "      <td>-1.981979</td>\n",
       "      <td>-2.551686</td>\n",
       "      <td>-2.504076</td>\n",
       "      <td>-2.378567</td>\n",
       "      <td>-2.331976</td>\n",
       "    </tr>\n",
       "    <tr>\n",
       "      <th>25%</th>\n",
       "      <td>-0.456141</td>\n",
       "      <td>-0.930337</td>\n",
       "      <td>-0.595108</td>\n",
       "      <td>-0.594173</td>\n",
       "      <td>-0.581671</td>\n",
       "      <td>-0.714300</td>\n",
       "      <td>-0.840429</td>\n",
       "      <td>-0.458878</td>\n",
       "      <td>-0.426018</td>\n",
       "      <td>-1.211790</td>\n",
       "    </tr>\n",
       "    <tr>\n",
       "      <th>50%</th>\n",
       "      <td>0.124862</td>\n",
       "      <td>-0.212005</td>\n",
       "      <td>-0.000287</td>\n",
       "      <td>-0.082506</td>\n",
       "      <td>0.187804</td>\n",
       "      <td>0.267962</td>\n",
       "      <td>-0.276535</td>\n",
       "      <td>-0.073380</td>\n",
       "      <td>0.271782</td>\n",
       "      <td>-0.295711</td>\n",
       "    </tr>\n",
       "    <tr>\n",
       "      <th>75%</th>\n",
       "      <td>0.547554</td>\n",
       "      <td>0.700434</td>\n",
       "      <td>0.749413</td>\n",
       "      <td>0.603904</td>\n",
       "      <td>0.614059</td>\n",
       "      <td>1.014072</td>\n",
       "      <td>0.364931</td>\n",
       "      <td>0.576492</td>\n",
       "      <td>0.802124</td>\n",
       "      <td>0.359248</td>\n",
       "    </tr>\n",
       "    <tr>\n",
       "      <th>max</th>\n",
       "      <td>2.167681</td>\n",
       "      <td>1.917787</td>\n",
       "      <td>2.349986</td>\n",
       "      <td>2.125029</td>\n",
       "      <td>1.890325</td>\n",
       "      <td>2.374692</td>\n",
       "      <td>1.853143</td>\n",
       "      <td>2.545375</td>\n",
       "      <td>2.471372</td>\n",
       "      <td>1.960140</td>\n",
       "    </tr>\n",
       "  </tbody>\n",
       "</table>\n",
       "</div>"
      ],
      "text/plain": [
       "               A          B          C          D          E          F  \\\n",
       "count  50.000000  50.000000  50.000000  50.000000  50.000000  50.000000   \n",
       "mean    0.136994  -0.157965   0.075888  -0.080505  -0.022497   0.075718   \n",
       "std     0.796087   1.100161   0.967628   0.985961   0.968178   1.069319   \n",
       "min    -1.633764  -2.544412  -2.101232  -2.159837  -3.056763  -1.981979   \n",
       "25%    -0.456141  -0.930337  -0.595108  -0.594173  -0.581671  -0.714300   \n",
       "50%     0.124862  -0.212005  -0.000287  -0.082506   0.187804   0.267962   \n",
       "75%     0.547554   0.700434   0.749413   0.603904   0.614059   1.014072   \n",
       "max     2.167681   1.917787   2.349986   2.125029   1.890325   2.374692   \n",
       "\n",
       "               G          H          I          J  \n",
       "count  50.000000  50.000000  50.000000  50.000000  \n",
       "mean   -0.216367   0.015642   0.205468  -0.348042  \n",
       "std     1.018116   1.059452   1.065991   1.055660  \n",
       "min    -2.551686  -2.504076  -2.378567  -2.331976  \n",
       "25%    -0.840429  -0.458878  -0.426018  -1.211790  \n",
       "50%    -0.276535  -0.073380   0.271782  -0.295711  \n",
       "75%     0.364931   0.576492   0.802124   0.359248  \n",
       "max     1.853143   2.545375   2.471372   1.960140  "
      ]
     },
     "execution_count": 59,
     "metadata": {},
     "output_type": "execute_result"
    }
   ],
   "source": [
    "data.describe()"
   ]
  },
  {
   "cell_type": "markdown",
   "metadata": {},
   "source": [
    "We can also get the means of each column:"
   ]
  },
  {
   "cell_type": "code",
   "execution_count": 60,
   "metadata": {},
   "outputs": [
    {
     "data": {
      "text/plain": [
       "A    0.136994\n",
       "B   -0.157965\n",
       "C    0.075888\n",
       "D   -0.080505\n",
       "E   -0.022497\n",
       "F    0.075718\n",
       "G   -0.216367\n",
       "H    0.015642\n",
       "I    0.205468\n",
       "J   -0.348042\n",
       "dtype: float64"
      ]
     },
     "execution_count": 60,
     "metadata": {},
     "output_type": "execute_result"
    }
   ],
   "source": [
    "data.mean()"
   ]
  },
  {
   "cell_type": "markdown",
   "metadata": {},
   "source": [
    "and the variances of each column:"
   ]
  },
  {
   "cell_type": "code",
   "execution_count": 61,
   "metadata": {},
   "outputs": [
    {
     "data": {
      "text/plain": [
       "A    0.633755\n",
       "B    1.210355\n",
       "C    0.936304\n",
       "D    0.972118\n",
       "E    0.937368\n",
       "F    1.143443\n",
       "G    1.036559\n",
       "H    1.122438\n",
       "I    1.136337\n",
       "J    1.114418\n",
       "dtype: float64"
      ]
     },
     "execution_count": 61,
     "metadata": {},
     "output_type": "execute_result"
    }
   ],
   "source": [
    "data.var()"
   ]
  },
  {
   "cell_type": "markdown",
   "metadata": {},
   "source": [
    "and the standard deviations of each column:"
   ]
  },
  {
   "cell_type": "code",
   "execution_count": 62,
   "metadata": {
    "tags": []
   },
   "outputs": [
    {
     "data": {
      "text/plain": [
       "A    0.796087\n",
       "B    1.100161\n",
       "C    0.967628\n",
       "D    0.985961\n",
       "E    0.968178\n",
       "F    1.069319\n",
       "G    1.018116\n",
       "H    1.059452\n",
       "I    1.065991\n",
       "J    1.055660\n",
       "dtype: float64"
      ]
     },
     "execution_count": 62,
     "metadata": {},
     "output_type": "execute_result"
    }
   ],
   "source": [
    "data.std()"
   ]
  },
  {
   "cell_type": "markdown",
   "metadata": {},
   "source": [
    "### Transposing DataFrames\n",
    "We can transpose a DataFrame by making columns rows and rows columns. That means also reversing columns and indexes."
   ]
  },
  {
   "cell_type": "code",
   "execution_count": 63,
   "metadata": {},
   "outputs": [
    {
     "data": {
      "text/html": [
       "<div>\n",
       "<style scoped>\n",
       "    .dataframe tbody tr th:only-of-type {\n",
       "        vertical-align: middle;\n",
       "    }\n",
       "\n",
       "    .dataframe tbody tr th {\n",
       "        vertical-align: top;\n",
       "    }\n",
       "\n",
       "    .dataframe thead th {\n",
       "        text-align: right;\n",
       "    }\n",
       "</style>\n",
       "<table border=\"1\" class=\"dataframe\">\n",
       "  <thead>\n",
       "    <tr style=\"text-align: right;\">\n",
       "      <th></th>\n",
       "      <th>0</th>\n",
       "      <th>1</th>\n",
       "      <th>2</th>\n",
       "      <th>3</th>\n",
       "      <th>4</th>\n",
       "      <th>5</th>\n",
       "      <th>6</th>\n",
       "      <th>7</th>\n",
       "      <th>8</th>\n",
       "      <th>9</th>\n",
       "      <th>...</th>\n",
       "      <th>40</th>\n",
       "      <th>41</th>\n",
       "      <th>42</th>\n",
       "      <th>43</th>\n",
       "      <th>44</th>\n",
       "      <th>45</th>\n",
       "      <th>46</th>\n",
       "      <th>47</th>\n",
       "      <th>48</th>\n",
       "      <th>49</th>\n",
       "    </tr>\n",
       "  </thead>\n",
       "  <tbody>\n",
       "    <tr>\n",
       "      <th>A</th>\n",
       "      <td>0.733276</td>\n",
       "      <td>-1.116380</td>\n",
       "      <td>0.126154</td>\n",
       "      <td>0.333132</td>\n",
       "      <td>0.064683</td>\n",
       "      <td>0.006065</td>\n",
       "      <td>-0.451067</td>\n",
       "      <td>0.793895</td>\n",
       "      <td>-0.367421</td>\n",
       "      <td>0.511576</td>\n",
       "      <td>...</td>\n",
       "      <td>-0.127289</td>\n",
       "      <td>1.386916</td>\n",
       "      <td>-1.633764</td>\n",
       "      <td>-0.974898</td>\n",
       "      <td>-0.805384</td>\n",
       "      <td>2.167681</td>\n",
       "      <td>1.243792</td>\n",
       "      <td>-0.002651</td>\n",
       "      <td>1.370340</td>\n",
       "      <td>1.023001</td>\n",
       "    </tr>\n",
       "    <tr>\n",
       "      <th>B</th>\n",
       "      <td>-0.342386</td>\n",
       "      <td>-0.666719</td>\n",
       "      <td>-0.143216</td>\n",
       "      <td>-0.419473</td>\n",
       "      <td>0.520477</td>\n",
       "      <td>-0.191524</td>\n",
       "      <td>0.888718</td>\n",
       "      <td>1.917787</td>\n",
       "      <td>-2.544412</td>\n",
       "      <td>-0.486788</td>\n",
       "      <td>...</td>\n",
       "      <td>-1.543062</td>\n",
       "      <td>1.077196</td>\n",
       "      <td>1.870108</td>\n",
       "      <td>0.270026</td>\n",
       "      <td>-0.668787</td>\n",
       "      <td>-1.100380</td>\n",
       "      <td>0.985446</td>\n",
       "      <td>-1.229402</td>\n",
       "      <td>0.169511</td>\n",
       "      <td>0.423487</td>\n",
       "    </tr>\n",
       "    <tr>\n",
       "      <th>C</th>\n",
       "      <td>1.410603</td>\n",
       "      <td>0.268802</td>\n",
       "      <td>-1.100917</td>\n",
       "      <td>1.596589</td>\n",
       "      <td>0.461204</td>\n",
       "      <td>-1.316004</td>\n",
       "      <td>-0.003955</td>\n",
       "      <td>-0.921154</td>\n",
       "      <td>-0.344344</td>\n",
       "      <td>-0.497416</td>\n",
       "      <td>...</td>\n",
       "      <td>0.239693</td>\n",
       "      <td>1.162950</td>\n",
       "      <td>1.662220</td>\n",
       "      <td>0.979987</td>\n",
       "      <td>0.772296</td>\n",
       "      <td>0.533268</td>\n",
       "      <td>0.569719</td>\n",
       "      <td>0.680762</td>\n",
       "      <td>-0.239325</td>\n",
       "      <td>0.197074</td>\n",
       "    </tr>\n",
       "    <tr>\n",
       "      <th>D</th>\n",
       "      <td>-2.154478</td>\n",
       "      <td>-2.159837</td>\n",
       "      <td>-0.829872</td>\n",
       "      <td>0.981824</td>\n",
       "      <td>0.471319</td>\n",
       "      <td>0.598464</td>\n",
       "      <td>-0.615739</td>\n",
       "      <td>1.252801</td>\n",
       "      <td>-1.033376</td>\n",
       "      <td>-0.409094</td>\n",
       "      <td>...</td>\n",
       "      <td>0.542043</td>\n",
       "      <td>1.854790</td>\n",
       "      <td>0.124664</td>\n",
       "      <td>0.484717</td>\n",
       "      <td>2.125029</td>\n",
       "      <td>0.900856</td>\n",
       "      <td>-0.092572</td>\n",
       "      <td>-0.251256</td>\n",
       "      <td>0.660928</td>\n",
       "      <td>-0.215814</td>\n",
       "    </tr>\n",
       "    <tr>\n",
       "      <th>E</th>\n",
       "      <td>0.654737</td>\n",
       "      <td>0.013830</td>\n",
       "      <td>-0.038187</td>\n",
       "      <td>0.856074</td>\n",
       "      <td>0.734359</td>\n",
       "      <td>-3.056763</td>\n",
       "      <td>-1.758991</td>\n",
       "      <td>0.496039</td>\n",
       "      <td>1.890325</td>\n",
       "      <td>0.356346</td>\n",
       "      <td>...</td>\n",
       "      <td>-0.900169</td>\n",
       "      <td>-1.423037</td>\n",
       "      <td>-0.776872</td>\n",
       "      <td>-0.592344</td>\n",
       "      <td>1.175373</td>\n",
       "      <td>-0.699760</td>\n",
       "      <td>-0.549652</td>\n",
       "      <td>0.192459</td>\n",
       "      <td>0.640765</td>\n",
       "      <td>-0.975127</td>\n",
       "    </tr>\n",
       "    <tr>\n",
       "      <th>F</th>\n",
       "      <td>0.995158</td>\n",
       "      <td>2.060263</td>\n",
       "      <td>-1.418361</td>\n",
       "      <td>1.070598</td>\n",
       "      <td>-1.086613</td>\n",
       "      <td>-0.121031</td>\n",
       "      <td>1.036380</td>\n",
       "      <td>-0.515465</td>\n",
       "      <td>1.498709</td>\n",
       "      <td>-1.127487</td>\n",
       "      <td>...</td>\n",
       "      <td>0.462129</td>\n",
       "      <td>-1.242636</td>\n",
       "      <td>-1.930470</td>\n",
       "      <td>0.549805</td>\n",
       "      <td>0.589815</td>\n",
       "      <td>0.310757</td>\n",
       "      <td>-1.594772</td>\n",
       "      <td>-0.028148</td>\n",
       "      <td>-1.447598</td>\n",
       "      <td>1.073154</td>\n",
       "    </tr>\n",
       "    <tr>\n",
       "      <th>G</th>\n",
       "      <td>-0.720911</td>\n",
       "      <td>0.971307</td>\n",
       "      <td>-0.486728</td>\n",
       "      <td>1.215529</td>\n",
       "      <td>-0.514328</td>\n",
       "      <td>-1.039120</td>\n",
       "      <td>-1.432710</td>\n",
       "      <td>-0.669876</td>\n",
       "      <td>1.853143</td>\n",
       "      <td>0.471774</td>\n",
       "      <td>...</td>\n",
       "      <td>1.297018</td>\n",
       "      <td>1.471130</td>\n",
       "      <td>0.227253</td>\n",
       "      <td>-1.698260</td>\n",
       "      <td>0.172036</td>\n",
       "      <td>-1.203033</td>\n",
       "      <td>0.130750</td>\n",
       "      <td>-1.162484</td>\n",
       "      <td>0.281780</td>\n",
       "      <td>-0.868174</td>\n",
       "    </tr>\n",
       "    <tr>\n",
       "      <th>H</th>\n",
       "      <td>-1.433215</td>\n",
       "      <td>-0.289935</td>\n",
       "      <td>-0.354431</td>\n",
       "      <td>1.604969</td>\n",
       "      <td>-1.594676</td>\n",
       "      <td>-0.063332</td>\n",
       "      <td>-0.459441</td>\n",
       "      <td>-0.422471</td>\n",
       "      <td>0.209210</td>\n",
       "      <td>-0.553113</td>\n",
       "      <td>...</td>\n",
       "      <td>-2.504076</td>\n",
       "      <td>0.746912</td>\n",
       "      <td>0.420625</td>\n",
       "      <td>0.251529</td>\n",
       "      <td>-0.562165</td>\n",
       "      <td>1.146754</td>\n",
       "      <td>-0.691448</td>\n",
       "      <td>-0.028599</td>\n",
       "      <td>-1.299028</td>\n",
       "      <td>0.294979</td>\n",
       "    </tr>\n",
       "    <tr>\n",
       "      <th>I</th>\n",
       "      <td>-0.398798</td>\n",
       "      <td>0.743694</td>\n",
       "      <td>0.198931</td>\n",
       "      <td>0.601560</td>\n",
       "      <td>-1.134257</td>\n",
       "      <td>-2.378567</td>\n",
       "      <td>0.773482</td>\n",
       "      <td>0.679219</td>\n",
       "      <td>-1.872613</td>\n",
       "      <td>1.101409</td>\n",
       "      <td>...</td>\n",
       "      <td>0.493986</td>\n",
       "      <td>-1.161466</td>\n",
       "      <td>1.243637</td>\n",
       "      <td>0.003929</td>\n",
       "      <td>-1.106539</td>\n",
       "      <td>-0.427338</td>\n",
       "      <td>-0.353610</td>\n",
       "      <td>-0.806033</td>\n",
       "      <td>0.593355</td>\n",
       "      <td>0.963904</td>\n",
       "    </tr>\n",
       "    <tr>\n",
       "      <th>J</th>\n",
       "      <td>-2.220342</td>\n",
       "      <td>0.292744</td>\n",
       "      <td>-1.691048</td>\n",
       "      <td>-0.963667</td>\n",
       "      <td>1.026236</td>\n",
       "      <td>-1.448463</td>\n",
       "      <td>0.381414</td>\n",
       "      <td>-0.215486</td>\n",
       "      <td>1.018072</td>\n",
       "      <td>-0.315717</td>\n",
       "      <td>...</td>\n",
       "      <td>-0.044944</td>\n",
       "      <td>0.713487</td>\n",
       "      <td>1.007528</td>\n",
       "      <td>-0.145274</td>\n",
       "      <td>1.242830</td>\n",
       "      <td>-1.187539</td>\n",
       "      <td>-1.283865</td>\n",
       "      <td>-0.643818</td>\n",
       "      <td>-1.301934</td>\n",
       "      <td>1.174762</td>\n",
       "    </tr>\n",
       "  </tbody>\n",
       "</table>\n",
       "<p>10 rows × 50 columns</p>\n",
       "</div>"
      ],
      "text/plain": [
       "         0         1         2         3         4         5         6   \\\n",
       "A  0.733276 -1.116380  0.126154  0.333132  0.064683  0.006065 -0.451067   \n",
       "B -0.342386 -0.666719 -0.143216 -0.419473  0.520477 -0.191524  0.888718   \n",
       "C  1.410603  0.268802 -1.100917  1.596589  0.461204 -1.316004 -0.003955   \n",
       "D -2.154478 -2.159837 -0.829872  0.981824  0.471319  0.598464 -0.615739   \n",
       "E  0.654737  0.013830 -0.038187  0.856074  0.734359 -3.056763 -1.758991   \n",
       "F  0.995158  2.060263 -1.418361  1.070598 -1.086613 -0.121031  1.036380   \n",
       "G -0.720911  0.971307 -0.486728  1.215529 -0.514328 -1.039120 -1.432710   \n",
       "H -1.433215 -0.289935 -0.354431  1.604969 -1.594676 -0.063332 -0.459441   \n",
       "I -0.398798  0.743694  0.198931  0.601560 -1.134257 -2.378567  0.773482   \n",
       "J -2.220342  0.292744 -1.691048 -0.963667  1.026236 -1.448463  0.381414   \n",
       "\n",
       "         7         8         9   ...        40        41        42        43  \\\n",
       "A  0.793895 -0.367421  0.511576  ... -0.127289  1.386916 -1.633764 -0.974898   \n",
       "B  1.917787 -2.544412 -0.486788  ... -1.543062  1.077196  1.870108  0.270026   \n",
       "C -0.921154 -0.344344 -0.497416  ...  0.239693  1.162950  1.662220  0.979987   \n",
       "D  1.252801 -1.033376 -0.409094  ...  0.542043  1.854790  0.124664  0.484717   \n",
       "E  0.496039  1.890325  0.356346  ... -0.900169 -1.423037 -0.776872 -0.592344   \n",
       "F -0.515465  1.498709 -1.127487  ...  0.462129 -1.242636 -1.930470  0.549805   \n",
       "G -0.669876  1.853143  0.471774  ...  1.297018  1.471130  0.227253 -1.698260   \n",
       "H -0.422471  0.209210 -0.553113  ... -2.504076  0.746912  0.420625  0.251529   \n",
       "I  0.679219 -1.872613  1.101409  ...  0.493986 -1.161466  1.243637  0.003929   \n",
       "J -0.215486  1.018072 -0.315717  ... -0.044944  0.713487  1.007528 -0.145274   \n",
       "\n",
       "         44        45        46        47        48        49  \n",
       "A -0.805384  2.167681  1.243792 -0.002651  1.370340  1.023001  \n",
       "B -0.668787 -1.100380  0.985446 -1.229402  0.169511  0.423487  \n",
       "C  0.772296  0.533268  0.569719  0.680762 -0.239325  0.197074  \n",
       "D  2.125029  0.900856 -0.092572 -0.251256  0.660928 -0.215814  \n",
       "E  1.175373 -0.699760 -0.549652  0.192459  0.640765 -0.975127  \n",
       "F  0.589815  0.310757 -1.594772 -0.028148 -1.447598  1.073154  \n",
       "G  0.172036 -1.203033  0.130750 -1.162484  0.281780 -0.868174  \n",
       "H -0.562165  1.146754 -0.691448 -0.028599 -1.299028  0.294979  \n",
       "I -1.106539 -0.427338 -0.353610 -0.806033  0.593355  0.963904  \n",
       "J  1.242830 -1.187539 -1.283865 -0.643818 -1.301934  1.174762  \n",
       "\n",
       "[10 rows x 50 columns]"
      ]
     },
     "execution_count": 63,
     "metadata": {},
     "output_type": "execute_result"
    }
   ],
   "source": [
    "data.transpose()"
   ]
  },
  {
   "cell_type": "markdown",
   "metadata": {},
   "source": [
    "which is the same as:"
   ]
  },
  {
   "cell_type": "code",
   "execution_count": 64,
   "metadata": {},
   "outputs": [
    {
     "data": {
      "text/html": [
       "<div>\n",
       "<style scoped>\n",
       "    .dataframe tbody tr th:only-of-type {\n",
       "        vertical-align: middle;\n",
       "    }\n",
       "\n",
       "    .dataframe tbody tr th {\n",
       "        vertical-align: top;\n",
       "    }\n",
       "\n",
       "    .dataframe thead th {\n",
       "        text-align: right;\n",
       "    }\n",
       "</style>\n",
       "<table border=\"1\" class=\"dataframe\">\n",
       "  <thead>\n",
       "    <tr style=\"text-align: right;\">\n",
       "      <th></th>\n",
       "      <th>0</th>\n",
       "      <th>1</th>\n",
       "      <th>2</th>\n",
       "      <th>3</th>\n",
       "      <th>4</th>\n",
       "      <th>5</th>\n",
       "      <th>6</th>\n",
       "      <th>7</th>\n",
       "      <th>8</th>\n",
       "      <th>9</th>\n",
       "      <th>...</th>\n",
       "      <th>40</th>\n",
       "      <th>41</th>\n",
       "      <th>42</th>\n",
       "      <th>43</th>\n",
       "      <th>44</th>\n",
       "      <th>45</th>\n",
       "      <th>46</th>\n",
       "      <th>47</th>\n",
       "      <th>48</th>\n",
       "      <th>49</th>\n",
       "    </tr>\n",
       "  </thead>\n",
       "  <tbody>\n",
       "    <tr>\n",
       "      <th>A</th>\n",
       "      <td>0.733276</td>\n",
       "      <td>-1.116380</td>\n",
       "      <td>0.126154</td>\n",
       "      <td>0.333132</td>\n",
       "      <td>0.064683</td>\n",
       "      <td>0.006065</td>\n",
       "      <td>-0.451067</td>\n",
       "      <td>0.793895</td>\n",
       "      <td>-0.367421</td>\n",
       "      <td>0.511576</td>\n",
       "      <td>...</td>\n",
       "      <td>-0.127289</td>\n",
       "      <td>1.386916</td>\n",
       "      <td>-1.633764</td>\n",
       "      <td>-0.974898</td>\n",
       "      <td>-0.805384</td>\n",
       "      <td>2.167681</td>\n",
       "      <td>1.243792</td>\n",
       "      <td>-0.002651</td>\n",
       "      <td>1.370340</td>\n",
       "      <td>1.023001</td>\n",
       "    </tr>\n",
       "    <tr>\n",
       "      <th>B</th>\n",
       "      <td>-0.342386</td>\n",
       "      <td>-0.666719</td>\n",
       "      <td>-0.143216</td>\n",
       "      <td>-0.419473</td>\n",
       "      <td>0.520477</td>\n",
       "      <td>-0.191524</td>\n",
       "      <td>0.888718</td>\n",
       "      <td>1.917787</td>\n",
       "      <td>-2.544412</td>\n",
       "      <td>-0.486788</td>\n",
       "      <td>...</td>\n",
       "      <td>-1.543062</td>\n",
       "      <td>1.077196</td>\n",
       "      <td>1.870108</td>\n",
       "      <td>0.270026</td>\n",
       "      <td>-0.668787</td>\n",
       "      <td>-1.100380</td>\n",
       "      <td>0.985446</td>\n",
       "      <td>-1.229402</td>\n",
       "      <td>0.169511</td>\n",
       "      <td>0.423487</td>\n",
       "    </tr>\n",
       "    <tr>\n",
       "      <th>C</th>\n",
       "      <td>1.410603</td>\n",
       "      <td>0.268802</td>\n",
       "      <td>-1.100917</td>\n",
       "      <td>1.596589</td>\n",
       "      <td>0.461204</td>\n",
       "      <td>-1.316004</td>\n",
       "      <td>-0.003955</td>\n",
       "      <td>-0.921154</td>\n",
       "      <td>-0.344344</td>\n",
       "      <td>-0.497416</td>\n",
       "      <td>...</td>\n",
       "      <td>0.239693</td>\n",
       "      <td>1.162950</td>\n",
       "      <td>1.662220</td>\n",
       "      <td>0.979987</td>\n",
       "      <td>0.772296</td>\n",
       "      <td>0.533268</td>\n",
       "      <td>0.569719</td>\n",
       "      <td>0.680762</td>\n",
       "      <td>-0.239325</td>\n",
       "      <td>0.197074</td>\n",
       "    </tr>\n",
       "    <tr>\n",
       "      <th>D</th>\n",
       "      <td>-2.154478</td>\n",
       "      <td>-2.159837</td>\n",
       "      <td>-0.829872</td>\n",
       "      <td>0.981824</td>\n",
       "      <td>0.471319</td>\n",
       "      <td>0.598464</td>\n",
       "      <td>-0.615739</td>\n",
       "      <td>1.252801</td>\n",
       "      <td>-1.033376</td>\n",
       "      <td>-0.409094</td>\n",
       "      <td>...</td>\n",
       "      <td>0.542043</td>\n",
       "      <td>1.854790</td>\n",
       "      <td>0.124664</td>\n",
       "      <td>0.484717</td>\n",
       "      <td>2.125029</td>\n",
       "      <td>0.900856</td>\n",
       "      <td>-0.092572</td>\n",
       "      <td>-0.251256</td>\n",
       "      <td>0.660928</td>\n",
       "      <td>-0.215814</td>\n",
       "    </tr>\n",
       "    <tr>\n",
       "      <th>E</th>\n",
       "      <td>0.654737</td>\n",
       "      <td>0.013830</td>\n",
       "      <td>-0.038187</td>\n",
       "      <td>0.856074</td>\n",
       "      <td>0.734359</td>\n",
       "      <td>-3.056763</td>\n",
       "      <td>-1.758991</td>\n",
       "      <td>0.496039</td>\n",
       "      <td>1.890325</td>\n",
       "      <td>0.356346</td>\n",
       "      <td>...</td>\n",
       "      <td>-0.900169</td>\n",
       "      <td>-1.423037</td>\n",
       "      <td>-0.776872</td>\n",
       "      <td>-0.592344</td>\n",
       "      <td>1.175373</td>\n",
       "      <td>-0.699760</td>\n",
       "      <td>-0.549652</td>\n",
       "      <td>0.192459</td>\n",
       "      <td>0.640765</td>\n",
       "      <td>-0.975127</td>\n",
       "    </tr>\n",
       "    <tr>\n",
       "      <th>F</th>\n",
       "      <td>0.995158</td>\n",
       "      <td>2.060263</td>\n",
       "      <td>-1.418361</td>\n",
       "      <td>1.070598</td>\n",
       "      <td>-1.086613</td>\n",
       "      <td>-0.121031</td>\n",
       "      <td>1.036380</td>\n",
       "      <td>-0.515465</td>\n",
       "      <td>1.498709</td>\n",
       "      <td>-1.127487</td>\n",
       "      <td>...</td>\n",
       "      <td>0.462129</td>\n",
       "      <td>-1.242636</td>\n",
       "      <td>-1.930470</td>\n",
       "      <td>0.549805</td>\n",
       "      <td>0.589815</td>\n",
       "      <td>0.310757</td>\n",
       "      <td>-1.594772</td>\n",
       "      <td>-0.028148</td>\n",
       "      <td>-1.447598</td>\n",
       "      <td>1.073154</td>\n",
       "    </tr>\n",
       "    <tr>\n",
       "      <th>G</th>\n",
       "      <td>-0.720911</td>\n",
       "      <td>0.971307</td>\n",
       "      <td>-0.486728</td>\n",
       "      <td>1.215529</td>\n",
       "      <td>-0.514328</td>\n",
       "      <td>-1.039120</td>\n",
       "      <td>-1.432710</td>\n",
       "      <td>-0.669876</td>\n",
       "      <td>1.853143</td>\n",
       "      <td>0.471774</td>\n",
       "      <td>...</td>\n",
       "      <td>1.297018</td>\n",
       "      <td>1.471130</td>\n",
       "      <td>0.227253</td>\n",
       "      <td>-1.698260</td>\n",
       "      <td>0.172036</td>\n",
       "      <td>-1.203033</td>\n",
       "      <td>0.130750</td>\n",
       "      <td>-1.162484</td>\n",
       "      <td>0.281780</td>\n",
       "      <td>-0.868174</td>\n",
       "    </tr>\n",
       "    <tr>\n",
       "      <th>H</th>\n",
       "      <td>-1.433215</td>\n",
       "      <td>-0.289935</td>\n",
       "      <td>-0.354431</td>\n",
       "      <td>1.604969</td>\n",
       "      <td>-1.594676</td>\n",
       "      <td>-0.063332</td>\n",
       "      <td>-0.459441</td>\n",
       "      <td>-0.422471</td>\n",
       "      <td>0.209210</td>\n",
       "      <td>-0.553113</td>\n",
       "      <td>...</td>\n",
       "      <td>-2.504076</td>\n",
       "      <td>0.746912</td>\n",
       "      <td>0.420625</td>\n",
       "      <td>0.251529</td>\n",
       "      <td>-0.562165</td>\n",
       "      <td>1.146754</td>\n",
       "      <td>-0.691448</td>\n",
       "      <td>-0.028599</td>\n",
       "      <td>-1.299028</td>\n",
       "      <td>0.294979</td>\n",
       "    </tr>\n",
       "    <tr>\n",
       "      <th>I</th>\n",
       "      <td>-0.398798</td>\n",
       "      <td>0.743694</td>\n",
       "      <td>0.198931</td>\n",
       "      <td>0.601560</td>\n",
       "      <td>-1.134257</td>\n",
       "      <td>-2.378567</td>\n",
       "      <td>0.773482</td>\n",
       "      <td>0.679219</td>\n",
       "      <td>-1.872613</td>\n",
       "      <td>1.101409</td>\n",
       "      <td>...</td>\n",
       "      <td>0.493986</td>\n",
       "      <td>-1.161466</td>\n",
       "      <td>1.243637</td>\n",
       "      <td>0.003929</td>\n",
       "      <td>-1.106539</td>\n",
       "      <td>-0.427338</td>\n",
       "      <td>-0.353610</td>\n",
       "      <td>-0.806033</td>\n",
       "      <td>0.593355</td>\n",
       "      <td>0.963904</td>\n",
       "    </tr>\n",
       "    <tr>\n",
       "      <th>J</th>\n",
       "      <td>-2.220342</td>\n",
       "      <td>0.292744</td>\n",
       "      <td>-1.691048</td>\n",
       "      <td>-0.963667</td>\n",
       "      <td>1.026236</td>\n",
       "      <td>-1.448463</td>\n",
       "      <td>0.381414</td>\n",
       "      <td>-0.215486</td>\n",
       "      <td>1.018072</td>\n",
       "      <td>-0.315717</td>\n",
       "      <td>...</td>\n",
       "      <td>-0.044944</td>\n",
       "      <td>0.713487</td>\n",
       "      <td>1.007528</td>\n",
       "      <td>-0.145274</td>\n",
       "      <td>1.242830</td>\n",
       "      <td>-1.187539</td>\n",
       "      <td>-1.283865</td>\n",
       "      <td>-0.643818</td>\n",
       "      <td>-1.301934</td>\n",
       "      <td>1.174762</td>\n",
       "    </tr>\n",
       "  </tbody>\n",
       "</table>\n",
       "<p>10 rows × 50 columns</p>\n",
       "</div>"
      ],
      "text/plain": [
       "         0         1         2         3         4         5         6   \\\n",
       "A  0.733276 -1.116380  0.126154  0.333132  0.064683  0.006065 -0.451067   \n",
       "B -0.342386 -0.666719 -0.143216 -0.419473  0.520477 -0.191524  0.888718   \n",
       "C  1.410603  0.268802 -1.100917  1.596589  0.461204 -1.316004 -0.003955   \n",
       "D -2.154478 -2.159837 -0.829872  0.981824  0.471319  0.598464 -0.615739   \n",
       "E  0.654737  0.013830 -0.038187  0.856074  0.734359 -3.056763 -1.758991   \n",
       "F  0.995158  2.060263 -1.418361  1.070598 -1.086613 -0.121031  1.036380   \n",
       "G -0.720911  0.971307 -0.486728  1.215529 -0.514328 -1.039120 -1.432710   \n",
       "H -1.433215 -0.289935 -0.354431  1.604969 -1.594676 -0.063332 -0.459441   \n",
       "I -0.398798  0.743694  0.198931  0.601560 -1.134257 -2.378567  0.773482   \n",
       "J -2.220342  0.292744 -1.691048 -0.963667  1.026236 -1.448463  0.381414   \n",
       "\n",
       "         7         8         9   ...        40        41        42        43  \\\n",
       "A  0.793895 -0.367421  0.511576  ... -0.127289  1.386916 -1.633764 -0.974898   \n",
       "B  1.917787 -2.544412 -0.486788  ... -1.543062  1.077196  1.870108  0.270026   \n",
       "C -0.921154 -0.344344 -0.497416  ...  0.239693  1.162950  1.662220  0.979987   \n",
       "D  1.252801 -1.033376 -0.409094  ...  0.542043  1.854790  0.124664  0.484717   \n",
       "E  0.496039  1.890325  0.356346  ... -0.900169 -1.423037 -0.776872 -0.592344   \n",
       "F -0.515465  1.498709 -1.127487  ...  0.462129 -1.242636 -1.930470  0.549805   \n",
       "G -0.669876  1.853143  0.471774  ...  1.297018  1.471130  0.227253 -1.698260   \n",
       "H -0.422471  0.209210 -0.553113  ... -2.504076  0.746912  0.420625  0.251529   \n",
       "I  0.679219 -1.872613  1.101409  ...  0.493986 -1.161466  1.243637  0.003929   \n",
       "J -0.215486  1.018072 -0.315717  ... -0.044944  0.713487  1.007528 -0.145274   \n",
       "\n",
       "         44        45        46        47        48        49  \n",
       "A -0.805384  2.167681  1.243792 -0.002651  1.370340  1.023001  \n",
       "B -0.668787 -1.100380  0.985446 -1.229402  0.169511  0.423487  \n",
       "C  0.772296  0.533268  0.569719  0.680762 -0.239325  0.197074  \n",
       "D  2.125029  0.900856 -0.092572 -0.251256  0.660928 -0.215814  \n",
       "E  1.175373 -0.699760 -0.549652  0.192459  0.640765 -0.975127  \n",
       "F  0.589815  0.310757 -1.594772 -0.028148 -1.447598  1.073154  \n",
       "G  0.172036 -1.203033  0.130750 -1.162484  0.281780 -0.868174  \n",
       "H -0.562165  1.146754 -0.691448 -0.028599 -1.299028  0.294979  \n",
       "I -1.106539 -0.427338 -0.353610 -0.806033  0.593355  0.963904  \n",
       "J  1.242830 -1.187539 -1.283865 -0.643818 -1.301934  1.174762  \n",
       "\n",
       "[10 rows x 50 columns]"
      ]
     },
     "execution_count": 64,
     "metadata": {},
     "output_type": "execute_result"
    }
   ],
   "source": [
    "data.T"
   ]
  },
  {
   "cell_type": "markdown",
   "metadata": {},
   "source": [
    "### Shuffling a DataFrame\n",
    "You can shuffle a DataFrame using the `sample` method. If you give it a number less than the length of the DataFrame, a random sample (without replacement by default) of that length will be returned. If you give it the length of the DataFrame, a shuffled version of the DataFrame will be returned."
   ]
  },
  {
   "cell_type": "code",
   "execution_count": 65,
   "metadata": {},
   "outputs": [
    {
     "data": {
      "text/html": [
       "<div>\n",
       "<style scoped>\n",
       "    .dataframe tbody tr th:only-of-type {\n",
       "        vertical-align: middle;\n",
       "    }\n",
       "\n",
       "    .dataframe tbody tr th {\n",
       "        vertical-align: top;\n",
       "    }\n",
       "\n",
       "    .dataframe thead th {\n",
       "        text-align: right;\n",
       "    }\n",
       "</style>\n",
       "<table border=\"1\" class=\"dataframe\">\n",
       "  <thead>\n",
       "    <tr style=\"text-align: right;\">\n",
       "      <th></th>\n",
       "      <th>A</th>\n",
       "      <th>B</th>\n",
       "      <th>C</th>\n",
       "      <th>D</th>\n",
       "      <th>E</th>\n",
       "      <th>F</th>\n",
       "      <th>G</th>\n",
       "      <th>H</th>\n",
       "      <th>I</th>\n",
       "      <th>J</th>\n",
       "    </tr>\n",
       "  </thead>\n",
       "  <tbody>\n",
       "    <tr>\n",
       "      <th>28</th>\n",
       "      <td>-0.457833</td>\n",
       "      <td>0.704938</td>\n",
       "      <td>-0.788668</td>\n",
       "      <td>-0.471618</td>\n",
       "      <td>0.729784</td>\n",
       "      <td>1.589584</td>\n",
       "      <td>-0.033800</td>\n",
       "      <td>0.544194</td>\n",
       "      <td>0.423154</td>\n",
       "      <td>0.154120</td>\n",
       "    </tr>\n",
       "    <tr>\n",
       "      <th>3</th>\n",
       "      <td>0.333132</td>\n",
       "      <td>-0.419473</td>\n",
       "      <td>1.596589</td>\n",
       "      <td>0.981824</td>\n",
       "      <td>0.856074</td>\n",
       "      <td>1.070598</td>\n",
       "      <td>1.215529</td>\n",
       "      <td>1.604969</td>\n",
       "      <td>0.601560</td>\n",
       "      <td>-0.963667</td>\n",
       "    </tr>\n",
       "    <tr>\n",
       "      <th>8</th>\n",
       "      <td>-0.367421</td>\n",
       "      <td>-2.544412</td>\n",
       "      <td>-0.344344</td>\n",
       "      <td>-1.033376</td>\n",
       "      <td>1.890325</td>\n",
       "      <td>1.498709</td>\n",
       "      <td>1.853143</td>\n",
       "      <td>0.209210</td>\n",
       "      <td>-1.872613</td>\n",
       "      <td>1.018072</td>\n",
       "    </tr>\n",
       "    <tr>\n",
       "      <th>45</th>\n",
       "      <td>2.167681</td>\n",
       "      <td>-1.100380</td>\n",
       "      <td>0.533268</td>\n",
       "      <td>0.900856</td>\n",
       "      <td>-0.699760</td>\n",
       "      <td>0.310757</td>\n",
       "      <td>-1.203033</td>\n",
       "      <td>1.146754</td>\n",
       "      <td>-0.427338</td>\n",
       "      <td>-1.187539</td>\n",
       "    </tr>\n",
       "    <tr>\n",
       "      <th>29</th>\n",
       "      <td>-0.769728</td>\n",
       "      <td>-1.020930</td>\n",
       "      <td>1.251192</td>\n",
       "      <td>0.286040</td>\n",
       "      <td>0.476663</td>\n",
       "      <td>-0.282371</td>\n",
       "      <td>-0.354040</td>\n",
       "      <td>0.364894</td>\n",
       "      <td>0.165637</td>\n",
       "      <td>1.960140</td>\n",
       "    </tr>\n",
       "    <tr>\n",
       "      <th>36</th>\n",
       "      <td>0.122078</td>\n",
       "      <td>1.040790</td>\n",
       "      <td>-1.026396</td>\n",
       "      <td>0.216167</td>\n",
       "      <td>-0.477794</td>\n",
       "      <td>-1.250743</td>\n",
       "      <td>-0.556717</td>\n",
       "      <td>1.798610</td>\n",
       "      <td>-0.946902</td>\n",
       "      <td>-0.424860</td>\n",
       "    </tr>\n",
       "    <tr>\n",
       "      <th>16</th>\n",
       "      <td>-0.784183</td>\n",
       "      <td>-1.361069</td>\n",
       "      <td>-0.575494</td>\n",
       "      <td>-1.233600</td>\n",
       "      <td>0.677226</td>\n",
       "      <td>2.374692</td>\n",
       "      <td>-0.217183</td>\n",
       "      <td>1.404554</td>\n",
       "      <td>2.471372</td>\n",
       "      <td>1.021371</td>\n",
       "    </tr>\n",
       "    <tr>\n",
       "      <th>31</th>\n",
       "      <td>-0.024723</td>\n",
       "      <td>-0.735439</td>\n",
       "      <td>-1.065051</td>\n",
       "      <td>-0.444326</td>\n",
       "      <td>-0.162541</td>\n",
       "      <td>1.325927</td>\n",
       "      <td>1.771526</td>\n",
       "      <td>-0.600173</td>\n",
       "      <td>1.804098</td>\n",
       "      <td>-2.331976</td>\n",
       "    </tr>\n",
       "    <tr>\n",
       "      <th>10</th>\n",
       "      <td>1.462105</td>\n",
       "      <td>-1.016306</td>\n",
       "      <td>-0.962941</td>\n",
       "      <td>0.813503</td>\n",
       "      <td>-0.790614</td>\n",
       "      <td>-0.719437</td>\n",
       "      <td>-0.152561</td>\n",
       "      <td>-0.333220</td>\n",
       "      <td>1.245346</td>\n",
       "      <td>-1.219873</td>\n",
       "    </tr>\n",
       "    <tr>\n",
       "      <th>7</th>\n",
       "      <td>0.793895</td>\n",
       "      <td>1.917787</td>\n",
       "      <td>-0.921154</td>\n",
       "      <td>1.252801</td>\n",
       "      <td>0.496039</td>\n",
       "      <td>-0.515465</td>\n",
       "      <td>-0.669876</td>\n",
       "      <td>-0.422471</td>\n",
       "      <td>0.679219</td>\n",
       "      <td>-0.215486</td>\n",
       "    </tr>\n",
       "  </tbody>\n",
       "</table>\n",
       "</div>"
      ],
      "text/plain": [
       "           A         B         C         D         E         F         G  \\\n",
       "28 -0.457833  0.704938 -0.788668 -0.471618  0.729784  1.589584 -0.033800   \n",
       "3   0.333132 -0.419473  1.596589  0.981824  0.856074  1.070598  1.215529   \n",
       "8  -0.367421 -2.544412 -0.344344 -1.033376  1.890325  1.498709  1.853143   \n",
       "45  2.167681 -1.100380  0.533268  0.900856 -0.699760  0.310757 -1.203033   \n",
       "29 -0.769728 -1.020930  1.251192  0.286040  0.476663 -0.282371 -0.354040   \n",
       "36  0.122078  1.040790 -1.026396  0.216167 -0.477794 -1.250743 -0.556717   \n",
       "16 -0.784183 -1.361069 -0.575494 -1.233600  0.677226  2.374692 -0.217183   \n",
       "31 -0.024723 -0.735439 -1.065051 -0.444326 -0.162541  1.325927  1.771526   \n",
       "10  1.462105 -1.016306 -0.962941  0.813503 -0.790614 -0.719437 -0.152561   \n",
       "7   0.793895  1.917787 -0.921154  1.252801  0.496039 -0.515465 -0.669876   \n",
       "\n",
       "           H         I         J  \n",
       "28  0.544194  0.423154  0.154120  \n",
       "3   1.604969  0.601560 -0.963667  \n",
       "8   0.209210 -1.872613  1.018072  \n",
       "45  1.146754 -0.427338 -1.187539  \n",
       "29  0.364894  0.165637  1.960140  \n",
       "36  1.798610 -0.946902 -0.424860  \n",
       "16  1.404554  2.471372  1.021371  \n",
       "31 -0.600173  1.804098 -2.331976  \n",
       "10 -0.333220  1.245346 -1.219873  \n",
       "7  -0.422471  0.679219 -0.215486  "
      ]
     },
     "execution_count": 65,
     "metadata": {},
     "output_type": "execute_result"
    }
   ],
   "source": [
    "shuffled = data.sample(len(data))\n",
    "shuffled.head(10)"
   ]
  },
  {
   "cell_type": "markdown",
   "metadata": {},
   "source": [
    "To avoid reshuffling the indexes, use the `ignore_index=` parameter"
   ]
  },
  {
   "cell_type": "code",
   "execution_count": 66,
   "metadata": {},
   "outputs": [
    {
     "data": {
      "text/html": [
       "<div>\n",
       "<style scoped>\n",
       "    .dataframe tbody tr th:only-of-type {\n",
       "        vertical-align: middle;\n",
       "    }\n",
       "\n",
       "    .dataframe tbody tr th {\n",
       "        vertical-align: top;\n",
       "    }\n",
       "\n",
       "    .dataframe thead th {\n",
       "        text-align: right;\n",
       "    }\n",
       "</style>\n",
       "<table border=\"1\" class=\"dataframe\">\n",
       "  <thead>\n",
       "    <tr style=\"text-align: right;\">\n",
       "      <th></th>\n",
       "      <th>A</th>\n",
       "      <th>B</th>\n",
       "      <th>C</th>\n",
       "      <th>D</th>\n",
       "      <th>E</th>\n",
       "      <th>F</th>\n",
       "      <th>G</th>\n",
       "      <th>H</th>\n",
       "      <th>I</th>\n",
       "      <th>J</th>\n",
       "    </tr>\n",
       "  </thead>\n",
       "  <tbody>\n",
       "    <tr>\n",
       "      <th>0</th>\n",
       "      <td>2.167681</td>\n",
       "      <td>-1.100380</td>\n",
       "      <td>0.533268</td>\n",
       "      <td>0.900856</td>\n",
       "      <td>-0.699760</td>\n",
       "      <td>0.310757</td>\n",
       "      <td>-1.203033</td>\n",
       "      <td>1.146754</td>\n",
       "      <td>-0.427338</td>\n",
       "      <td>-1.187539</td>\n",
       "    </tr>\n",
       "    <tr>\n",
       "      <th>1</th>\n",
       "      <td>-0.367421</td>\n",
       "      <td>-2.544412</td>\n",
       "      <td>-0.344344</td>\n",
       "      <td>-1.033376</td>\n",
       "      <td>1.890325</td>\n",
       "      <td>1.498709</td>\n",
       "      <td>1.853143</td>\n",
       "      <td>0.209210</td>\n",
       "      <td>-1.872613</td>\n",
       "      <td>1.018072</td>\n",
       "    </tr>\n",
       "    <tr>\n",
       "      <th>2</th>\n",
       "      <td>1.243792</td>\n",
       "      <td>0.985446</td>\n",
       "      <td>0.569719</td>\n",
       "      <td>-0.092572</td>\n",
       "      <td>-0.549652</td>\n",
       "      <td>-1.594772</td>\n",
       "      <td>0.130750</td>\n",
       "      <td>-0.691448</td>\n",
       "      <td>-0.353610</td>\n",
       "      <td>-1.283865</td>\n",
       "    </tr>\n",
       "    <tr>\n",
       "      <th>3</th>\n",
       "      <td>-0.002651</td>\n",
       "      <td>-1.229402</td>\n",
       "      <td>0.680762</td>\n",
       "      <td>-0.251256</td>\n",
       "      <td>0.192459</td>\n",
       "      <td>-0.028148</td>\n",
       "      <td>-1.162484</td>\n",
       "      <td>-0.028599</td>\n",
       "      <td>-0.806033</td>\n",
       "      <td>-0.643818</td>\n",
       "    </tr>\n",
       "    <tr>\n",
       "      <th>4</th>\n",
       "      <td>0.290662</td>\n",
       "      <td>0.581849</td>\n",
       "      <td>-0.883260</td>\n",
       "      <td>-0.523899</td>\n",
       "      <td>0.317947</td>\n",
       "      <td>1.032122</td>\n",
       "      <td>-1.624927</td>\n",
       "      <td>-1.303665</td>\n",
       "      <td>1.782966</td>\n",
       "      <td>-0.259326</td>\n",
       "    </tr>\n",
       "    <tr>\n",
       "      <th>5</th>\n",
       "      <td>-0.024723</td>\n",
       "      <td>-0.735439</td>\n",
       "      <td>-1.065051</td>\n",
       "      <td>-0.444326</td>\n",
       "      <td>-0.162541</td>\n",
       "      <td>1.325927</td>\n",
       "      <td>1.771526</td>\n",
       "      <td>-0.600173</td>\n",
       "      <td>1.804098</td>\n",
       "      <td>-2.331976</td>\n",
       "    </tr>\n",
       "    <tr>\n",
       "      <th>6</th>\n",
       "      <td>1.121538</td>\n",
       "      <td>-0.232486</td>\n",
       "      <td>0.778694</td>\n",
       "      <td>0.659951</td>\n",
       "      <td>-0.860736</td>\n",
       "      <td>-0.115027</td>\n",
       "      <td>-0.750742</td>\n",
       "      <td>-0.353585</td>\n",
       "      <td>1.783903</td>\n",
       "      <td>0.330824</td>\n",
       "    </tr>\n",
       "    <tr>\n",
       "      <th>7</th>\n",
       "      <td>-0.611594</td>\n",
       "      <td>-0.300625</td>\n",
       "      <td>-0.089564</td>\n",
       "      <td>-0.510516</td>\n",
       "      <td>0.095604</td>\n",
       "      <td>-1.422911</td>\n",
       "      <td>-1.943627</td>\n",
       "      <td>0.492276</td>\n",
       "      <td>-0.536279</td>\n",
       "      <td>-1.181425</td>\n",
       "    </tr>\n",
       "    <tr>\n",
       "      <th>8</th>\n",
       "      <td>0.630485</td>\n",
       "      <td>-1.946614</td>\n",
       "      <td>0.151392</td>\n",
       "      <td>-0.072440</td>\n",
       "      <td>1.664276</td>\n",
       "      <td>0.280054</td>\n",
       "      <td>-0.329528</td>\n",
       "      <td>-0.083428</td>\n",
       "      <td>-0.067882</td>\n",
       "      <td>0.131554</td>\n",
       "    </tr>\n",
       "    <tr>\n",
       "      <th>9</th>\n",
       "      <td>-0.721305</td>\n",
       "      <td>-0.275391</td>\n",
       "      <td>-1.494297</td>\n",
       "      <td>-1.482229</td>\n",
       "      <td>-0.153464</td>\n",
       "      <td>1.122138</td>\n",
       "      <td>-1.104885</td>\n",
       "      <td>-1.812210</td>\n",
       "      <td>1.668608</td>\n",
       "      <td>-1.383968</td>\n",
       "    </tr>\n",
       "  </tbody>\n",
       "</table>\n",
       "</div>"
      ],
      "text/plain": [
       "          A         B         C         D         E         F         G  \\\n",
       "0  2.167681 -1.100380  0.533268  0.900856 -0.699760  0.310757 -1.203033   \n",
       "1 -0.367421 -2.544412 -0.344344 -1.033376  1.890325  1.498709  1.853143   \n",
       "2  1.243792  0.985446  0.569719 -0.092572 -0.549652 -1.594772  0.130750   \n",
       "3 -0.002651 -1.229402  0.680762 -0.251256  0.192459 -0.028148 -1.162484   \n",
       "4  0.290662  0.581849 -0.883260 -0.523899  0.317947  1.032122 -1.624927   \n",
       "5 -0.024723 -0.735439 -1.065051 -0.444326 -0.162541  1.325927  1.771526   \n",
       "6  1.121538 -0.232486  0.778694  0.659951 -0.860736 -0.115027 -0.750742   \n",
       "7 -0.611594 -0.300625 -0.089564 -0.510516  0.095604 -1.422911 -1.943627   \n",
       "8  0.630485 -1.946614  0.151392 -0.072440  1.664276  0.280054 -0.329528   \n",
       "9 -0.721305 -0.275391 -1.494297 -1.482229 -0.153464  1.122138 -1.104885   \n",
       "\n",
       "          H         I         J  \n",
       "0  1.146754 -0.427338 -1.187539  \n",
       "1  0.209210 -1.872613  1.018072  \n",
       "2 -0.691448 -0.353610 -1.283865  \n",
       "3 -0.028599 -0.806033 -0.643818  \n",
       "4 -1.303665  1.782966 -0.259326  \n",
       "5 -0.600173  1.804098 -2.331976  \n",
       "6 -0.353585  1.783903  0.330824  \n",
       "7  0.492276 -0.536279 -1.181425  \n",
       "8 -0.083428 -0.067882  0.131554  \n",
       "9 -1.812210  1.668608 -1.383968  "
      ]
     },
     "execution_count": 66,
     "metadata": {},
     "output_type": "execute_result"
    }
   ],
   "source": [
    "shuffled = data.sample(len(data), ignore_index=True)\n",
    "shuffled.head(10)"
   ]
  },
  {
   "cell_type": "markdown",
   "metadata": {},
   "source": [
    "### Sorting a DataFrame\n",
    "\n",
    "We can sort indexes, column names, or the values of a DataFrame. For example, the following sorts the indexes (`axis=0`) of the DataFrame in an ascending order:"
   ]
  },
  {
   "cell_type": "code",
   "execution_count": 67,
   "metadata": {},
   "outputs": [
    {
     "data": {
      "text/html": [
       "<div>\n",
       "<style scoped>\n",
       "    .dataframe tbody tr th:only-of-type {\n",
       "        vertical-align: middle;\n",
       "    }\n",
       "\n",
       "    .dataframe tbody tr th {\n",
       "        vertical-align: top;\n",
       "    }\n",
       "\n",
       "    .dataframe thead th {\n",
       "        text-align: right;\n",
       "    }\n",
       "</style>\n",
       "<table border=\"1\" class=\"dataframe\">\n",
       "  <thead>\n",
       "    <tr style=\"text-align: right;\">\n",
       "      <th></th>\n",
       "      <th>byOne</th>\n",
       "      <th>byTwo</th>\n",
       "      <th>byThree</th>\n",
       "      <th>byFour</th>\n",
       "      <th>byFive</th>\n",
       "    </tr>\n",
       "  </thead>\n",
       "  <tbody>\n",
       "    <tr>\n",
       "      <th>x1</th>\n",
       "      <td>1</td>\n",
       "      <td>2</td>\n",
       "      <td>3</td>\n",
       "      <td>4</td>\n",
       "      <td>5</td>\n",
       "    </tr>\n",
       "    <tr>\n",
       "      <th>x10</th>\n",
       "      <td>10</td>\n",
       "      <td>20</td>\n",
       "      <td>30</td>\n",
       "      <td>40</td>\n",
       "      <td>50</td>\n",
       "    </tr>\n",
       "    <tr>\n",
       "      <th>x2</th>\n",
       "      <td>2</td>\n",
       "      <td>4</td>\n",
       "      <td>6</td>\n",
       "      <td>8</td>\n",
       "      <td>10</td>\n",
       "    </tr>\n",
       "    <tr>\n",
       "      <th>x3</th>\n",
       "      <td>3</td>\n",
       "      <td>6</td>\n",
       "      <td>9</td>\n",
       "      <td>12</td>\n",
       "      <td>15</td>\n",
       "    </tr>\n",
       "    <tr>\n",
       "      <th>x4</th>\n",
       "      <td>4</td>\n",
       "      <td>8</td>\n",
       "      <td>12</td>\n",
       "      <td>16</td>\n",
       "      <td>20</td>\n",
       "    </tr>\n",
       "    <tr>\n",
       "      <th>x5</th>\n",
       "      <td>5</td>\n",
       "      <td>10</td>\n",
       "      <td>15</td>\n",
       "      <td>20</td>\n",
       "      <td>25</td>\n",
       "    </tr>\n",
       "    <tr>\n",
       "      <th>x6</th>\n",
       "      <td>6</td>\n",
       "      <td>12</td>\n",
       "      <td>18</td>\n",
       "      <td>24</td>\n",
       "      <td>30</td>\n",
       "    </tr>\n",
       "    <tr>\n",
       "      <th>x7</th>\n",
       "      <td>7</td>\n",
       "      <td>14</td>\n",
       "      <td>21</td>\n",
       "      <td>28</td>\n",
       "      <td>35</td>\n",
       "    </tr>\n",
       "    <tr>\n",
       "      <th>x8</th>\n",
       "      <td>8</td>\n",
       "      <td>16</td>\n",
       "      <td>24</td>\n",
       "      <td>32</td>\n",
       "      <td>40</td>\n",
       "    </tr>\n",
       "    <tr>\n",
       "      <th>x9</th>\n",
       "      <td>9</td>\n",
       "      <td>18</td>\n",
       "      <td>27</td>\n",
       "      <td>36</td>\n",
       "      <td>45</td>\n",
       "    </tr>\n",
       "  </tbody>\n",
       "</table>\n",
       "</div>"
      ],
      "text/plain": [
       "     byOne  byTwo  byThree  byFour  byFive\n",
       "x1       1      2        3       4       5\n",
       "x10     10     20       30      40      50\n",
       "x2       2      4        6       8      10\n",
       "x3       3      6        9      12      15\n",
       "x4       4      8       12      16      20\n",
       "x5       5     10       15      20      25\n",
       "x6       6     12       18      24      30\n",
       "x7       7     14       21      28      35\n",
       "x8       8     16       24      32      40\n",
       "x9       9     18       27      36      45"
      ]
     },
     "execution_count": 67,
     "metadata": {},
     "output_type": "execute_result"
    }
   ],
   "source": [
    "mt.sort_index(axis=0)"
   ]
  },
  {
   "cell_type": "markdown",
   "metadata": {},
   "source": [
    "The following sorts the columns (`axis=1`) of the DataFrame in a descending order:"
   ]
  },
  {
   "cell_type": "code",
   "execution_count": 68,
   "metadata": {},
   "outputs": [
    {
     "data": {
      "text/html": [
       "<div>\n",
       "<style scoped>\n",
       "    .dataframe tbody tr th:only-of-type {\n",
       "        vertical-align: middle;\n",
       "    }\n",
       "\n",
       "    .dataframe tbody tr th {\n",
       "        vertical-align: top;\n",
       "    }\n",
       "\n",
       "    .dataframe thead th {\n",
       "        text-align: right;\n",
       "    }\n",
       "</style>\n",
       "<table border=\"1\" class=\"dataframe\">\n",
       "  <thead>\n",
       "    <tr style=\"text-align: right;\">\n",
       "      <th></th>\n",
       "      <th>byTwo</th>\n",
       "      <th>byThree</th>\n",
       "      <th>byOne</th>\n",
       "      <th>byFour</th>\n",
       "      <th>byFive</th>\n",
       "    </tr>\n",
       "  </thead>\n",
       "  <tbody>\n",
       "    <tr>\n",
       "      <th>x1</th>\n",
       "      <td>2</td>\n",
       "      <td>3</td>\n",
       "      <td>1</td>\n",
       "      <td>4</td>\n",
       "      <td>5</td>\n",
       "    </tr>\n",
       "    <tr>\n",
       "      <th>x2</th>\n",
       "      <td>4</td>\n",
       "      <td>6</td>\n",
       "      <td>2</td>\n",
       "      <td>8</td>\n",
       "      <td>10</td>\n",
       "    </tr>\n",
       "    <tr>\n",
       "      <th>x3</th>\n",
       "      <td>6</td>\n",
       "      <td>9</td>\n",
       "      <td>3</td>\n",
       "      <td>12</td>\n",
       "      <td>15</td>\n",
       "    </tr>\n",
       "    <tr>\n",
       "      <th>x4</th>\n",
       "      <td>8</td>\n",
       "      <td>12</td>\n",
       "      <td>4</td>\n",
       "      <td>16</td>\n",
       "      <td>20</td>\n",
       "    </tr>\n",
       "    <tr>\n",
       "      <th>x5</th>\n",
       "      <td>10</td>\n",
       "      <td>15</td>\n",
       "      <td>5</td>\n",
       "      <td>20</td>\n",
       "      <td>25</td>\n",
       "    </tr>\n",
       "    <tr>\n",
       "      <th>x6</th>\n",
       "      <td>12</td>\n",
       "      <td>18</td>\n",
       "      <td>6</td>\n",
       "      <td>24</td>\n",
       "      <td>30</td>\n",
       "    </tr>\n",
       "    <tr>\n",
       "      <th>x7</th>\n",
       "      <td>14</td>\n",
       "      <td>21</td>\n",
       "      <td>7</td>\n",
       "      <td>28</td>\n",
       "      <td>35</td>\n",
       "    </tr>\n",
       "    <tr>\n",
       "      <th>x8</th>\n",
       "      <td>16</td>\n",
       "      <td>24</td>\n",
       "      <td>8</td>\n",
       "      <td>32</td>\n",
       "      <td>40</td>\n",
       "    </tr>\n",
       "    <tr>\n",
       "      <th>x9</th>\n",
       "      <td>18</td>\n",
       "      <td>27</td>\n",
       "      <td>9</td>\n",
       "      <td>36</td>\n",
       "      <td>45</td>\n",
       "    </tr>\n",
       "    <tr>\n",
       "      <th>x10</th>\n",
       "      <td>20</td>\n",
       "      <td>30</td>\n",
       "      <td>10</td>\n",
       "      <td>40</td>\n",
       "      <td>50</td>\n",
       "    </tr>\n",
       "  </tbody>\n",
       "</table>\n",
       "</div>"
      ],
      "text/plain": [
       "     byTwo  byThree  byOne  byFour  byFive\n",
       "x1       2        3      1       4       5\n",
       "x2       4        6      2       8      10\n",
       "x3       6        9      3      12      15\n",
       "x4       8       12      4      16      20\n",
       "x5      10       15      5      20      25\n",
       "x6      12       18      6      24      30\n",
       "x7      14       21      7      28      35\n",
       "x8      16       24      8      32      40\n",
       "x9      18       27      9      36      45\n",
       "x10     20       30     10      40      50"
      ]
     },
     "execution_count": 68,
     "metadata": {},
     "output_type": "execute_result"
    }
   ],
   "source": [
    "mt.sort_index(axis=1, ascending=False)"
   ]
  },
  {
   "cell_type": "markdown",
   "metadata": {},
   "source": [
    "Here is how to sort the values a given a column"
   ]
  },
  {
   "cell_type": "code",
   "execution_count": 69,
   "metadata": {
    "tags": []
   },
   "outputs": [
    {
     "data": {
      "text/html": [
       "<div>\n",
       "<style scoped>\n",
       "    .dataframe tbody tr th:only-of-type {\n",
       "        vertical-align: middle;\n",
       "    }\n",
       "\n",
       "    .dataframe tbody tr th {\n",
       "        vertical-align: top;\n",
       "    }\n",
       "\n",
       "    .dataframe thead th {\n",
       "        text-align: right;\n",
       "    }\n",
       "</style>\n",
       "<table border=\"1\" class=\"dataframe\">\n",
       "  <thead>\n",
       "    <tr style=\"text-align: right;\">\n",
       "      <th></th>\n",
       "      <th>byOne</th>\n",
       "      <th>byTwo</th>\n",
       "      <th>byThree</th>\n",
       "      <th>byFour</th>\n",
       "      <th>byFive</th>\n",
       "    </tr>\n",
       "  </thead>\n",
       "  <tbody>\n",
       "    <tr>\n",
       "      <th>x10</th>\n",
       "      <td>10</td>\n",
       "      <td>20</td>\n",
       "      <td>30</td>\n",
       "      <td>40</td>\n",
       "      <td>50</td>\n",
       "    </tr>\n",
       "    <tr>\n",
       "      <th>x9</th>\n",
       "      <td>9</td>\n",
       "      <td>18</td>\n",
       "      <td>27</td>\n",
       "      <td>36</td>\n",
       "      <td>45</td>\n",
       "    </tr>\n",
       "    <tr>\n",
       "      <th>x8</th>\n",
       "      <td>8</td>\n",
       "      <td>16</td>\n",
       "      <td>24</td>\n",
       "      <td>32</td>\n",
       "      <td>40</td>\n",
       "    </tr>\n",
       "    <tr>\n",
       "      <th>x7</th>\n",
       "      <td>7</td>\n",
       "      <td>14</td>\n",
       "      <td>21</td>\n",
       "      <td>28</td>\n",
       "      <td>35</td>\n",
       "    </tr>\n",
       "    <tr>\n",
       "      <th>x6</th>\n",
       "      <td>6</td>\n",
       "      <td>12</td>\n",
       "      <td>18</td>\n",
       "      <td>24</td>\n",
       "      <td>30</td>\n",
       "    </tr>\n",
       "    <tr>\n",
       "      <th>x5</th>\n",
       "      <td>5</td>\n",
       "      <td>10</td>\n",
       "      <td>15</td>\n",
       "      <td>20</td>\n",
       "      <td>25</td>\n",
       "    </tr>\n",
       "    <tr>\n",
       "      <th>x4</th>\n",
       "      <td>4</td>\n",
       "      <td>8</td>\n",
       "      <td>12</td>\n",
       "      <td>16</td>\n",
       "      <td>20</td>\n",
       "    </tr>\n",
       "    <tr>\n",
       "      <th>x3</th>\n",
       "      <td>3</td>\n",
       "      <td>6</td>\n",
       "      <td>9</td>\n",
       "      <td>12</td>\n",
       "      <td>15</td>\n",
       "    </tr>\n",
       "    <tr>\n",
       "      <th>x2</th>\n",
       "      <td>2</td>\n",
       "      <td>4</td>\n",
       "      <td>6</td>\n",
       "      <td>8</td>\n",
       "      <td>10</td>\n",
       "    </tr>\n",
       "    <tr>\n",
       "      <th>x1</th>\n",
       "      <td>1</td>\n",
       "      <td>2</td>\n",
       "      <td>3</td>\n",
       "      <td>4</td>\n",
       "      <td>5</td>\n",
       "    </tr>\n",
       "  </tbody>\n",
       "</table>\n",
       "</div>"
      ],
      "text/plain": [
       "     byOne  byTwo  byThree  byFour  byFive\n",
       "x10     10     20       30      40      50\n",
       "x9       9     18       27      36      45\n",
       "x8       8     16       24      32      40\n",
       "x7       7     14       21      28      35\n",
       "x6       6     12       18      24      30\n",
       "x5       5     10       15      20      25\n",
       "x4       4      8       12      16      20\n",
       "x3       3      6        9      12      15\n",
       "x2       2      4        6       8      10\n",
       "x1       1      2        3       4       5"
      ]
     },
     "execution_count": 69,
     "metadata": {},
     "output_type": "execute_result"
    }
   ],
   "source": [
    "mt.sort_values('byThree', ascending=False)"
   ]
  },
  {
   "cell_type": "markdown",
   "metadata": {},
   "source": [
    "and here is how to sort the values of a given row"
   ]
  },
  {
   "cell_type": "code",
   "execution_count": 70,
   "metadata": {
    "tags": []
   },
   "outputs": [
    {
     "data": {
      "text/html": [
       "<div>\n",
       "<style scoped>\n",
       "    .dataframe tbody tr th:only-of-type {\n",
       "        vertical-align: middle;\n",
       "    }\n",
       "\n",
       "    .dataframe tbody tr th {\n",
       "        vertical-align: top;\n",
       "    }\n",
       "\n",
       "    .dataframe thead th {\n",
       "        text-align: right;\n",
       "    }\n",
       "</style>\n",
       "<table border=\"1\" class=\"dataframe\">\n",
       "  <thead>\n",
       "    <tr style=\"text-align: right;\">\n",
       "      <th></th>\n",
       "      <th>byOne</th>\n",
       "      <th>byTwo</th>\n",
       "      <th>byThree</th>\n",
       "      <th>byFour</th>\n",
       "      <th>byFive</th>\n",
       "    </tr>\n",
       "  </thead>\n",
       "  <tbody>\n",
       "    <tr>\n",
       "      <th>x1</th>\n",
       "      <td>1</td>\n",
       "      <td>2</td>\n",
       "      <td>3</td>\n",
       "      <td>4</td>\n",
       "      <td>5</td>\n",
       "    </tr>\n",
       "    <tr>\n",
       "      <th>x2</th>\n",
       "      <td>2</td>\n",
       "      <td>4</td>\n",
       "      <td>6</td>\n",
       "      <td>8</td>\n",
       "      <td>10</td>\n",
       "    </tr>\n",
       "    <tr>\n",
       "      <th>x3</th>\n",
       "      <td>3</td>\n",
       "      <td>6</td>\n",
       "      <td>9</td>\n",
       "      <td>12</td>\n",
       "      <td>15</td>\n",
       "    </tr>\n",
       "    <tr>\n",
       "      <th>x4</th>\n",
       "      <td>4</td>\n",
       "      <td>8</td>\n",
       "      <td>12</td>\n",
       "      <td>16</td>\n",
       "      <td>20</td>\n",
       "    </tr>\n",
       "    <tr>\n",
       "      <th>x5</th>\n",
       "      <td>5</td>\n",
       "      <td>10</td>\n",
       "      <td>15</td>\n",
       "      <td>20</td>\n",
       "      <td>25</td>\n",
       "    </tr>\n",
       "    <tr>\n",
       "      <th>x6</th>\n",
       "      <td>6</td>\n",
       "      <td>12</td>\n",
       "      <td>18</td>\n",
       "      <td>24</td>\n",
       "      <td>30</td>\n",
       "    </tr>\n",
       "    <tr>\n",
       "      <th>x7</th>\n",
       "      <td>7</td>\n",
       "      <td>14</td>\n",
       "      <td>21</td>\n",
       "      <td>28</td>\n",
       "      <td>35</td>\n",
       "    </tr>\n",
       "    <tr>\n",
       "      <th>x8</th>\n",
       "      <td>8</td>\n",
       "      <td>16</td>\n",
       "      <td>24</td>\n",
       "      <td>32</td>\n",
       "      <td>40</td>\n",
       "    </tr>\n",
       "    <tr>\n",
       "      <th>x9</th>\n",
       "      <td>9</td>\n",
       "      <td>18</td>\n",
       "      <td>27</td>\n",
       "      <td>36</td>\n",
       "      <td>45</td>\n",
       "    </tr>\n",
       "    <tr>\n",
       "      <th>x10</th>\n",
       "      <td>10</td>\n",
       "      <td>20</td>\n",
       "      <td>30</td>\n",
       "      <td>40</td>\n",
       "      <td>50</td>\n",
       "    </tr>\n",
       "  </tbody>\n",
       "</table>\n",
       "</div>"
      ],
      "text/plain": [
       "     byOne  byTwo  byThree  byFour  byFive\n",
       "x1       1      2        3       4       5\n",
       "x2       2      4        6       8      10\n",
       "x3       3      6        9      12      15\n",
       "x4       4      8       12      16      20\n",
       "x5       5     10       15      20      25\n",
       "x6       6     12       18      24      30\n",
       "x7       7     14       21      28      35\n",
       "x8       8     16       24      32      40\n",
       "x9       9     18       27      36      45\n",
       "x10     10     20       30      40      50"
      ]
     },
     "execution_count": 70,
     "metadata": {},
     "output_type": "execute_result"
    }
   ],
   "source": [
    "mt.sort_values('x5', ascending=True, axis=1)"
   ]
  },
  {
   "cell_type": "markdown",
   "metadata": {},
   "source": [
    "### Saving a DataFrame to a csv file"
   ]
  },
  {
   "cell_type": "code",
   "execution_count": 71,
   "metadata": {
    "tags": []
   },
   "outputs": [],
   "source": [
    "mt.to_csv(\"mt.csv\", index=False)"
   ]
  },
  {
   "cell_type": "markdown",
   "metadata": {},
   "source": [
    "### Reading from a csv file"
   ]
  },
  {
   "cell_type": "code",
   "execution_count": 72,
   "metadata": {},
   "outputs": [
    {
     "data": {
      "text/html": [
       "<div>\n",
       "<style scoped>\n",
       "    .dataframe tbody tr th:only-of-type {\n",
       "        vertical-align: middle;\n",
       "    }\n",
       "\n",
       "    .dataframe tbody tr th {\n",
       "        vertical-align: top;\n",
       "    }\n",
       "\n",
       "    .dataframe thead th {\n",
       "        text-align: right;\n",
       "    }\n",
       "</style>\n",
       "<table border=\"1\" class=\"dataframe\">\n",
       "  <thead>\n",
       "    <tr style=\"text-align: right;\">\n",
       "      <th></th>\n",
       "      <th>byOne</th>\n",
       "      <th>byTwo</th>\n",
       "      <th>byThree</th>\n",
       "      <th>byFour</th>\n",
       "      <th>byFive</th>\n",
       "    </tr>\n",
       "  </thead>\n",
       "  <tbody>\n",
       "    <tr>\n",
       "      <th>0</th>\n",
       "      <td>1</td>\n",
       "      <td>2</td>\n",
       "      <td>3</td>\n",
       "      <td>4</td>\n",
       "      <td>5</td>\n",
       "    </tr>\n",
       "    <tr>\n",
       "      <th>1</th>\n",
       "      <td>2</td>\n",
       "      <td>4</td>\n",
       "      <td>6</td>\n",
       "      <td>8</td>\n",
       "      <td>10</td>\n",
       "    </tr>\n",
       "    <tr>\n",
       "      <th>2</th>\n",
       "      <td>3</td>\n",
       "      <td>6</td>\n",
       "      <td>9</td>\n",
       "      <td>12</td>\n",
       "      <td>15</td>\n",
       "    </tr>\n",
       "    <tr>\n",
       "      <th>3</th>\n",
       "      <td>4</td>\n",
       "      <td>8</td>\n",
       "      <td>12</td>\n",
       "      <td>16</td>\n",
       "      <td>20</td>\n",
       "    </tr>\n",
       "    <tr>\n",
       "      <th>4</th>\n",
       "      <td>5</td>\n",
       "      <td>10</td>\n",
       "      <td>15</td>\n",
       "      <td>20</td>\n",
       "      <td>25</td>\n",
       "    </tr>\n",
       "    <tr>\n",
       "      <th>5</th>\n",
       "      <td>6</td>\n",
       "      <td>12</td>\n",
       "      <td>18</td>\n",
       "      <td>24</td>\n",
       "      <td>30</td>\n",
       "    </tr>\n",
       "    <tr>\n",
       "      <th>6</th>\n",
       "      <td>7</td>\n",
       "      <td>14</td>\n",
       "      <td>21</td>\n",
       "      <td>28</td>\n",
       "      <td>35</td>\n",
       "    </tr>\n",
       "    <tr>\n",
       "      <th>7</th>\n",
       "      <td>8</td>\n",
       "      <td>16</td>\n",
       "      <td>24</td>\n",
       "      <td>32</td>\n",
       "      <td>40</td>\n",
       "    </tr>\n",
       "    <tr>\n",
       "      <th>8</th>\n",
       "      <td>9</td>\n",
       "      <td>18</td>\n",
       "      <td>27</td>\n",
       "      <td>36</td>\n",
       "      <td>45</td>\n",
       "    </tr>\n",
       "    <tr>\n",
       "      <th>9</th>\n",
       "      <td>10</td>\n",
       "      <td>20</td>\n",
       "      <td>30</td>\n",
       "      <td>40</td>\n",
       "      <td>50</td>\n",
       "    </tr>\n",
       "  </tbody>\n",
       "</table>\n",
       "</div>"
      ],
      "text/plain": [
       "   byOne  byTwo  byThree  byFour  byFive\n",
       "0      1      2        3       4       5\n",
       "1      2      4        6       8      10\n",
       "2      3      6        9      12      15\n",
       "3      4      8       12      16      20\n",
       "4      5     10       15      20      25\n",
       "5      6     12       18      24      30\n",
       "6      7     14       21      28      35\n",
       "7      8     16       24      32      40\n",
       "8      9     18       27      36      45\n",
       "9     10     20       30      40      50"
      ]
     },
     "execution_count": 72,
     "metadata": {},
     "output_type": "execute_result"
    }
   ],
   "source": [
    "new_mt = pd.read_csv(\"mt.csv\")\n",
    "new_mt"
   ]
  },
  {
   "cell_type": "markdown",
   "metadata": {},
   "source": [
    "## EXERCISE\n",
    "Do Exercise 1 - Part B"
   ]
  }
 ],
 "metadata": {
  "kernelspec": {
   "display_name": "Python 3 (ipykernel)",
   "language": "python",
   "name": "python3"
  },
  "language_info": {
   "codemirror_mode": {
    "name": "ipython",
    "version": 3
   },
   "file_extension": ".py",
   "mimetype": "text/x-python",
   "name": "python",
   "nbconvert_exporter": "python",
   "pygments_lexer": "ipython3",
   "version": "3.9.13"
  },
  "vscode": {
   "interpreter": {
    "hash": "0c4ab92bbc10d18b480eb40b47e751a2f458ae1b2b88576453c716fde62785ad"
   }
  }
 },
 "nbformat": 4,
 "nbformat_minor": 4
}
