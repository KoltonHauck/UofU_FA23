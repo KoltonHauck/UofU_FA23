{
 "cells": [
  {
   "cell_type": "markdown",
   "id": "0faef48a-1a5f-42fd-a4ed-f39c930d68fc",
   "metadata": {
    "tags": []
   },
   "source": [
    "# Exercise 3"
   ]
  },
  {
   "cell_type": "code",
   "execution_count": 1,
   "id": "6d596a02-4ad0-4443-a128-5554e6e99fa4",
   "metadata": {},
   "outputs": [],
   "source": [
    "import numpy as np\n",
    "import pandas as pd"
   ]
  },
  {
   "cell_type": "markdown",
   "id": "16ac21a0-cd4b-4185-bebc-1f6c461a83e0",
   "metadata": {
    "tags": []
   },
   "source": [
    "## PART A\n",
    "**(15 points)** If we use the weighted entropy:\n",
    "$${\\displaystyle \\operatorname {Weighted\\ Entropy(F,D)} = \\sum_{f \\in values(F)}\\frac{|D_f|}{|D|}H(D_f)}$$\n",
    "\n",
    "instead of the information gain:\n",
    "$${\\displaystyle \\operatorname {Gain(F,D)} =H(D) -\\sum_{f \\in values(F)}\\frac{|D_f|}{|D|}H(D_f)}$$\n",
    "\n",
    "to determine the best feature, will that work? And if so, does that change how the next best feature for splitting is selected?"
   ]
  },
  {
   "cell_type": "raw",
   "id": "59d16951-2667-4ccb-af26-0d2ce1448f65",
   "metadata": {},
   "source": [
    "It can work, but using weighted entropy instead of information gain changes the criteria in deciding which feature to use for the next split. Information gain tells us how much uncertainty will be reduced when using the given feature in the next split. We take the feature with the next highest information gain because it reduces the most amount of uncertainty.\n",
    "\n",
    "Weighted entropy, a measure of entropy that represents how much 'disorganization' (or organized/homogeneity) is present, takes into account the distribution for each class. At each split, we determine the feature that will minimize the weighted entropy, thus ensuring a minimum of 'disorganization' (or maximum of homogeneity since that is our goal with decision trees: create splits that create the most homogenous groups)."
   ]
  },
  {
   "cell_type": "markdown",
   "id": "5fc43f1b-75b1-4cc5-b632-2634773abfde",
   "metadata": {},
   "source": [
    "## PART B\n",
    "* **(60 points)** Study the detailed example of the `07.decision_trees.ipynb` handout, and follow its steps to train a decision tree on the dataset below. The goal is to be able to recommend whether to play golf or not based on weather conditions (outlook, temperature, and humidity). Use the **weighted gini index** instead of the information gain to construct the tree. "
   ]
  },
  {
   "cell_type": "code",
   "execution_count": 2,
   "id": "58cbf199-c607-4ae1-9ccd-4baf0a9caab2",
   "metadata": {},
   "outputs": [
    {
     "data": {
      "text/html": [
       "<div>\n",
       "<style scoped>\n",
       "    .dataframe tbody tr th:only-of-type {\n",
       "        vertical-align: middle;\n",
       "    }\n",
       "\n",
       "    .dataframe tbody tr th {\n",
       "        vertical-align: top;\n",
       "    }\n",
       "\n",
       "    .dataframe thead th {\n",
       "        text-align: right;\n",
       "    }\n",
       "</style>\n",
       "<table border=\"1\" class=\"dataframe\">\n",
       "  <thead>\n",
       "    <tr style=\"text-align: right;\">\n",
       "      <th></th>\n",
       "      <th>Outlook</th>\n",
       "      <th>Temperature</th>\n",
       "      <th>Humidity</th>\n",
       "      <th>Play Golf</th>\n",
       "    </tr>\n",
       "  </thead>\n",
       "  <tbody>\n",
       "    <tr>\n",
       "      <th>0</th>\n",
       "      <td>Rainy</td>\n",
       "      <td>Hot</td>\n",
       "      <td>High</td>\n",
       "      <td>No</td>\n",
       "    </tr>\n",
       "    <tr>\n",
       "      <th>1</th>\n",
       "      <td>Overcast</td>\n",
       "      <td>Hot</td>\n",
       "      <td>High</td>\n",
       "      <td>Yes</td>\n",
       "    </tr>\n",
       "    <tr>\n",
       "      <th>2</th>\n",
       "      <td>Sunny</td>\n",
       "      <td>Mild</td>\n",
       "      <td>High</td>\n",
       "      <td>Yes</td>\n",
       "    </tr>\n",
       "    <tr>\n",
       "      <th>3</th>\n",
       "      <td>Sunny</td>\n",
       "      <td>Cool</td>\n",
       "      <td>Normal</td>\n",
       "      <td>No</td>\n",
       "    </tr>\n",
       "    <tr>\n",
       "      <th>4</th>\n",
       "      <td>Overcast</td>\n",
       "      <td>Cool</td>\n",
       "      <td>Normal</td>\n",
       "      <td>Yes</td>\n",
       "    </tr>\n",
       "    <tr>\n",
       "      <th>5</th>\n",
       "      <td>Rainy</td>\n",
       "      <td>Mild</td>\n",
       "      <td>High</td>\n",
       "      <td>No</td>\n",
       "    </tr>\n",
       "    <tr>\n",
       "      <th>6</th>\n",
       "      <td>Rainy</td>\n",
       "      <td>Cool</td>\n",
       "      <td>Normal</td>\n",
       "      <td>Yes</td>\n",
       "    </tr>\n",
       "    <tr>\n",
       "      <th>7</th>\n",
       "      <td>Sunny</td>\n",
       "      <td>Mild</td>\n",
       "      <td>Normal</td>\n",
       "      <td>Yes</td>\n",
       "    </tr>\n",
       "    <tr>\n",
       "      <th>8</th>\n",
       "      <td>Rainy</td>\n",
       "      <td>Mild</td>\n",
       "      <td>Normal</td>\n",
       "      <td>Yes</td>\n",
       "    </tr>\n",
       "    <tr>\n",
       "      <th>9</th>\n",
       "      <td>Overcast</td>\n",
       "      <td>Mild</td>\n",
       "      <td>High</td>\n",
       "      <td>Yes</td>\n",
       "    </tr>\n",
       "    <tr>\n",
       "      <th>10</th>\n",
       "      <td>Overcast</td>\n",
       "      <td>Hot</td>\n",
       "      <td>Normal</td>\n",
       "      <td>Yes</td>\n",
       "    </tr>\n",
       "  </tbody>\n",
       "</table>\n",
       "</div>"
      ],
      "text/plain": [
       "     Outlook Temperature Humidity Play Golf\n",
       "0      Rainy         Hot     High        No\n",
       "1   Overcast         Hot     High       Yes\n",
       "2      Sunny        Mild     High       Yes\n",
       "3      Sunny        Cool   Normal        No\n",
       "4   Overcast        Cool   Normal       Yes\n",
       "5      Rainy        Mild     High        No\n",
       "6      Rainy        Cool   Normal       Yes\n",
       "7      Sunny        Mild   Normal       Yes\n",
       "8      Rainy        Mild   Normal       Yes\n",
       "9   Overcast        Mild     High       Yes\n",
       "10  Overcast         Hot   Normal       Yes"
      ]
     },
     "execution_count": 2,
     "metadata": {},
     "output_type": "execute_result"
    }
   ],
   "source": [
    "df = pd.DataFrame({\n",
    "    'Outlook': ['Rainy', 'Overcast', 'Sunny', 'Sunny', 'Overcast', 'Rainy', 'Rainy', 'Sunny', 'Rainy', 'Overcast', 'Overcast'],\n",
    "    'Temperature': ['Hot', 'Hot', 'Mild', 'Cool', 'Cool', 'Mild', 'Cool', 'Mild', 'Mild', 'Mild', 'Hot'],\n",
    "    'Humidity': ['High', 'High', 'High', 'Normal', 'Normal', 'High', 'Normal', 'Normal', 'Normal', 'High', 'Normal'],\n",
    "    'Play Golf': ['No', 'Yes', 'Yes', 'No', 'Yes', 'No', 'Yes', 'Yes', 'Yes', 'Yes', 'Yes']\n",
    "})\n",
    "\n",
    "df"
   ]
  },
  {
   "cell_type": "markdown",
   "id": "7c9a0c9f-c47e-4ad4-bbb9-533865b1e345",
   "metadata": {},
   "source": [
    "  Theoretically, the Gini impurity for a set of examples with labels $y_i$, where $i \\in \\{1, 2,\\dots,L\\}$ and $L$ is the number of unique labels, is written as:\n",
    "\n",
    "  $${\\displaystyle \\operatorname {G(D)}=\\sum _{i=1}^{L}\\sum _{k\\neq i}p_{i} p_{k} = \\sum _{i=1}^{L}\\left(p_{i}\\sum _{k\\neq i}p_{k}\\right)=\\sum _{i=1}^{L}p_{i}(1-p_{i})=\\sum _{i=1}^{L}p_{i}-\\sum _{i=1}^{L}{p_{i}}^{2}=1-\\sum _{i=1}^{L}{p_{i}}^{2}}$$\n",
    "  \n",
    "  where $p_i$ be the fraction of examples with the label $y_i$. We can then use this equation to calculate the **weighted gini index** for a feature $F$ as follows:\n",
    "  \n",
    "  $${\\displaystyle \\operatorname {Weighted\\ Gini\\ Index(F,D)} =\\sum_{f \\in values(F)}\\frac{|D_f|}{|D|}G(D_f)}$$\n",
    "  \n",
    "  where $D_f$ is the set of all examples in $D$ where feature $F$ has the value $f$. \n",
    "  \n",
    "  **IMPORTANT:** The `gini()` function below implements the $G(D)$ equation above; use it in the calculations of the **weighted gini index**. Notice that we are looking for the feature with the minimum **weighted gini index**."
   ]
  },
  {
   "cell_type": "code",
   "execution_count": 13,
   "id": "a77f035e-64ff-464e-a53c-7beff84de81d",
   "metadata": {},
   "outputs": [
    {
     "data": {
      "text/html": [
       "<div>\n",
       "<style scoped>\n",
       "    .dataframe tbody tr th:only-of-type {\n",
       "        vertical-align: middle;\n",
       "    }\n",
       "\n",
       "    .dataframe tbody tr th {\n",
       "        vertical-align: top;\n",
       "    }\n",
       "\n",
       "    .dataframe thead th {\n",
       "        text-align: right;\n",
       "    }\n",
       "</style>\n",
       "<table border=\"1\" class=\"dataframe\">\n",
       "  <thead>\n",
       "    <tr style=\"text-align: right;\">\n",
       "      <th></th>\n",
       "      <th>Outlook</th>\n",
       "      <th>Temperature</th>\n",
       "      <th>Humidity</th>\n",
       "      <th>Play Golf</th>\n",
       "    </tr>\n",
       "  </thead>\n",
       "  <tbody>\n",
       "    <tr>\n",
       "      <th>0</th>\n",
       "      <td>Rainy</td>\n",
       "      <td>Hot</td>\n",
       "      <td>High</td>\n",
       "      <td>No</td>\n",
       "    </tr>\n",
       "    <tr>\n",
       "      <th>1</th>\n",
       "      <td>Overcast</td>\n",
       "      <td>Hot</td>\n",
       "      <td>High</td>\n",
       "      <td>Yes</td>\n",
       "    </tr>\n",
       "    <tr>\n",
       "      <th>2</th>\n",
       "      <td>Sunny</td>\n",
       "      <td>Mild</td>\n",
       "      <td>High</td>\n",
       "      <td>Yes</td>\n",
       "    </tr>\n",
       "    <tr>\n",
       "      <th>3</th>\n",
       "      <td>Sunny</td>\n",
       "      <td>Cool</td>\n",
       "      <td>Normal</td>\n",
       "      <td>No</td>\n",
       "    </tr>\n",
       "    <tr>\n",
       "      <th>4</th>\n",
       "      <td>Overcast</td>\n",
       "      <td>Cool</td>\n",
       "      <td>Normal</td>\n",
       "      <td>Yes</td>\n",
       "    </tr>\n",
       "    <tr>\n",
       "      <th>5</th>\n",
       "      <td>Rainy</td>\n",
       "      <td>Mild</td>\n",
       "      <td>High</td>\n",
       "      <td>No</td>\n",
       "    </tr>\n",
       "    <tr>\n",
       "      <th>6</th>\n",
       "      <td>Rainy</td>\n",
       "      <td>Cool</td>\n",
       "      <td>Normal</td>\n",
       "      <td>Yes</td>\n",
       "    </tr>\n",
       "    <tr>\n",
       "      <th>7</th>\n",
       "      <td>Sunny</td>\n",
       "      <td>Mild</td>\n",
       "      <td>Normal</td>\n",
       "      <td>Yes</td>\n",
       "    </tr>\n",
       "    <tr>\n",
       "      <th>8</th>\n",
       "      <td>Rainy</td>\n",
       "      <td>Mild</td>\n",
       "      <td>Normal</td>\n",
       "      <td>Yes</td>\n",
       "    </tr>\n",
       "    <tr>\n",
       "      <th>9</th>\n",
       "      <td>Overcast</td>\n",
       "      <td>Mild</td>\n",
       "      <td>High</td>\n",
       "      <td>Yes</td>\n",
       "    </tr>\n",
       "    <tr>\n",
       "      <th>10</th>\n",
       "      <td>Overcast</td>\n",
       "      <td>Hot</td>\n",
       "      <td>Normal</td>\n",
       "      <td>Yes</td>\n",
       "    </tr>\n",
       "  </tbody>\n",
       "</table>\n",
       "</div>"
      ],
      "text/plain": [
       "     Outlook Temperature Humidity Play Golf\n",
       "0      Rainy         Hot     High        No\n",
       "1   Overcast         Hot     High       Yes\n",
       "2      Sunny        Mild     High       Yes\n",
       "3      Sunny        Cool   Normal        No\n",
       "4   Overcast        Cool   Normal       Yes\n",
       "5      Rainy        Mild     High        No\n",
       "6      Rainy        Cool   Normal       Yes\n",
       "7      Sunny        Mild   Normal       Yes\n",
       "8      Rainy        Mild   Normal       Yes\n",
       "9   Overcast        Mild     High       Yes\n",
       "10  Overcast         Hot   Normal       Yes"
      ]
     },
     "execution_count": 13,
     "metadata": {},
     "output_type": "execute_result"
    }
   ],
   "source": [
    "df"
   ]
  },
  {
   "cell_type": "code",
   "execution_count": 47,
   "id": "d973f7ea-deae-4992-8769-f1c565ffc46a",
   "metadata": {},
   "outputs": [
    {
     "data": {
      "text/plain": [
       "0.7024793388429752"
      ]
     },
     "execution_count": 47,
     "metadata": {},
     "output_type": "execute_result"
    }
   ],
   "source": [
    "g_outlook = 1 - ((4/11)**2 + (4/11)**2 + (2/11)**2)\n",
    "g_outlook"
   ]
  },
  {
   "cell_type": "code",
   "execution_count": 16,
   "id": "d4d77328-f681-4577-8ad5-483cb154f3b3",
   "metadata": {},
   "outputs": [
    {
     "data": {
      "text/plain": [
       "0.30303030303030304"
      ]
     },
     "execution_count": 16,
     "metadata": {},
     "output_type": "execute_result"
    }
   ],
   "source": [
    "d_rainy = df[df['Outlook'] == 'Rainy']\n",
    "d_overcast = df[df['Outlook'] == 'Overcast']\n",
    "d_sunny = df[df['Outlook'] == 'Sunny']\n",
    "\n",
    "gini_outlook = (\n",
    "    (len(d_rainy) / len(df)) * gini(d_rainy) +\n",
    "    (len(d_overcast) / len(df)) * gini(d_overcast) + \n",
    "    (len(d_sunny) / len(df)) * gini(d_sunny)\n",
    ")\n",
    "gini_outlook"
   ]
  },
  {
   "cell_type": "code",
   "execution_count": 17,
   "id": "08a7d7d4-34f4-49d4-a8e2-7c6821ea8ccc",
   "metadata": {},
   "outputs": [
    {
     "data": {
      "text/plain": [
       "0.38787878787878777"
      ]
     },
     "execution_count": 17,
     "metadata": {},
     "output_type": "execute_result"
    }
   ],
   "source": [
    "d_hot = df[df['Temperature'] == 'Hot']\n",
    "d_mild = df[df['Temperature'] == 'Mild']\n",
    "d_cool = df[df['Temperature'] == 'Cool']\n",
    "\n",
    "gini_temperature = (\n",
    "    (len(d_hot) / len(df)) * gini(d_hot) +\n",
    "    (len(d_mild) / len(df)) * gini(d_mild) + \n",
    "    (len(d_cool) / len(df)) * gini(d_cool)\n",
    ")\n",
    "gini_temperature"
   ]
  },
  {
   "cell_type": "code",
   "execution_count": 24,
   "id": "b3c3f7b8-5235-46bd-8c87-1b5ee8754749",
   "metadata": {},
   "outputs": [
    {
     "data": {
      "text/plain": [
       "0.36969696969696964"
      ]
     },
     "execution_count": 24,
     "metadata": {},
     "output_type": "execute_result"
    }
   ],
   "source": [
    "d_high = df[df['Humidity'] == 'High']\n",
    "d_normal = df[df['Humidity'] == 'Normal']\n",
    "\n",
    "gini_humidity = (\n",
    "    (len(d_high) / len(df)) * gini(d_high) +\n",
    "    (len(d_normal) / len(df)) * gini(d_normal)\n",
    ")\n",
    "gini_humidity"
   ]
  },
  {
   "cell_type": "code",
   "execution_count": 41,
   "id": "261000a9-dcbe-4264-bb64-794d80fa75d8",
   "metadata": {},
   "outputs": [
    {
     "data": {
      "text/plain": [
       "Rainy       0.363636\n",
       "Overcast    0.363636\n",
       "Sunny       0.272727\n",
       "Name: Outlook, dtype: float64"
      ]
     },
     "execution_count": 41,
     "metadata": {},
     "output_type": "execute_result"
    }
   ],
   "source": [
    "p = df[['Outlook']].iloc[:,-1].value_counts() / len(df)\n",
    "gini_imp = 1 - (p**2).sum()\n",
    "df[['Outlook']].iloc[:,-1].value_counts() / len(df)"
   ]
  },
  {
   "cell_type": "code",
   "execution_count": 42,
   "id": "71393093-331e-447e-8b2c-12f3618a2358",
   "metadata": {},
   "outputs": [
    {
     "data": {
      "text/plain": [
       "0.6611570247933884"
      ]
     },
     "execution_count": 42,
     "metadata": {},
     "output_type": "execute_result"
    }
   ],
   "source": [
    "gini_imp"
   ]
  },
  {
   "cell_type": "code",
   "execution_count": 33,
   "id": "0bbd9154-2bb3-4f15-b563-224b6013bb34",
   "metadata": {},
   "outputs": [
    {
     "data": {
      "text/plain": [
       "0.6611570247933884"
      ]
     },
     "execution_count": 33,
     "metadata": {},
     "output_type": "execute_result"
    }
   ],
   "source": [
    "gini(df[['Outlook']])"
   ]
  },
  {
   "cell_type": "code",
   "execution_count": 3,
   "id": "06a9ad5f-e8ac-491c-867c-8c3bba311c5c",
   "metadata": {},
   "outputs": [],
   "source": [
    "def gini(df):\n",
    "    p = df.iloc[:, -1].value_counts() / len(df)\n",
    "    return 1 - (p**2).sum()"
   ]
  },
  {
   "cell_type": "code",
   "execution_count": 30,
   "id": "56bd19f6-c2de-4e72-8c5d-207ae29b48bf",
   "metadata": {},
   "outputs": [],
   "source": [
    "def best_feature(df):\n",
    "    features = df.columns[:-1]\n",
    "    print('features', features)\n",
    "    info = pd.DataFrame({'feature': features})\n",
    "    print('info', info)\n",
    "    \n",
    "    \n",
    "    info['weighted_gini'] = [gini(df[[feature]]) for feature in features]\n",
    "    print(info)\n",
    "    return info['feature'][info['weighted_gini'].argmin()]"
   ]
  },
  {
   "cell_type": "code",
   "execution_count": 31,
   "id": "0a695f3f-cb99-47c3-a789-4c9fe7f20095",
   "metadata": {},
   "outputs": [
    {
     "name": "stdout",
     "output_type": "stream",
     "text": [
      "features Index(['Outlook', 'Temperature', 'Humidity'], dtype='object')\n",
      "info        feature\n",
      "0      Outlook\n",
      "1  Temperature\n",
      "2     Humidity\n",
      "       feature  weighted_gini\n",
      "0      Outlook       0.661157\n",
      "1  Temperature       0.644628\n",
      "2     Humidity       0.495868\n"
     ]
    },
    {
     "data": {
      "text/plain": [
       "'Humidity'"
      ]
     },
     "execution_count": 31,
     "metadata": {},
     "output_type": "execute_result"
    }
   ],
   "source": [
    "best_feature(df)"
   ]
  },
  {
   "cell_type": "code",
   "execution_count": 5,
   "id": "cfc62ba2-171f-4d71-bb21-0cb20223b089",
   "metadata": {
    "tags": []
   },
   "outputs": [],
   "source": [
    "tree = pd.Series(dtype=object)\n",
    "\n",
    "def make_tree(df, node, feature=None):\n",
    "    if feature is None:\n",
    "        feature = best_feature(df)\n",
    "        \n",
    "    node[feature] = pd.Series(dtype=object)\n",
    "    \n",
    "    fvalues = df[feature].unique()\n",
    "    for v in fvalues:\n",
    "        d = df[df[feature] == v]\n",
    "        n_classes = len(d.iloc[:, -1].unique())\n",
    "        if n_classes == 1:\n",
    "            node[feature][v] = ('L', d.iloc[:, -1].iloc[0])\n",
    "        elif n_classes > 1:\n",
    "            d = d.drop([feature], axis=1)\n",
    "            if len(d.columns) == 1:\n",
    "                node[feature][v] = ('L', d.iloc[:, -1].mode()[0])\n",
    "            else:\n",
    "                next_best_feature = best_feature(d)\n",
    "                node[feature][v] = pd.Series(dtype=object)\n",
    "                make_tree(d, node[feature][v], next_best_feature)"
   ]
  },
  {
   "cell_type": "code",
   "execution_count": 6,
   "id": "7cff3aed-d019-4667-b6b1-6b68cf740b6b",
   "metadata": {},
   "outputs": [],
   "source": [
    "def print_tree(name, tree, d=1):\n",
    "    for f in tree.index:\n",
    "        if isinstance(tree[f], tuple):\n",
    "            print('   ' * d, f, ' => ', tree[f], sep='')\n",
    "        else:\n",
    "            print('   ' * d, f, ': ', sep='')\n",
    "            print_tree(f, tree[f], d + 1)"
   ]
  },
  {
   "cell_type": "code",
   "execution_count": 22,
   "id": "fd9e2550-b6cb-4178-a108-0f49ef536ae8",
   "metadata": {},
   "outputs": [],
   "source": [
    "make_tree(df, tree)"
   ]
  },
  {
   "cell_type": "markdown",
   "id": "aa6eb73e-aeb1-4669-9c49-cf67f8169776",
   "metadata": {},
   "source": [
    "* **(10 points)** Display the resulting tree. You can manually draw it out."
   ]
  },
  {
   "cell_type": "code",
   "execution_count": 23,
   "id": "1795c323-6e0a-4a14-8f82-a519f256bc7b",
   "metadata": {},
   "outputs": [
    {
     "name": "stdout",
     "output_type": "stream",
     "text": [
      "   Humidity: \n",
      "      High: \n",
      "         Temperature: \n",
      "            Hot: \n",
      "               Outlook: \n",
      "                  Rainy => ('L', 'No')\n",
      "                  Overcast => ('L', 'Yes')\n",
      "            Mild: \n",
      "               Outlook: \n",
      "                  Sunny => ('L', 'Yes')\n",
      "                  Rainy => ('L', 'No')\n",
      "                  Overcast => ('L', 'Yes')\n",
      "      Normal: \n",
      "         Temperature: \n",
      "            Cool: \n",
      "               Outlook: \n",
      "                  Sunny => ('L', 'No')\n",
      "                  Overcast => ('L', 'Yes')\n",
      "                  Rainy => ('L', 'Yes')\n",
      "            Mild => ('L', 'Yes')\n",
      "            Hot => ('L', 'Yes')\n",
      "   Outlook: \n",
      "      Rainy: \n",
      "         Temperature: \n",
      "            Hot => ('L', 'No')\n",
      "            Mild: \n",
      "               Humidity: \n",
      "                  High => ('L', 'No')\n",
      "                  Normal => ('L', 'Yes')\n",
      "            Cool => ('L', 'Yes')\n",
      "      Overcast => ('L', 'Yes')\n",
      "      Sunny: \n",
      "         Temperature: \n",
      "            Mild => ('L', 'Yes')\n",
      "            Cool => ('L', 'No')\n"
     ]
    }
   ],
   "source": [
    "print_tree('', tree)"
   ]
  },
  {
   "cell_type": "raw",
   "id": "54fc00c4-c311-4607-8639-ac0d01996ef4",
   "metadata": {
    "tags": []
   },
   "source": [
    "                                           Feature:Humidity\n",
    "                                          /                \\\n",
    "                                  Normal /                  \\ High\n",
    "                                        /                    \\\n",
    "                            Feature:Temperature           Feature:Temperature\n",
    "                           /        |          \\                 |           \\\n",
    "                     Cool /    Mild |           \\ Hot       Mild |            \\ Hot\n",
    "                         /          |            \\               |             \\\n",
    "               Feature:Outlook  Leaf:Yes      Leaf:Yes    Feature:Outlook      Feature:Outlook\n",
    "              /       |      \\                           /       |      \\             |       \\\n",
    "       Sunny /  Rainy |       \\ Overcast          Sunny /  Rainy |       \\ Overcast   | Rainy  \\ Overcast\n",
    "            /         |        \\                       /         |        \\           |         \\\n",
    "       Leaf:No    Leaf:Yes  Leaf:Yes              Leaf:Yes   Leaf:No   Leaf:Yes   Leaf:No    Leaf:Yes"
   ]
  },
  {
   "cell_type": "markdown",
   "id": "2c709f28-afa3-4426-aa32-061891c88915",
   "metadata": {},
   "source": [
    "* **(15 points)** Test your tree using the following examples:"
   ]
  },
  {
   "cell_type": "code",
   "execution_count": 9,
   "id": "728cdce6-d0e3-4533-9806-2ed042bf7ceb",
   "metadata": {},
   "outputs": [],
   "source": [
    "def predict(unseen, node=None):\n",
    "    if unseen.ndim == 1:\n",
    "        if node is None:\n",
    "            node = tree\n",
    "            \n",
    "        feature = node.index[0]\n",
    "        children = node[feature]\n",
    "        value = unseen[feature]\n",
    "\n",
    "        for c in children.index:\n",
    "            if c == value:\n",
    "                if isinstance(children[c], tuple):\n",
    "                    return children[c][1]\n",
    "                else:\n",
    "                    return predict(unseen, children[c])\n",
    "    else:\n",
    "        return np.array([predict(unseen.iloc[i,:]) for i in range(len(unseen))])"
   ]
  },
  {
   "cell_type": "code",
   "execution_count": 10,
   "id": "bed6f826-85c6-4843-9062-10bbad7a460b",
   "metadata": {},
   "outputs": [
    {
     "name": "stdout",
     "output_type": "stream",
     "text": [
      "Outlook        Overcast\n",
      "Temperature        Cool\n",
      "Humidity         Normal\n",
      "dtype: object\n"
     ]
    },
    {
     "data": {
      "text/plain": [
       "'Yes'"
      ]
     },
     "execution_count": 10,
     "metadata": {},
     "output_type": "execute_result"
    }
   ],
   "source": [
    "# Test scenario 1: [Overcast, Cool, Normal]\n",
    "test1 = pd.Series(['Overcast', 'Cool', 'Normal'], index=['Outlook', 'Temperature', 'Humidity'])\n",
    "print(test1)\n",
    "predict(test1)"
   ]
  },
  {
   "cell_type": "code",
   "execution_count": 11,
   "id": "f0c97bf5-a4cb-4d1c-ac88-85579710db60",
   "metadata": {},
   "outputs": [
    {
     "name": "stdout",
     "output_type": "stream",
     "text": [
      "Outlook        Rainy\n",
      "Temperature     Mild\n",
      "Humidity        High\n",
      "dtype: object\n"
     ]
    },
    {
     "data": {
      "text/plain": [
       "'No'"
      ]
     },
     "execution_count": 11,
     "metadata": {},
     "output_type": "execute_result"
    }
   ],
   "source": [
    "# Test scenario 2: [Rainy, Mild, High]\n",
    "test2 = pd.Series(['Rainy', 'Mild', 'High'], index=['Outlook', 'Temperature', 'Humidity'])\n",
    "print(test2)\n",
    "predict(test2)"
   ]
  },
  {
   "cell_type": "code",
   "execution_count": 12,
   "id": "75302c28-4820-4ce2-8e29-a0c520df0ff8",
   "metadata": {},
   "outputs": [
    {
     "name": "stdout",
     "output_type": "stream",
     "text": [
      "Outlook         Sunny\n",
      "Temperature       Hot\n",
      "Humidity       Normal\n",
      "dtype: object\n"
     ]
    },
    {
     "data": {
      "text/plain": [
       "'Yes'"
      ]
     },
     "execution_count": 12,
     "metadata": {},
     "output_type": "execute_result"
    }
   ],
   "source": [
    "# Test scenario 3: [Sunny, Hot, Normal]\n",
    "test3 = pd.Series(['Sunny', 'Hot', 'Normal'], index=['Outlook', 'Temperature', 'Humidity'])\n",
    "print(test3)\n",
    "predict(test3)"
   ]
  }
 ],
 "metadata": {
  "kernelspec": {
   "display_name": "Python 3 (ipykernel)",
   "language": "python",
   "name": "python3"
  },
  "language_info": {
   "codemirror_mode": {
    "name": "ipython",
    "version": 3
   },
   "file_extension": ".py",
   "mimetype": "text/x-python",
   "name": "python",
   "nbconvert_exporter": "python",
   "pygments_lexer": "ipython3",
   "version": "3.9.13"
  },
  "vscode": {
   "interpreter": {
    "hash": "0c4ab92bbc10d18b480eb40b47e751a2f458ae1b2b88576453c716fde62785ad"
   }
  }
 },
 "nbformat": 4,
 "nbformat_minor": 5
}
