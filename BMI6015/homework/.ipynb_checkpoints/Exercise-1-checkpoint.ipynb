{
 "cells": [
  {
   "cell_type": "markdown",
   "id": "64deb005-9478-4bae-8568-e03828daefe4",
   "metadata": {
    "tags": []
   },
   "source": [
    "# Exercise 1"
   ]
  },
  {
   "cell_type": "code",
   "execution_count": 2,
   "id": "7e5667b8-f52d-475c-a5d3-bc8b61914ef6",
   "metadata": {},
   "outputs": [],
   "source": [
    "import numpy as np\n",
    "import pandas as pd\n",
    "import matplotlib.pyplot as plt"
   ]
  },
  {
   "cell_type": "markdown",
   "id": "11c5112a-375e-474d-80db-4b5e863f63a5",
   "metadata": {
    "tags": []
   },
   "source": [
    "## PART A - NumPy"
   ]
  },
  {
   "cell_type": "markdown",
   "id": "540976e6-5b65-4250-a8dd-5fb2768b98f6",
   "metadata": {},
   "source": [
    "* **(10 points)** Create a random dataset with 1000 rows and 6 columns by generating the columns one at a time and then concatenating them to create the dataset."
   ]
  },
  {
   "cell_type": "code",
   "execution_count": 2,
   "id": "5f55f469-53d6-410c-81d7-35fd8e7e39ea",
   "metadata": {
    "tags": []
   },
   "outputs": [
    {
     "name": "stdout",
     "output_type": "stream",
     "text": [
      "(1000, 6)\n",
      "[[  0.04876682   3.          -2.         -10.          -6.\n",
      "   -7.        ]\n",
      " [  0.09563743  -2.           2.          -5.          -4.\n",
      "   -9.        ]\n",
      " [ -0.1407365    8.         -10.           8.          -1.\n",
      "    2.        ]\n",
      " ...\n",
      " [  0.68831221   0.           6.           6.           6.\n",
      "   -6.        ]\n",
      " [  1.29699074   1.           4.           3.          -9.\n",
      "    3.        ]\n",
      " [ -0.83274426   0.           2.          -9.           9.\n",
      "   -1.        ]]\n"
     ]
    }
   ],
   "source": [
    "np.random.RandomState(42)\n",
    "\n",
    "dataset = np.random.randn(1000, 1)\n",
    "\n",
    "for col in range(5):\n",
    "    dataset = np.concatenate([dataset, np.random.randint(-10, 10, size=(1000, 1))], axis=1)\n",
    "    \n",
    "print(dataset.shape)\n",
    "print(dataset)"
   ]
  },
  {
   "cell_type": "markdown",
   "id": "90e1c1d9-2777-4119-bee7-eade7c1f3b5d",
   "metadata": {},
   "source": [
    "* **(8 points)** Shuffle the dataset."
   ]
  },
  {
   "cell_type": "code",
   "execution_count": 3,
   "id": "a4b2c75e-5355-45f3-b182-575f54e62840",
   "metadata": {},
   "outputs": [
    {
     "name": "stdout",
     "output_type": "stream",
     "text": [
      "(1000, 6)\n",
      "[[  0.35968324  -9.          -8.           4.           4.\n",
      "    7.        ]\n",
      " [  0.83834335   7.          -1.           8.          -4.\n",
      "    0.        ]\n",
      " [ -0.23212898   5.           2.           7.          -9.\n",
      "    9.        ]\n",
      " ...\n",
      " [ -1.42457208   1.         -10.           7.          -4.\n",
      "   -5.        ]\n",
      " [ -0.19747268   5.           3.          -1.           7.\n",
      "   -8.        ]\n",
      " [ -0.53958225   6.           1.          -6.           4.\n",
      "    3.        ]]\n"
     ]
    }
   ],
   "source": [
    "np.random.shuffle(dataset)\n",
    "\n",
    "print(dataset.shape)\n",
    "print(dataset)"
   ]
  },
  {
   "cell_type": "markdown",
   "id": "22810d7b-aa04-4083-9356-af786dbf6ad6",
   "metadata": {},
   "source": [
    "* **(10 points)** Split it using a 60/25/15 split into three sets: training, validation and test."
   ]
  },
  {
   "cell_type": "code",
   "execution_count": 4,
   "id": "529dbacd-b1ad-48e2-be97-f0a36f0f5c85",
   "metadata": {},
   "outputs": [
    {
     "name": "stdout",
     "output_type": "stream",
     "text": [
      "\n",
      "Training Set shape: (600, 6)\n",
      "Validation Set shape: (250, 6)\n",
      "Test Set shape: (150, 6)\n",
      "\n"
     ]
    }
   ],
   "source": [
    "#training, validation, test size percentages\n",
    "training, validation, test = 0.6, 0.25, 0.15\n",
    "\n",
    "#get the 2 split indexes (split at 60% and 85%)\n",
    "split_ndx1, split_ndx2 = int(training * len(dataset)), int((training + validation) * len(dataset))\n",
    "\n",
    "training_set, validation_set, test_set = dataset[0:split_ndx1,:], dataset[split_ndx1:split_ndx2,:], dataset[split_ndx2:,:]\n",
    "print(f'''\n",
    "Training Set shape: {training_set.shape}\n",
    "Validation Set shape: {validation_set.shape}\n",
    "Test Set shape: {test_set.shape}\n",
    "''')"
   ]
  },
  {
   "cell_type": "markdown",
   "id": "1c324f7a-ef29-4cb4-b4fa-b38fade159ee",
   "metadata": {},
   "source": [
    "* **(7 points)** Standardize every column in the training set by subtracting every column by its mean and dividing the result by its standard deviation."
   ]
  },
  {
   "cell_type": "code",
   "execution_count": 5,
   "id": "45ccafb3-f283-497b-ab60-7d085aadd501",
   "metadata": {},
   "outputs": [
    {
     "name": "stdout",
     "output_type": "stream",
     "text": [
      "(600, 6)\n",
      "[[ 0.31843443 -1.46084566 -1.39196059  0.75456847  0.88321417  1.32460611]\n",
      " [ 0.77878456  1.30361686 -0.18105867  1.44210239 -0.55242011  0.09865951]\n",
      " [-0.25073945  0.95805904  0.3378993   1.27021891 -1.44969153  1.67487656]\n",
      " ...\n",
      " [ 0.57895958 -0.76973003 -1.04598861 -1.30803328 -0.73187439 -0.95215186]\n",
      " [ 1.19277194  0.0941645   1.02984325  1.27021891 -0.91132868  0.44892997]\n",
      " [ 1.87230826  1.64917467 -0.87300262 -1.65180023 -0.01405725  0.44892997]]\n"
     ]
    }
   ],
   "source": [
    "means = []\n",
    "stds = []\n",
    "\n",
    "for col in range(training_set.shape[1]):\n",
    "    col_mean = training_set[:,col].mean()\n",
    "    col_std = training_set[:,col].std()\n",
    "    \n",
    "    means.append(col_mean)\n",
    "    stds.append(col_std)\n",
    "    \n",
    "    training_set[:,col] -= col_mean\n",
    "    training_set[:,col] /= col_std\n",
    "    \n",
    "print(training_set.shape)\n",
    "print(training_set)"
   ]
  },
  {
   "cell_type": "markdown",
   "id": "7e81e553-72a0-4e99-a34c-34297e17ab06",
   "metadata": {},
   "source": [
    "* **(5 points)** Do the same with validation and test sets but using the mean and standard deviation from the training set."
   ]
  },
  {
   "cell_type": "code",
   "execution_count": 6,
   "id": "50b79f66-fe37-4761-b152-3c0cc5c43a8f",
   "metadata": {},
   "outputs": [
    {
     "name": "stdout",
     "output_type": "stream",
     "text": [
      "(250, 6)\n",
      "(150, 6)\n"
     ]
    }
   ],
   "source": [
    "for col in range(training_set.shape[1]):\n",
    "    #validation\n",
    "    validation_set[:,col] -= means[col]\n",
    "    validation_set[:,col] /= stds[col]\n",
    "    \n",
    "    #test set\n",
    "    test_set[:,col] -= means[col]\n",
    "    test_set[:,col] /= stds[col]\n",
    "    \n",
    "print(validation_set.shape)\n",
    "print(test_set.shape)"
   ]
  },
  {
   "cell_type": "markdown",
   "id": "aa0dab4a-84cb-4b3e-a927-8f5116aa79c9",
   "metadata": {},
   "source": [
    "## PART B - Pandas\n",
    "* **(6 points)** Take the 1000-row dataset you created in the Numpy part and create a DataFrame with it. Give the columns the names `a` to `f`."
   ]
  },
  {
   "cell_type": "code",
   "execution_count": 7,
   "id": "4f65dbd3-8d44-4780-a43a-f2e4bb593861",
   "metadata": {},
   "outputs": [
    {
     "data": {
      "text/html": [
       "<div>\n",
       "<style scoped>\n",
       "    .dataframe tbody tr th:only-of-type {\n",
       "        vertical-align: middle;\n",
       "    }\n",
       "\n",
       "    .dataframe tbody tr th {\n",
       "        vertical-align: top;\n",
       "    }\n",
       "\n",
       "    .dataframe thead th {\n",
       "        text-align: right;\n",
       "    }\n",
       "</style>\n",
       "<table border=\"1\" class=\"dataframe\">\n",
       "  <thead>\n",
       "    <tr style=\"text-align: right;\">\n",
       "      <th></th>\n",
       "      <th>a</th>\n",
       "      <th>b</th>\n",
       "      <th>c</th>\n",
       "      <th>d</th>\n",
       "      <th>e</th>\n",
       "      <th>f</th>\n",
       "    </tr>\n",
       "  </thead>\n",
       "  <tbody>\n",
       "    <tr>\n",
       "      <th>0</th>\n",
       "      <td>0.318434</td>\n",
       "      <td>-1.460846</td>\n",
       "      <td>-1.391961</td>\n",
       "      <td>0.754568</td>\n",
       "      <td>0.883214</td>\n",
       "      <td>1.324606</td>\n",
       "    </tr>\n",
       "    <tr>\n",
       "      <th>1</th>\n",
       "      <td>0.778785</td>\n",
       "      <td>1.303617</td>\n",
       "      <td>-0.181059</td>\n",
       "      <td>1.442102</td>\n",
       "      <td>-0.552420</td>\n",
       "      <td>0.098660</td>\n",
       "    </tr>\n",
       "    <tr>\n",
       "      <th>2</th>\n",
       "      <td>-0.250739</td>\n",
       "      <td>0.958059</td>\n",
       "      <td>0.337899</td>\n",
       "      <td>1.270219</td>\n",
       "      <td>-1.449692</td>\n",
       "      <td>1.674877</td>\n",
       "    </tr>\n",
       "    <tr>\n",
       "      <th>3</th>\n",
       "      <td>0.442067</td>\n",
       "      <td>1.130838</td>\n",
       "      <td>-1.564947</td>\n",
       "      <td>0.067035</td>\n",
       "      <td>1.780486</td>\n",
       "      <td>0.974336</td>\n",
       "    </tr>\n",
       "    <tr>\n",
       "      <th>4</th>\n",
       "      <td>-1.530807</td>\n",
       "      <td>0.266943</td>\n",
       "      <td>-0.008073</td>\n",
       "      <td>-0.276732</td>\n",
       "      <td>0.703760</td>\n",
       "      <td>-0.426746</td>\n",
       "    </tr>\n",
       "  </tbody>\n",
       "</table>\n",
       "</div>"
      ],
      "text/plain": [
       "          a         b         c         d         e         f\n",
       "0  0.318434 -1.460846 -1.391961  0.754568  0.883214  1.324606\n",
       "1  0.778785  1.303617 -0.181059  1.442102 -0.552420  0.098660\n",
       "2 -0.250739  0.958059  0.337899  1.270219 -1.449692  1.674877\n",
       "3  0.442067  1.130838 -1.564947  0.067035  1.780486  0.974336\n",
       "4 -1.530807  0.266943 -0.008073 -0.276732  0.703760 -0.426746"
      ]
     },
     "execution_count": 7,
     "metadata": {},
     "output_type": "execute_result"
    }
   ],
   "source": [
    "df = pd.DataFrame(dataset, columns=['a', 'b', 'c', 'd', 'e', 'f'])\n",
    "df.head()"
   ]
  },
  {
   "cell_type": "markdown",
   "id": "87278dc3-8643-4454-99e2-8b6e830958dc",
   "metadata": {},
   "source": [
    "* **(6 points)** Shuffle the DataFrame."
   ]
  },
  {
   "cell_type": "code",
   "execution_count": 18,
   "id": "52e929a5-9825-49dc-930d-70b11fc52006",
   "metadata": {},
   "outputs": [
    {
     "data": {
      "text/html": [
       "<div>\n",
       "<style scoped>\n",
       "    .dataframe tbody tr th:only-of-type {\n",
       "        vertical-align: middle;\n",
       "    }\n",
       "\n",
       "    .dataframe tbody tr th {\n",
       "        vertical-align: top;\n",
       "    }\n",
       "\n",
       "    .dataframe thead th {\n",
       "        text-align: right;\n",
       "    }\n",
       "</style>\n",
       "<table border=\"1\" class=\"dataframe\">\n",
       "  <thead>\n",
       "    <tr style=\"text-align: right;\">\n",
       "      <th></th>\n",
       "      <th>a</th>\n",
       "      <th>b</th>\n",
       "      <th>c</th>\n",
       "      <th>d</th>\n",
       "      <th>e</th>\n",
       "      <th>f</th>\n",
       "    </tr>\n",
       "  </thead>\n",
       "  <tbody>\n",
       "    <tr>\n",
       "      <th>296</th>\n",
       "      <td>1.287261</td>\n",
       "      <td>-1.633625</td>\n",
       "      <td>0.510885</td>\n",
       "      <td>0.067035</td>\n",
       "      <td>-0.014057</td>\n",
       "      <td>-0.426746</td>\n",
       "    </tr>\n",
       "    <tr>\n",
       "      <th>295</th>\n",
       "      <td>0.608089</td>\n",
       "      <td>1.303617</td>\n",
       "      <td>0.683871</td>\n",
       "      <td>-0.792383</td>\n",
       "      <td>1.421577</td>\n",
       "      <td>-0.251611</td>\n",
       "    </tr>\n",
       "    <tr>\n",
       "      <th>144</th>\n",
       "      <td>-0.508335</td>\n",
       "      <td>-1.460846</td>\n",
       "      <td>-1.391961</td>\n",
       "      <td>-0.104849</td>\n",
       "      <td>1.242123</td>\n",
       "      <td>0.448930</td>\n",
       "    </tr>\n",
       "    <tr>\n",
       "      <th>409</th>\n",
       "      <td>1.585315</td>\n",
       "      <td>-0.424172</td>\n",
       "      <td>0.683871</td>\n",
       "      <td>0.582685</td>\n",
       "      <td>0.524306</td>\n",
       "      <td>1.149471</td>\n",
       "    </tr>\n",
       "    <tr>\n",
       "      <th>346</th>\n",
       "      <td>2.150677</td>\n",
       "      <td>0.094165</td>\n",
       "      <td>0.856857</td>\n",
       "      <td>-0.448616</td>\n",
       "      <td>0.524306</td>\n",
       "      <td>-0.952152</td>\n",
       "    </tr>\n",
       "    <tr>\n",
       "      <th>...</th>\n",
       "      <td>...</td>\n",
       "      <td>...</td>\n",
       "      <td>...</td>\n",
       "      <td>...</td>\n",
       "      <td>...</td>\n",
       "      <td>...</td>\n",
       "    </tr>\n",
       "    <tr>\n",
       "      <th>440</th>\n",
       "      <td>-0.878331</td>\n",
       "      <td>1.130838</td>\n",
       "      <td>0.510885</td>\n",
       "      <td>-0.964266</td>\n",
       "      <td>0.165397</td>\n",
       "      <td>-0.601881</td>\n",
       "    </tr>\n",
       "    <tr>\n",
       "      <th>219</th>\n",
       "      <td>-0.809873</td>\n",
       "      <td>1.303617</td>\n",
       "      <td>-0.008073</td>\n",
       "      <td>-0.792383</td>\n",
       "      <td>-0.372966</td>\n",
       "      <td>-0.076476</td>\n",
       "    </tr>\n",
       "    <tr>\n",
       "      <th>927</th>\n",
       "      <td>1.041379</td>\n",
       "      <td>0.785280</td>\n",
       "      <td>-0.181059</td>\n",
       "      <td>-0.104849</td>\n",
       "      <td>-1.449692</td>\n",
       "      <td>0.974336</td>\n",
       "    </tr>\n",
       "    <tr>\n",
       "      <th>29</th>\n",
       "      <td>2.796339</td>\n",
       "      <td>0.612501</td>\n",
       "      <td>1.548801</td>\n",
       "      <td>1.270219</td>\n",
       "      <td>1.242123</td>\n",
       "      <td>-0.251611</td>\n",
       "    </tr>\n",
       "    <tr>\n",
       "      <th>141</th>\n",
       "      <td>1.304129</td>\n",
       "      <td>-1.460846</td>\n",
       "      <td>-0.354045</td>\n",
       "      <td>-1.651800</td>\n",
       "      <td>0.165397</td>\n",
       "      <td>1.674877</td>\n",
       "    </tr>\n",
       "  </tbody>\n",
       "</table>\n",
       "<p>1000 rows × 6 columns</p>\n",
       "</div>"
      ],
      "text/plain": [
       "            a         b         c         d         e         f\n",
       "296  1.287261 -1.633625  0.510885  0.067035 -0.014057 -0.426746\n",
       "295  0.608089  1.303617  0.683871 -0.792383  1.421577 -0.251611\n",
       "144 -0.508335 -1.460846 -1.391961 -0.104849  1.242123  0.448930\n",
       "409  1.585315 -0.424172  0.683871  0.582685  0.524306  1.149471\n",
       "346  2.150677  0.094165  0.856857 -0.448616  0.524306 -0.952152\n",
       "..        ...       ...       ...       ...       ...       ...\n",
       "440 -0.878331  1.130838  0.510885 -0.964266  0.165397 -0.601881\n",
       "219 -0.809873  1.303617 -0.008073 -0.792383 -0.372966 -0.076476\n",
       "927  1.041379  0.785280 -0.181059 -0.104849 -1.449692  0.974336\n",
       "29   2.796339  0.612501  1.548801  1.270219  1.242123 -0.251611\n",
       "141  1.304129 -1.460846 -0.354045 -1.651800  0.165397  1.674877\n",
       "\n",
       "[1000 rows x 6 columns]"
      ]
     },
     "execution_count": 18,
     "metadata": {},
     "output_type": "execute_result"
    }
   ],
   "source": [
    "df = df.sample(len(df))\n",
    "df"
   ]
  },
  {
   "cell_type": "markdown",
   "id": "0481905e-de53-403f-9bfe-af2a978a3914",
   "metadata": {},
   "source": [
    "* **(8 points)** Break it using a 60/25/15 split into three dataframes: training, validation, and test."
   ]
  },
  {
   "cell_type": "code",
   "execution_count": 9,
   "id": "39ec8ea5-7f99-4a4a-84b4-f4903ed8499b",
   "metadata": {},
   "outputs": [
    {
     "name": "stdout",
     "output_type": "stream",
     "text": [
      "0.6 0.25 0.15\n",
      "600 850\n"
     ]
    }
   ],
   "source": [
    "print(training, validation, test)\n",
    "print(split_ndx1, split_ndx2)"
   ]
  },
  {
   "cell_type": "code",
   "execution_count": 44,
   "id": "5c641dc8-1ff7-4931-8147-4933bd6d292f",
   "metadata": {},
   "outputs": [
    {
     "name": "stdout",
     "output_type": "stream",
     "text": [
      "(600, 6) (250, 6) (150, 6)\n"
     ]
    }
   ],
   "source": [
    "df_train = df.iloc[:split_ndx1,:]\n",
    "df_validation = df.iloc[split_ndx1:split_ndx2,:]\n",
    "df_test = df.iloc[split_ndx2:,:]\n",
    "\n",
    "print(df_train.shape, df_validation.shape, df_test.shape)"
   ]
  },
  {
   "cell_type": "markdown",
   "id": "0c4e5dc3-f327-4e06-8cb1-bc957032a6b5",
   "metadata": {},
   "source": [
    "* **(6 points)** Standardize every column in the training dataframe by subtracting every column by its mean and dividing the result by its standard deviation. Do the same with validation and test dataframes but using the mean and standard deviation from the training dataframe."
   ]
  },
  {
   "cell_type": "code",
   "execution_count": 46,
   "id": "fde72d01-205d-4813-b976-f052e0e04fbd",
   "metadata": {},
   "outputs": [
    {
     "name": "stdout",
     "output_type": "stream",
     "text": [
      "            a         b         c         d         e         f\n",
      "296  1.334625 -1.711167  0.578808  0.092405 -0.028389 -0.393154\n",
      "295  0.635127  1.290880  0.752277 -0.779341  1.376427 -0.218419\n",
      "144 -0.514708 -1.534576 -1.329350 -0.081944  1.200825  0.480522\n",
      "409  1.641599 -0.475030  0.752277  0.615453  0.498417  1.179463\n",
      "346  2.223880  0.054743  0.925745 -0.430643  0.498417 -0.917360\n",
      "..        ...       ...       ...       ...       ...       ...\n",
      "425  0.613766 -1.181394 -0.288537  0.615453 -1.608807  1.528933\n",
      "977  0.503003  0.407925 -0.808943  0.615453  1.727631  0.655257\n",
      "469  0.718440  1.290880  0.578808 -0.430643  1.376427  1.354198\n",
      "146 -0.935741  0.231334 -0.982412  0.615453  0.498417  0.655257\n",
      "96  -0.367967  0.407925  1.099214 -0.430643 -0.555195 -1.266831\n",
      "\n",
      "[600 rows x 6 columns]\n"
     ]
    }
   ],
   "source": [
    "#training\n",
    "df_train = df_train - df_train.mean()\n",
    "df_train = df_train / df_train.std()\n",
    "print(df_train)"
   ]
  },
  {
   "cell_type": "code",
   "execution_count": 34,
   "id": "d2d16269-704a-4e24-a4ed-7051ef1647d0",
   "metadata": {},
   "outputs": [
    {
     "name": "stdout",
     "output_type": "stream",
     "text": [
      "            a         b         c         d         e         f\n",
      "118  2.728779  1.303617  1.202829  0.926452  0.524306 -0.251611\n",
      "266  0.133728 -1.115288 -0.700017 -0.964266 -1.090783 -1.652693\n",
      "491  0.237911 -1.115288  0.337899  0.067035 -0.552420  1.499741\n",
      "67  -0.609611 -0.251393  0.856857 -1.136150  1.421577  0.624065\n",
      "973  0.334215  1.303617 -1.218975 -1.308033  0.883214  0.974336\n",
      "..        ...       ...       ...       ...       ...       ...\n",
      "193  0.418348 -0.424172  1.375815 -0.104849  1.601031  0.799200\n",
      "482  0.172911  0.958059  0.683871 -0.104849  0.703760  0.098660\n",
      "21   0.492815 -1.460846 -0.008073  0.754568  0.883214  1.149471\n",
      "69   0.285769 -0.942509 -0.873003  1.098335  1.421577  1.499741\n",
      "632  0.187212  0.439722 -0.873003  0.238918 -0.014057 -0.601881\n",
      "\n",
      "[250 rows x 6 columns]\n",
      "            a         b         c         d         e         f\n",
      "636  0.251632  1.303617  1.029843 -0.276732  0.165397 -1.652693\n",
      "638 -1.197583 -0.424172 -1.564947  1.613986  0.703760  1.149471\n",
      "271  0.566013  1.303617  0.856857 -0.620499 -0.014057  1.324606\n",
      "582  1.725313 -1.288067  0.510885  0.582685 -1.449692  1.324606\n",
      "360 -1.895606 -1.288067  1.548801 -1.479917  1.780486  0.624065\n",
      "..        ...       ...       ...       ...       ...       ...\n",
      "440 -0.878331  1.130838  0.510885 -0.964266  0.165397 -0.601881\n",
      "219 -0.809873  1.303617 -0.008073 -0.792383 -0.372966 -0.076476\n",
      "927  1.041379  0.785280 -0.181059 -0.104849 -1.449692  0.974336\n",
      "29   2.796339  0.612501  1.548801  1.270219  1.242123 -0.251611\n",
      "141  1.304129 -1.460846 -0.354045 -1.651800  0.165397  1.674877\n",
      "\n",
      "[150 rows x 6 columns]\n"
     ]
    }
   ],
   "source": [
    "#validation and test\n",
    "df_validation -= df_train.mean()\n",
    "df_validation /= df_train.std()\n",
    "print(df_validation)\n",
    "\n",
    "df_test -= df_train.mean()\n",
    "df_test /= df_train.std()\n",
    "print(df_test)"
   ]
  },
  {
   "cell_type": "markdown",
   "id": "435685ef-3b08-4fcc-9354-f0dafcbd7136",
   "metadata": {},
   "source": [
    "* **(4 points)** Save all three dataframes into their own `.csv` files."
   ]
  },
  {
   "cell_type": "code",
   "execution_count": 48,
   "id": "3fc520fa-5ae8-460a-a308-9185f235defc",
   "metadata": {
    "tags": []
   },
   "outputs": [],
   "source": [
    "df_train.to_csv('training.csv')\n",
    "df_validation.to_csv('validation.csv')\n",
    "df_test.to_csv('test.csv')"
   ]
  },
  {
   "cell_type": "markdown",
   "id": "025bd929-25cc-4e99-b885-364ed5b0d42a",
   "metadata": {
    "tags": []
   },
   "source": [
    "## PART C - Matplotlib\n",
    "\n",
    "* **(27 points)** Plot the following functions using $2\\ by\\ 3$ subplots. Each plot must have its own title, and its own x and y labels. Make also sure that each plot enough of the function to show its behavior.\n",
    "    * $f(x) = 3 x^2 + 10$\n",
    "    * $f(x) = \\frac{1}{1 + e^{-x}}$\n",
    "    * $f(z) = max(\\alpha z, z)$ where $\\alpha = 0.01$ where $max(...)$ returns the maximum of its arguments.\n",
    "    * $f(x) = sin(x^2)$\n",
    "    * $f(x) = cos(x) + ln(x)$\n",
    "    * $f(x) = tanh(x)$"
   ]
  },
  {
   "cell_type": "code",
   "execution_count": 11,
   "id": "39ba3271-ce04-4163-8e63-d972de83b127",
   "metadata": {},
   "outputs": [
    {
     "data": {
      "text/plain": [
       "[85, 58, 37, 22, 13, 10, 13, 22, 37, 58]"
      ]
     },
     "execution_count": 11,
     "metadata": {},
     "output_type": "execute_result"
    }
   ],
   "source": [
    "[3*x**2+10 for x in range(-5, 5)]"
   ]
  },
  {
   "cell_type": "code",
   "execution_count": 17,
   "id": "a1837679-4d6b-4164-bc40-11f10fc877d5",
   "metadata": {},
   "outputs": [],
   "source": [
    "def func1(x_vals):\n",
    "    return [(3*x**2 + 10) for x in x_vals]\n",
    "\n",
    "def func2(x_vals):\n",
    "    return [(1 / (1 + np.exp(-x))) for x in x_vals]\n",
    "\n",
    "def func3(x_vals):\n",
    "    return [max(0.01*x, x) for x in x_vals]\n",
    "\n",
    "def func4(x_vals):\n",
    "    return [np.sin(x**2) for x in x_vals]\n",
    "\n",
    "def func5(x_vals):\n",
    "    return [np.cos(x) + np.log(x) for x in x_vals]\n",
    "\n",
    "def func6(x_vals):\n",
    "    return [np.tanh(x) for x in x_vals]"
   ]
  },
  {
   "cell_type": "code",
   "execution_count": 35,
   "id": "e2e28391-fb49-40ee-9bd8-1c56e2a95c1e",
   "metadata": {},
   "outputs": [
    {
     "name": "stderr",
     "output_type": "stream",
     "text": [
      "C:\\Users\\Hauck\\AppData\\Local\\Temp\\ipykernel_6672\\4279372689.py:14: RuntimeWarning: invalid value encountered in log\n",
      "  return [np.cos(x) + np.log(x) for x in x_vals]\n"
     ]
    },
    {
     "data": {
      "text/plain": [
       "Text(0, 0.5, 'y')"
      ]
     },
     "execution_count": 35,
     "metadata": {},
     "output_type": "execute_result"
    },
    {
     "data": {
      "image/png": "[encoded data removed]",
      "text/plain": [
       "<Figure size 1400x800 with 6 Axes>"
      ]
     },
     "metadata": {},
     "output_type": "display_data"
    }
   ],
   "source": [
    "fig, subfigs = plt.subplots(2,3, figsize=(14,8))\n",
    "\n",
    "x = range(-5, 5)\n",
    "\n",
    "subfigs[0][0].plot(x, func1(x))\n",
    "subfigs[0][0].set_title('Plot 1')\n",
    "subfigs[0][0].set_xlabel('x')\n",
    "subfigs[0][0].set_ylabel('y')\n",
    "\n",
    "subfigs[0][1].plot(x, func2(x))\n",
    "subfigs[0][1].set_title('Plot 2')\n",
    "subfigs[0][1].set_xlabel('x')\n",
    "subfigs[0][1].set_ylabel('y')\n",
    "\n",
    "subfigs[0][2].plot(x, func3(x))\n",
    "subfigs[0][2].set_title('Plot 3')\n",
    "subfigs[0][2].set_xlabel('x')\n",
    "subfigs[0][2].set_ylabel('y')\n",
    "\n",
    "subfigs[1][0].plot(x, func4(x))\n",
    "subfigs[1][0].set_title('Plot 4')\n",
    "subfigs[1][0].set_xlabel('x')\n",
    "subfigs[1][0].set_ylabel('y')\n",
    "\n",
    "subfigs[1][1].plot([1, 2, 3, 4, 5], func5([1, 2, 3, 4, 5]))\n",
    "subfigs[1][1].set_title('Plot 5')\n",
    "subfigs[1][1].set_xlabel('x')\n",
    "subfigs[1][1].set_ylabel('y')\n",
    "\n",
    "subfigs[1][2].plot(x, func6(x))\n",
    "subfigs[1][2].set_title('Plot 6')\n",
    "subfigs[1][2].set_xlabel('x')\n",
    "subfigs[1][2].set_ylabel('y')"
   ]
  },
  {
   "cell_type": "markdown",
   "id": "71fa4630-fd25-4837-a722-d9b4ba985665",
   "metadata": {},
   "source": [
    "* **(3 points)** Save the plot into a file named `e01.png`."
   ]
  },
  {
   "cell_type": "code",
   "execution_count": 15,
   "id": "92f379f6-8e45-47ed-a015-26ec8d030140",
   "metadata": {},
   "outputs": [],
   "source": [
    "# TODO"
   ]
  }
 ],
 "metadata": {
  "kernelspec": {
   "display_name": "Python 3 (ipykernel)",
   "language": "python",
   "name": "python3"
  },
  "language_info": {
   "codemirror_mode": {
    "name": "ipython",
    "version": 3
   },
   "file_extension": ".py",
   "mimetype": "text/x-python",
   "name": "python",
   "nbconvert_exporter": "python",
   "pygments_lexer": "ipython3",
   "version": "3.9.13"
  }
 },
 "nbformat": 4,
 "nbformat_minor": 5
}
