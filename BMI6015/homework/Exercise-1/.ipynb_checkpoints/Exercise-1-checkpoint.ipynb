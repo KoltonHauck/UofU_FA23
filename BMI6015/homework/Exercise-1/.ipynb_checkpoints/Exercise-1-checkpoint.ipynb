{
 "cells": [
  {
   "cell_type": "markdown",
   "id": "64deb005-9478-4bae-8568-e03828daefe4",
   "metadata": {
    "tags": []
   },
   "source": [
    "# Exercise 1"
   ]
  },
  {
   "cell_type": "code",
   "execution_count": 1,
   "id": "7e5667b8-f52d-475c-a5d3-bc8b61914ef6",
   "metadata": {},
   "outputs": [],
   "source": [
    "import numpy as np\n",
    "import pandas as pd\n",
    "import matplotlib.pyplot as plt"
   ]
  },
  {
   "cell_type": "markdown",
   "id": "11c5112a-375e-474d-80db-4b5e863f63a5",
   "metadata": {
    "tags": []
   },
   "source": [
    "## PART A - NumPy"
   ]
  },
  {
   "cell_type": "markdown",
   "id": "540976e6-5b65-4250-a8dd-5fb2768b98f6",
   "metadata": {},
   "source": [
    "* **(10 points)** Create a random dataset with 1000 rows and 6 columns by generating the columns one at a time and then concatenating them to create the dataset."
   ]
  },
  {
   "cell_type": "code",
   "execution_count": 2,
   "id": "5f55f469-53d6-410c-81d7-35fd8e7e39ea",
   "metadata": {
    "tags": []
   },
   "outputs": [
    {
     "name": "stdout",
     "output_type": "stream",
     "text": [
      "(1000, 6)\n",
      "[[ 0.78602874  7.         -5.         -1.         -2.         -2.        ]\n",
      " [-0.11571885  1.         -3.          5.          6.          1.        ]\n",
      " [-0.07422237  2.         -3.          0.         -7.          2.        ]\n",
      " ...\n",
      " [ 0.11785303 -8.          4.          0.         -5.          1.        ]\n",
      " [ 1.11725319  3.          9.         -1.          2.          9.        ]\n",
      " [-0.74884642  9.          4.         -3.         -4.          1.        ]]\n"
     ]
    }
   ],
   "source": [
    "np.random.RandomState(42)\n",
    "\n",
    "dataset = np.random.randn(1000, 1)\n",
    "\n",
    "for col in range(5):\n",
    "    dataset = np.concatenate([dataset, np.random.randint(-10, 10, size=(1000, 1))], axis=1)\n",
    "    \n",
    "print(dataset.shape)\n",
    "print(dataset)"
   ]
  },
  {
   "cell_type": "markdown",
   "id": "90e1c1d9-2777-4119-bee7-eade7c1f3b5d",
   "metadata": {},
   "source": [
    "* **(8 points)** Shuffle the dataset."
   ]
  },
  {
   "cell_type": "code",
   "execution_count": 3,
   "id": "a4b2c75e-5355-45f3-b182-575f54e62840",
   "metadata": {},
   "outputs": [
    {
     "name": "stdout",
     "output_type": "stream",
     "text": [
      "(1000, 6)\n",
      "[[  0.88916311   8.          -8.           7.          -4.\n",
      "    1.        ]\n",
      " [  0.98429126   6.          -7.          -9.          -8.\n",
      "   -6.        ]\n",
      " [  0.62645647   7.           2.         -10.          -7.\n",
      "   -8.        ]\n",
      " ...\n",
      " [  1.10162791   7.          -6.          -7.           0.\n",
      "   -6.        ]\n",
      " [  0.23515471  -4.           6.          -9.          -4.\n",
      "    3.        ]\n",
      " [  1.1732059    2.           3.           7.         -10.\n",
      "   -9.        ]]\n"
     ]
    }
   ],
   "source": [
    "np.random.shuffle(dataset)\n",
    "\n",
    "print(dataset.shape)\n",
    "print(dataset)"
   ]
  },
  {
   "cell_type": "markdown",
   "id": "22810d7b-aa04-4083-9356-af786dbf6ad6",
   "metadata": {},
   "source": [
    "* **(10 points)** Split it using a 60/25/15 split into three sets: training, validation and test."
   ]
  },
  {
   "cell_type": "code",
   "execution_count": 4,
   "id": "529dbacd-b1ad-48e2-be97-f0a36f0f5c85",
   "metadata": {},
   "outputs": [
    {
     "name": "stdout",
     "output_type": "stream",
     "text": [
      "\n",
      "Training Set shape: (600, 6)\n",
      "Validation Set shape: (250, 6)\n",
      "Test Set shape: (150, 6)\n",
      "\n"
     ]
    }
   ],
   "source": [
    "#training, validation, test size percentages\n",
    "training, validation, test = 0.6, 0.25, 0.15\n",
    "\n",
    "#get the 2 split indexes (split at 60% and 85%)\n",
    "split_ndx1, split_ndx2 = int(training * len(dataset)), int((training + validation) * len(dataset))\n",
    "\n",
    "training_set, validation_set, test_set = dataset[0:split_ndx1,:], dataset[split_ndx1:split_ndx2,:], dataset[split_ndx2:,:]\n",
    "print(f'''\n",
    "Training Set shape: {training_set.shape}\n",
    "Validation Set shape: {validation_set.shape}\n",
    "Test Set shape: {test_set.shape}\n",
    "''')"
   ]
  },
  {
   "cell_type": "markdown",
   "id": "1c324f7a-ef29-4cb4-b4fa-b38fade159ee",
   "metadata": {},
   "source": [
    "* **(7 points)** Standardize every column in the training set by subtracting every column by its mean and dividing the result by its standard deviation."
   ]
  },
  {
   "cell_type": "code",
   "execution_count": 5,
   "id": "45ccafb3-f283-497b-ab60-7d085aadd501",
   "metadata": {},
   "outputs": [
    {
     "name": "stdout",
     "output_type": "stream",
     "text": [
      "(600, 6)\n",
      "[[ 8.97467396e-01  1.51790947e+00 -1.35744030e+00  1.28959463e+00\n",
      "  -5.98896730e-01  2.64912770e-01]\n",
      " [ 9.94760430e-01  1.17286470e+00 -1.17867292e+00 -1.46644019e+00\n",
      "  -1.29159656e+00 -9.76865840e-01]\n",
      " [ 6.28782197e-01  1.34538708e+00  4.30233493e-01 -1.63869237e+00\n",
      "  -1.11842160e+00 -1.33165973e+00]\n",
      " ...\n",
      " [-4.90123192e-01 -1.58749350e+00  6.09000873e-01 -9.49683665e-01\n",
      "  -7.72071688e-01 -8.98811184e-02]\n",
      " [ 3.23532860e-01  4.82775147e-01  1.68160515e+00 -1.63869237e+00\n",
      "  -9.45246647e-01 -7.99468895e-01]\n",
      " [-1.68510931e-03  1.69043186e+00 -4.63603404e-01 -1.63869237e+00\n",
      "  -9.45246647e-01 -2.67278063e-01]]\n"
     ]
    }
   ],
   "source": [
    "means = []\n",
    "stds = []\n",
    "\n",
    "for col in range(training_set.shape[1]):\n",
    "    col_mean = training_set[:,col].mean()\n",
    "    col_std = training_set[:,col].std()\n",
    "    \n",
    "    means.append(col_mean)\n",
    "    stds.append(col_std)\n",
    "    \n",
    "    training_set[:,col] -= col_mean\n",
    "    training_set[:,col] /= col_std\n",
    "    \n",
    "print(training_set.shape)\n",
    "print(training_set)"
   ]
  },
  {
   "cell_type": "markdown",
   "id": "7e81e553-72a0-4e99-a34c-34297e17ab06",
   "metadata": {},
   "source": [
    "* **(5 points)** Do the same with validation and test sets but using the mean and standard deviation from the training set."
   ]
  },
  {
   "cell_type": "code",
   "execution_count": 6,
   "id": "50b79f66-fe37-4761-b152-3c0cc5c43a8f",
   "metadata": {},
   "outputs": [
    {
     "name": "stdout",
     "output_type": "stream",
     "text": [
      "(250, 6)\n",
      "(150, 6)\n"
     ]
    }
   ],
   "source": [
    "for col in range(training_set.shape[1]):\n",
    "    #validation\n",
    "    validation_set[:,col] -= means[col]\n",
    "    validation_set[:,col] /= stds[col]\n",
    "    \n",
    "    #test set\n",
    "    test_set[:,col] -= means[col]\n",
    "    test_set[:,col] /= stds[col]\n",
    "    \n",
    "print(validation_set.shape)\n",
    "print(test_set.shape)"
   ]
  },
  {
   "cell_type": "markdown",
   "id": "aa0dab4a-84cb-4b3e-a927-8f5116aa79c9",
   "metadata": {},
   "source": [
    "## PART B - Pandas\n",
    "* **(6 points)** Take the 1000-row dataset you created in the Numpy part and create a DataFrame with it. Give the columns the names `a` to `f`."
   ]
  },
  {
   "cell_type": "code",
   "execution_count": 7,
   "id": "4f65dbd3-8d44-4780-a43a-f2e4bb593861",
   "metadata": {},
   "outputs": [
    {
     "data": {
      "text/html": [
       "<div>\n",
       "<style scoped>\n",
       "    .dataframe tbody tr th:only-of-type {\n",
       "        vertical-align: middle;\n",
       "    }\n",
       "\n",
       "    .dataframe tbody tr th {\n",
       "        vertical-align: top;\n",
       "    }\n",
       "\n",
       "    .dataframe thead th {\n",
       "        text-align: right;\n",
       "    }\n",
       "</style>\n",
       "<table border=\"1\" class=\"dataframe\">\n",
       "  <thead>\n",
       "    <tr style=\"text-align: right;\">\n",
       "      <th></th>\n",
       "      <th>a</th>\n",
       "      <th>b</th>\n",
       "      <th>c</th>\n",
       "      <th>d</th>\n",
       "      <th>e</th>\n",
       "      <th>f</th>\n",
       "    </tr>\n",
       "  </thead>\n",
       "  <tbody>\n",
       "    <tr>\n",
       "      <th>0</th>\n",
       "      <td>0.897467</td>\n",
       "      <td>1.517909</td>\n",
       "      <td>-1.357440</td>\n",
       "      <td>1.289595</td>\n",
       "      <td>-0.598897</td>\n",
       "      <td>0.264913</td>\n",
       "    </tr>\n",
       "    <tr>\n",
       "      <th>1</th>\n",
       "      <td>0.994760</td>\n",
       "      <td>1.172865</td>\n",
       "      <td>-1.178673</td>\n",
       "      <td>-1.466440</td>\n",
       "      <td>-1.291597</td>\n",
       "      <td>-0.976866</td>\n",
       "    </tr>\n",
       "    <tr>\n",
       "      <th>2</th>\n",
       "      <td>0.628782</td>\n",
       "      <td>1.345387</td>\n",
       "      <td>0.430233</td>\n",
       "      <td>-1.638692</td>\n",
       "      <td>-1.118422</td>\n",
       "      <td>-1.331660</td>\n",
       "    </tr>\n",
       "    <tr>\n",
       "      <th>3</th>\n",
       "      <td>-0.789459</td>\n",
       "      <td>0.827820</td>\n",
       "      <td>0.251466</td>\n",
       "      <td>-0.432927</td>\n",
       "      <td>-0.598897</td>\n",
       "      <td>-0.089881</td>\n",
       "    </tr>\n",
       "    <tr>\n",
       "      <th>4</th>\n",
       "      <td>-2.167483</td>\n",
       "      <td>-1.414971</td>\n",
       "      <td>-1.357440</td>\n",
       "      <td>-0.605179</td>\n",
       "      <td>-0.079372</td>\n",
       "      <td>1.329294</td>\n",
       "    </tr>\n",
       "  </tbody>\n",
       "</table>\n",
       "</div>"
      ],
      "text/plain": [
       "          a         b         c         d         e         f\n",
       "0  0.897467  1.517909 -1.357440  1.289595 -0.598897  0.264913\n",
       "1  0.994760  1.172865 -1.178673 -1.466440 -1.291597 -0.976866\n",
       "2  0.628782  1.345387  0.430233 -1.638692 -1.118422 -1.331660\n",
       "3 -0.789459  0.827820  0.251466 -0.432927 -0.598897 -0.089881\n",
       "4 -2.167483 -1.414971 -1.357440 -0.605179 -0.079372  1.329294"
      ]
     },
     "execution_count": 7,
     "metadata": {},
     "output_type": "execute_result"
    }
   ],
   "source": [
    "df = pd.DataFrame(dataset, columns=['a', 'b', 'c', 'd', 'e', 'f'])\n",
    "df.head()"
   ]
  },
  {
   "cell_type": "markdown",
   "id": "87278dc3-8643-4454-99e2-8b6e830958dc",
   "metadata": {},
   "source": [
    "* **(6 points)** Shuffle the DataFrame."
   ]
  },
  {
   "cell_type": "code",
   "execution_count": 8,
   "id": "52e929a5-9825-49dc-930d-70b11fc52006",
   "metadata": {},
   "outputs": [
    {
     "data": {
      "text/html": [
       "<div>\n",
       "<style scoped>\n",
       "    .dataframe tbody tr th:only-of-type {\n",
       "        vertical-align: middle;\n",
       "    }\n",
       "\n",
       "    .dataframe tbody tr th {\n",
       "        vertical-align: top;\n",
       "    }\n",
       "\n",
       "    .dataframe thead th {\n",
       "        text-align: right;\n",
       "    }\n",
       "</style>\n",
       "<table border=\"1\" class=\"dataframe\">\n",
       "  <thead>\n",
       "    <tr style=\"text-align: right;\">\n",
       "      <th></th>\n",
       "      <th>a</th>\n",
       "      <th>b</th>\n",
       "      <th>c</th>\n",
       "      <th>d</th>\n",
       "      <th>e</th>\n",
       "      <th>f</th>\n",
       "    </tr>\n",
       "  </thead>\n",
       "  <tbody>\n",
       "    <tr>\n",
       "      <th>986</th>\n",
       "      <td>1.305571</td>\n",
       "      <td>1.000342</td>\n",
       "      <td>-0.999906</td>\n",
       "      <td>1.289595</td>\n",
       "      <td>-0.252547</td>\n",
       "      <td>0.974501</td>\n",
       "    </tr>\n",
       "    <tr>\n",
       "      <th>617</th>\n",
       "      <td>0.671695</td>\n",
       "      <td>0.655298</td>\n",
       "      <td>-0.284836</td>\n",
       "      <td>1.461847</td>\n",
       "      <td>-0.079372</td>\n",
       "      <td>1.151897</td>\n",
       "    </tr>\n",
       "    <tr>\n",
       "      <th>347</th>\n",
       "      <td>0.371964</td>\n",
       "      <td>-1.587494</td>\n",
       "      <td>0.072699</td>\n",
       "      <td>-1.294188</td>\n",
       "      <td>1.306028</td>\n",
       "      <td>1.329294</td>\n",
       "    </tr>\n",
       "    <tr>\n",
       "      <th>404</th>\n",
       "      <td>-0.298754</td>\n",
       "      <td>0.137730</td>\n",
       "      <td>0.072699</td>\n",
       "      <td>0.083829</td>\n",
       "      <td>1.479203</td>\n",
       "      <td>0.619707</td>\n",
       "    </tr>\n",
       "    <tr>\n",
       "      <th>298</th>\n",
       "      <td>-0.514931</td>\n",
       "      <td>-1.242449</td>\n",
       "      <td>0.787768</td>\n",
       "      <td>0.600586</td>\n",
       "      <td>0.440153</td>\n",
       "      <td>0.797104</td>\n",
       "    </tr>\n",
       "    <tr>\n",
       "      <th>...</th>\n",
       "      <td>...</td>\n",
       "      <td>...</td>\n",
       "      <td>...</td>\n",
       "      <td>...</td>\n",
       "      <td>...</td>\n",
       "      <td>...</td>\n",
       "    </tr>\n",
       "    <tr>\n",
       "      <th>407</th>\n",
       "      <td>-0.922450</td>\n",
       "      <td>0.137730</td>\n",
       "      <td>-0.284836</td>\n",
       "      <td>-0.260675</td>\n",
       "      <td>0.093803</td>\n",
       "      <td>1.506691</td>\n",
       "    </tr>\n",
       "    <tr>\n",
       "      <th>248</th>\n",
       "      <td>-0.831173</td>\n",
       "      <td>1.345387</td>\n",
       "      <td>0.787768</td>\n",
       "      <td>-0.432927</td>\n",
       "      <td>0.786503</td>\n",
       "      <td>-1.154263</td>\n",
       "    </tr>\n",
       "    <tr>\n",
       "      <th>269</th>\n",
       "      <td>0.741274</td>\n",
       "      <td>-0.379837</td>\n",
       "      <td>0.966536</td>\n",
       "      <td>0.083829</td>\n",
       "      <td>1.132853</td>\n",
       "      <td>0.264913</td>\n",
       "    </tr>\n",
       "    <tr>\n",
       "      <th>44</th>\n",
       "      <td>-1.357562</td>\n",
       "      <td>0.310253</td>\n",
       "      <td>0.430233</td>\n",
       "      <td>-1.121936</td>\n",
       "      <td>0.959678</td>\n",
       "      <td>1.506691</td>\n",
       "    </tr>\n",
       "    <tr>\n",
       "      <th>940</th>\n",
       "      <td>-1.388824</td>\n",
       "      <td>-1.587494</td>\n",
       "      <td>0.430233</td>\n",
       "      <td>-0.432927</td>\n",
       "      <td>-0.945247</td>\n",
       "      <td>-0.622072</td>\n",
       "    </tr>\n",
       "  </tbody>\n",
       "</table>\n",
       "<p>1000 rows × 6 columns</p>\n",
       "</div>"
      ],
      "text/plain": [
       "            a         b         c         d         e         f\n",
       "986  1.305571  1.000342 -0.999906  1.289595 -0.252547  0.974501\n",
       "617  0.671695  0.655298 -0.284836  1.461847 -0.079372  1.151897\n",
       "347  0.371964 -1.587494  0.072699 -1.294188  1.306028  1.329294\n",
       "404 -0.298754  0.137730  0.072699  0.083829  1.479203  0.619707\n",
       "298 -0.514931 -1.242449  0.787768  0.600586  0.440153  0.797104\n",
       "..        ...       ...       ...       ...       ...       ...\n",
       "407 -0.922450  0.137730 -0.284836 -0.260675  0.093803  1.506691\n",
       "248 -0.831173  1.345387  0.787768 -0.432927  0.786503 -1.154263\n",
       "269  0.741274 -0.379837  0.966536  0.083829  1.132853  0.264913\n",
       "44  -1.357562  0.310253  0.430233 -1.121936  0.959678  1.506691\n",
       "940 -1.388824 -1.587494  0.430233 -0.432927 -0.945247 -0.622072\n",
       "\n",
       "[1000 rows x 6 columns]"
      ]
     },
     "execution_count": 8,
     "metadata": {},
     "output_type": "execute_result"
    }
   ],
   "source": [
    "df = df.sample(len(df))\n",
    "df"
   ]
  },
  {
   "cell_type": "markdown",
   "id": "0481905e-de53-403f-9bfe-af2a978a3914",
   "metadata": {},
   "source": [
    "* **(8 points)** Break it using a 60/25/15 split into three dataframes: training, validation, and test."
   ]
  },
  {
   "cell_type": "code",
   "execution_count": 9,
   "id": "39ec8ea5-7f99-4a4a-84b4-f4903ed8499b",
   "metadata": {},
   "outputs": [
    {
     "name": "stdout",
     "output_type": "stream",
     "text": [
      "0.6 0.25 0.15\n",
      "600 850\n"
     ]
    }
   ],
   "source": [
    "print(training, validation, test)\n",
    "print(split_ndx1, split_ndx2)"
   ]
  },
  {
   "cell_type": "code",
   "execution_count": 10,
   "id": "5c641dc8-1ff7-4931-8147-4933bd6d292f",
   "metadata": {},
   "outputs": [
    {
     "name": "stdout",
     "output_type": "stream",
     "text": [
      "(600, 6) (250, 6) (150, 6)\n"
     ]
    }
   ],
   "source": [
    "df_train = df.iloc[:split_ndx1,:]\n",
    "df_validation = df.iloc[split_ndx1:split_ndx2,:]\n",
    "df_test = df.iloc[split_ndx2:,:]\n",
    "\n",
    "print(df_train.shape, df_validation.shape, df_test.shape)"
   ]
  },
  {
   "cell_type": "markdown",
   "id": "0c4e5dc3-f327-4e06-8cb1-bc957032a6b5",
   "metadata": {},
   "source": [
    "* **(6 points)** Standardize every column in the training dataframe by subtracting every column by its mean and dividing the result by its standard deviation. Do the same with validation and test dataframes but using the mean and standard deviation from the training dataframe."
   ]
  },
  {
   "cell_type": "code",
   "execution_count": 11,
   "id": "fde72d01-205d-4813-b976-f052e0e04fbd",
   "metadata": {},
   "outputs": [
    {
     "name": "stdout",
     "output_type": "stream",
     "text": [
      "            a         b         c         d         e         f\n",
      "986  1.330987  0.975105 -0.990646  1.322838 -0.267188  0.933942\n",
      "617  0.695200  0.631758 -0.287437  1.496060 -0.090632  1.112915\n",
      "347  0.394566 -1.599995  0.064168 -1.275490  1.321818  1.291888\n",
      "404 -0.278175  0.116738  0.064168  0.110285  1.498374  0.575995\n",
      "298 -0.495003 -1.256649  0.767377  0.629950  0.439037  0.754969\n",
      "..        ...       ...       ...       ...       ...       ...\n",
      "180 -0.500328 -1.599995 -0.287437 -0.409381  1.321818 -0.855790\n",
      "54   0.254386  1.318451  0.064168  0.629950  0.439037 -0.139897\n",
      "667  0.202947 -1.084975  0.239970  1.322838  0.085924 -1.750656\n",
      "441 -1.331138  1.661798  0.591575  1.496060  0.968705  0.397022\n",
      "627  1.466689  1.146778  0.415772 -1.621934 -0.973414  0.933942\n",
      "\n",
      "[600 rows x 6 columns]\n"
     ]
    }
   ],
   "source": [
    "#training\n",
    "df_train = df_train - df_train.mean()\n",
    "df_train = df_train / df_train.std()\n",
    "print(df_train)"
   ]
  },
  {
   "cell_type": "code",
   "execution_count": 12,
   "id": "d2d16269-704a-4e24-a4ed-7051ef1647d0",
   "metadata": {},
   "outputs": [
    {
     "name": "stdout",
     "output_type": "stream",
     "text": [
      "            a         b         c         d         e         f\n",
      "110 -1.447428 -0.724882  0.430233  1.117342 -1.464772 -0.799469\n",
      "352  0.460156  0.310253 -1.536208  1.117342 -0.772072 -1.331660\n",
      "24   1.143825 -1.069926 -1.714975 -0.088423  1.652378 -1.686454\n",
      "633 -0.690408  0.655298 -1.357440 -1.294188 -0.598897 -0.799469\n",
      "241  0.808608  0.310253  1.324070 -0.088423 -0.252547 -0.444675\n",
      "..        ...       ...       ...       ...       ...       ...\n",
      "280  1.297859 -0.379837 -1.536208  1.461847 -1.637946  0.087516\n",
      "946 -2.428520 -1.414971 -0.999906 -1.466440 -1.637946  1.329294\n",
      "246 -0.736425 -1.069926 -1.714975  0.772838 -1.464772 -1.509057\n",
      "121  2.236306  0.310253 -0.284836 -0.777431  0.093803 -0.267278\n",
      "788 -1.311525 -0.034792 -1.357440 -1.638692 -0.252547  1.151897\n",
      "\n",
      "[250 rows x 6 columns]\n",
      "            a         b         c         d         e         f\n",
      "182 -0.647673  0.482775  0.251466  1.461847  0.266978  0.087516\n",
      "299  0.397412 -0.724882 -1.714975  0.256082  0.440153  0.264913\n",
      "310 -0.664521 -0.379837  0.787768 -0.088423 -0.252547 -0.799469\n",
      "935 -1.160270 -1.587494 -0.106069 -1.294188  0.786503  1.329294\n",
      "113 -0.294044  1.690432  0.787768 -0.260675 -0.079372 -0.976866\n",
      "..        ...       ...       ...       ...       ...       ...\n",
      "407 -0.922450  0.137730 -0.284836 -0.260675  0.093803  1.506691\n",
      "248 -0.831173  1.345387  0.787768 -0.432927  0.786503 -1.154263\n",
      "269  0.741274 -0.379837  0.966536  0.083829  1.132853  0.264913\n",
      "44  -1.357562  0.310253  0.430233 -1.121936  0.959678  1.506691\n",
      "940 -1.388824 -1.587494  0.430233 -0.432927 -0.945247 -0.622072\n",
      "\n",
      "[150 rows x 6 columns]\n"
     ]
    }
   ],
   "source": [
    "#validation and test\n",
    "df_validation -= df_train.mean()\n",
    "df_validation /= df_train.std()\n",
    "print(df_validation)\n",
    "\n",
    "df_test -= df_train.mean()\n",
    "df_test /= df_train.std()\n",
    "print(df_test)"
   ]
  },
  {
   "cell_type": "markdown",
   "id": "435685ef-3b08-4fcc-9354-f0dafcbd7136",
   "metadata": {},
   "source": [
    "* **(4 points)** Save all three dataframes into their own `.csv` files."
   ]
  },
  {
   "cell_type": "code",
   "execution_count": 13,
   "id": "3fc520fa-5ae8-460a-a308-9185f235defc",
   "metadata": {
    "tags": []
   },
   "outputs": [],
   "source": [
    "df_train.to_csv('training.csv')\n",
    "df_validation.to_csv('validation.csv')\n",
    "df_test.to_csv('test.csv')"
   ]
  },
  {
   "cell_type": "markdown",
   "id": "025bd929-25cc-4e99-b885-364ed5b0d42a",
   "metadata": {
    "tags": []
   },
   "source": [
    "## PART C - Matplotlib\n",
    "\n",
    "* **(27 points)** Plot the following functions using $2\\ by\\ 3$ subplots. Each plot must have its own title, and its own x and y labels. Make also sure that each plot enough of the function to show its behavior.\n",
    "    * $f(x) = 3 x^2 + 10$\n",
    "    * $f(x) = \\frac{1}{1 + e^{-x}}$\n",
    "    * $f(z) = max(\\alpha z, z)$ where $\\alpha = 0.01$ where $max(...)$ returns the maximum of its arguments.\n",
    "    * $f(x) = sin(x^2)$\n",
    "    * $f(x) = cos(x) + ln(x)$\n",
    "    * $f(x) = tanh(x)$"
   ]
  },
  {
   "cell_type": "code",
   "execution_count": 14,
   "id": "39ba3271-ce04-4163-8e63-d972de83b127",
   "metadata": {},
   "outputs": [
    {
     "data": {
      "text/plain": [
       "[85, 58, 37, 22, 13, 10, 13, 22, 37, 58]"
      ]
     },
     "execution_count": 14,
     "metadata": {},
     "output_type": "execute_result"
    }
   ],
   "source": [
    "[3*x**2+10 for x in range(-5, 5)]"
   ]
  },
  {
   "cell_type": "code",
   "execution_count": 15,
   "id": "a1837679-4d6b-4164-bc40-11f10fc877d5",
   "metadata": {},
   "outputs": [],
   "source": [
    "def func1(x_vals):\n",
    "    return [(3*x**2 + 10) for x in x_vals]\n",
    "\n",
    "def func2(x_vals):\n",
    "    return [(1 / (1 + np.exp(-x))) for x in x_vals]\n",
    "\n",
    "def func3(x_vals):\n",
    "    return [max(0.01*x, x) for x in x_vals]\n",
    "\n",
    "def func4(x_vals):\n",
    "    return [np.sin(x**2) for x in x_vals]\n",
    "\n",
    "def func5(x_vals):\n",
    "    return [np.cos(x) + np.log(x) for x in x_vals]\n",
    "\n",
    "def func6(x_vals):\n",
    "    return [np.tanh(x) for x in x_vals]"
   ]
  },
  {
   "cell_type": "code",
   "execution_count": 16,
   "id": "e2e28391-fb49-40ee-9bd8-1c56e2a95c1e",
   "metadata": {},
   "outputs": [
    {
     "data": {
      "text/plain": [
       "Text(0, 0.5, 'y')"
      ]
     },
     "execution_count": 16,
     "metadata": {},
     "output_type": "execute_result"
    },
    {
     "data": {
      "image/png": "[encoded data removed]",
      "text/plain": [
       "<Figure size 1400x1000 with 6 Axes>"
      ]
     },
     "metadata": {},
     "output_type": "display_data"
    }
   ],
   "source": [
    "fig, subfigs = plt.subplots(2,3, figsize=(14,10))\n",
    "\n",
    "x = range(-5, 5)\n",
    "\n",
    "subfigs[0][0].plot(x, func1(x))\n",
    "subfigs[0][0].set_title('Plot 1')\n",
    "subfigs[0][0].set_xlabel('x')\n",
    "subfigs[0][0].set_ylabel('y')\n",
    "\n",
    "subfigs[0][1].plot(x, func2(x))\n",
    "subfigs[0][1].set_title('Plot 2')\n",
    "subfigs[0][1].set_xlabel('x')\n",
    "subfigs[0][1].set_ylabel('y')\n",
    "\n",
    "subfigs[0][2].plot(x, func3(x))\n",
    "subfigs[0][2].set_title('Plot 3')\n",
    "subfigs[0][2].set_xlabel('x')\n",
    "subfigs[0][2].set_ylabel('y')\n",
    "\n",
    "subfigs[1][0].plot(x, func4(x))\n",
    "subfigs[1][0].set_title('Plot 4')\n",
    "subfigs[1][0].set_xlabel('x')\n",
    "subfigs[1][0].set_ylabel('y')\n",
    "\n",
    "subfigs[1][1].plot([1, 2, 3, 4, 5], func5([1, 2, 3, 4, 5]))\n",
    "subfigs[1][1].set_title('Plot 5')\n",
    "subfigs[1][1].set_xlabel('x')\n",
    "subfigs[1][1].set_ylabel('y')\n",
    "\n",
    "subfigs[1][2].plot(x, func6(x))\n",
    "subfigs[1][2].set_title('Plot 6')\n",
    "subfigs[1][2].set_xlabel('x')\n",
    "subfigs[1][2].set_ylabel('y')"
   ]
  },
  {
   "cell_type": "markdown",
   "id": "71fa4630-fd25-4837-a722-d9b4ba985665",
   "metadata": {},
   "source": [
    "* **(3 points)** Save the plot into a file named `e01.png`."
   ]
  },
  {
   "cell_type": "code",
   "execution_count": 17,
   "id": "92f379f6-8e45-47ed-a015-26ec8d030140",
   "metadata": {},
   "outputs": [],
   "source": [
    "fig.savefig('e01.png')"
   ]
  }
 ],
 "metadata": {
  "kernelspec": {
   "display_name": "Python 3 (ipykernel)",
   "language": "python",
   "name": "python3"
  },
  "language_info": {
   "codemirror_mode": {
    "name": "ipython",
    "version": 3
   },
   "file_extension": ".py",
   "mimetype": "text/x-python",
   "name": "python",
   "nbconvert_exporter": "python",
   "pygments_lexer": "ipython3",
   "version": "3.9.13"
  }
 },
 "nbformat": 4,
 "nbformat_minor": 5
}
