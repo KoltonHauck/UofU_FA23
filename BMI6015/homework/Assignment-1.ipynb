{
 "cells": [
  {
   "cell_type": "markdown",
   "metadata": {},
   "source": [
    "# Assignment 1\n",
    "\n",
    "This assignment requires you to implement a K-Nearest Neighbors classifier and test it using the `column_2C_weka` data from the **Vertebral Column dataset**, which you can download from [this page on the UC Irvine Machine Learning Repository](https://archive.ics.uci.edu/dataset/212/vertebral+column). It walks you through the steps of a typical machine learning workflow."
   ]
  },
  {
   "cell_type": "code",
   "execution_count": 1,
   "metadata": {},
   "outputs": [],
   "source": [
    "import numpy as np\n",
    "import pandas as pd\n",
    "import matplotlib.pyplot as plt\n",
    "from sklearn.metrics import confusion_matrix, roc_curve"
   ]
  },
  {
   "cell_type": "markdown",
   "metadata": {},
   "source": [
    "## Fetching and preparing the data\n",
    "\n",
    "* **(5 points)** Read the `column_2C_weka` data of the above Vertebral Column dataset into a Pandas dataframe. The dataset contains six input features plus a binary target column(the output)."
   ]
  },
  {
   "cell_type": "code",
   "execution_count": 2,
   "metadata": {},
   "outputs": [
    {
     "data": {
      "text/html": [
       "<div>\n",
       "<style scoped>\n",
       "    .dataframe tbody tr th:only-of-type {\n",
       "        vertical-align: middle;\n",
       "    }\n",
       "\n",
       "    .dataframe tbody tr th {\n",
       "        vertical-align: top;\n",
       "    }\n",
       "\n",
       "    .dataframe thead th {\n",
       "        text-align: right;\n",
       "    }\n",
       "</style>\n",
       "<table border=\"1\" class=\"dataframe\">\n",
       "  <thead>\n",
       "    <tr style=\"text-align: right;\">\n",
       "      <th></th>\n",
       "      <th>feat1</th>\n",
       "      <th>feat2</th>\n",
       "      <th>feat3</th>\n",
       "      <th>feat4</th>\n",
       "      <th>feat5</th>\n",
       "      <th>feat6</th>\n",
       "      <th>output</th>\n",
       "    </tr>\n",
       "  </thead>\n",
       "  <tbody>\n",
       "    <tr>\n",
       "      <th>0</th>\n",
       "      <td>63.03</td>\n",
       "      <td>22.55</td>\n",
       "      <td>39.61</td>\n",
       "      <td>40.48</td>\n",
       "      <td>98.67</td>\n",
       "      <td>-0.25</td>\n",
       "      <td>AB</td>\n",
       "    </tr>\n",
       "    <tr>\n",
       "      <th>1</th>\n",
       "      <td>39.06</td>\n",
       "      <td>10.06</td>\n",
       "      <td>25.02</td>\n",
       "      <td>29.00</td>\n",
       "      <td>114.41</td>\n",
       "      <td>4.56</td>\n",
       "      <td>AB</td>\n",
       "    </tr>\n",
       "    <tr>\n",
       "      <th>2</th>\n",
       "      <td>68.83</td>\n",
       "      <td>22.22</td>\n",
       "      <td>50.09</td>\n",
       "      <td>46.61</td>\n",
       "      <td>105.99</td>\n",
       "      <td>-3.53</td>\n",
       "      <td>AB</td>\n",
       "    </tr>\n",
       "    <tr>\n",
       "      <th>3</th>\n",
       "      <td>69.30</td>\n",
       "      <td>24.65</td>\n",
       "      <td>44.31</td>\n",
       "      <td>44.64</td>\n",
       "      <td>101.87</td>\n",
       "      <td>11.21</td>\n",
       "      <td>AB</td>\n",
       "    </tr>\n",
       "    <tr>\n",
       "      <th>4</th>\n",
       "      <td>49.71</td>\n",
       "      <td>9.65</td>\n",
       "      <td>28.32</td>\n",
       "      <td>40.06</td>\n",
       "      <td>108.17</td>\n",
       "      <td>7.92</td>\n",
       "      <td>AB</td>\n",
       "    </tr>\n",
       "    <tr>\n",
       "      <th>...</th>\n",
       "      <td>...</td>\n",
       "      <td>...</td>\n",
       "      <td>...</td>\n",
       "      <td>...</td>\n",
       "      <td>...</td>\n",
       "      <td>...</td>\n",
       "      <td>...</td>\n",
       "    </tr>\n",
       "    <tr>\n",
       "      <th>305</th>\n",
       "      <td>47.90</td>\n",
       "      <td>13.62</td>\n",
       "      <td>36.00</td>\n",
       "      <td>34.29</td>\n",
       "      <td>117.45</td>\n",
       "      <td>-4.25</td>\n",
       "      <td>NO</td>\n",
       "    </tr>\n",
       "    <tr>\n",
       "      <th>306</th>\n",
       "      <td>53.94</td>\n",
       "      <td>20.72</td>\n",
       "      <td>29.22</td>\n",
       "      <td>33.22</td>\n",
       "      <td>114.37</td>\n",
       "      <td>-0.42</td>\n",
       "      <td>NO</td>\n",
       "    </tr>\n",
       "    <tr>\n",
       "      <th>307</th>\n",
       "      <td>61.45</td>\n",
       "      <td>22.69</td>\n",
       "      <td>46.17</td>\n",
       "      <td>38.75</td>\n",
       "      <td>125.67</td>\n",
       "      <td>-2.71</td>\n",
       "      <td>NO</td>\n",
       "    </tr>\n",
       "    <tr>\n",
       "      <th>308</th>\n",
       "      <td>45.25</td>\n",
       "      <td>8.69</td>\n",
       "      <td>41.58</td>\n",
       "      <td>36.56</td>\n",
       "      <td>118.55</td>\n",
       "      <td>0.21</td>\n",
       "      <td>NO</td>\n",
       "    </tr>\n",
       "    <tr>\n",
       "      <th>309</th>\n",
       "      <td>33.84</td>\n",
       "      <td>5.07</td>\n",
       "      <td>36.64</td>\n",
       "      <td>28.77</td>\n",
       "      <td>123.95</td>\n",
       "      <td>-0.20</td>\n",
       "      <td>NO</td>\n",
       "    </tr>\n",
       "  </tbody>\n",
       "</table>\n",
       "<p>310 rows × 7 columns</p>\n",
       "</div>"
      ],
      "text/plain": [
       "     feat1  feat2  feat3  feat4   feat5  feat6 output\n",
       "0    63.03  22.55  39.61  40.48   98.67  -0.25     AB\n",
       "1    39.06  10.06  25.02  29.00  114.41   4.56     AB\n",
       "2    68.83  22.22  50.09  46.61  105.99  -3.53     AB\n",
       "3    69.30  24.65  44.31  44.64  101.87  11.21     AB\n",
       "4    49.71   9.65  28.32  40.06  108.17   7.92     AB\n",
       "..     ...    ...    ...    ...     ...    ...    ...\n",
       "305  47.90  13.62  36.00  34.29  117.45  -4.25     NO\n",
       "306  53.94  20.72  29.22  33.22  114.37  -0.42     NO\n",
       "307  61.45  22.69  46.17  38.75  125.67  -2.71     NO\n",
       "308  45.25   8.69  41.58  36.56  118.55   0.21     NO\n",
       "309  33.84   5.07  36.64  28.77  123.95  -0.20     NO\n",
       "\n",
       "[310 rows x 7 columns]"
      ]
     },
     "execution_count": 2,
     "metadata": {},
     "output_type": "execute_result"
    }
   ],
   "source": [
    "vert = pd.read_csv('vertebral+column/column_2C.DAT', sep=' ', header=None)\n",
    "vert.columns = ['feat1', 'feat2', 'feat3', 'feat4', 'feat5', 'feat6', 'output']\n",
    "vert"
   ]
  },
  {
   "cell_type": "markdown",
   "metadata": {},
   "source": [
    "* **(5 points)** Re-code the values of the output column to 0 for “Normal” and 1 for “Abnormal”."
   ]
  },
  {
   "cell_type": "code",
   "execution_count": 3,
   "metadata": {},
   "outputs": [
    {
     "data": {
      "text/html": [
       "<div>\n",
       "<style scoped>\n",
       "    .dataframe tbody tr th:only-of-type {\n",
       "        vertical-align: middle;\n",
       "    }\n",
       "\n",
       "    .dataframe tbody tr th {\n",
       "        vertical-align: top;\n",
       "    }\n",
       "\n",
       "    .dataframe thead th {\n",
       "        text-align: right;\n",
       "    }\n",
       "</style>\n",
       "<table border=\"1\" class=\"dataframe\">\n",
       "  <thead>\n",
       "    <tr style=\"text-align: right;\">\n",
       "      <th></th>\n",
       "      <th>feat1</th>\n",
       "      <th>feat2</th>\n",
       "      <th>feat3</th>\n",
       "      <th>feat4</th>\n",
       "      <th>feat5</th>\n",
       "      <th>feat6</th>\n",
       "      <th>output</th>\n",
       "    </tr>\n",
       "  </thead>\n",
       "  <tbody>\n",
       "    <tr>\n",
       "      <th>0</th>\n",
       "      <td>63.03</td>\n",
       "      <td>22.55</td>\n",
       "      <td>39.61</td>\n",
       "      <td>40.48</td>\n",
       "      <td>98.67</td>\n",
       "      <td>-0.25</td>\n",
       "      <td>1</td>\n",
       "    </tr>\n",
       "    <tr>\n",
       "      <th>1</th>\n",
       "      <td>39.06</td>\n",
       "      <td>10.06</td>\n",
       "      <td>25.02</td>\n",
       "      <td>29.00</td>\n",
       "      <td>114.41</td>\n",
       "      <td>4.56</td>\n",
       "      <td>1</td>\n",
       "    </tr>\n",
       "    <tr>\n",
       "      <th>2</th>\n",
       "      <td>68.83</td>\n",
       "      <td>22.22</td>\n",
       "      <td>50.09</td>\n",
       "      <td>46.61</td>\n",
       "      <td>105.99</td>\n",
       "      <td>-3.53</td>\n",
       "      <td>1</td>\n",
       "    </tr>\n",
       "    <tr>\n",
       "      <th>3</th>\n",
       "      <td>69.30</td>\n",
       "      <td>24.65</td>\n",
       "      <td>44.31</td>\n",
       "      <td>44.64</td>\n",
       "      <td>101.87</td>\n",
       "      <td>11.21</td>\n",
       "      <td>1</td>\n",
       "    </tr>\n",
       "    <tr>\n",
       "      <th>4</th>\n",
       "      <td>49.71</td>\n",
       "      <td>9.65</td>\n",
       "      <td>28.32</td>\n",
       "      <td>40.06</td>\n",
       "      <td>108.17</td>\n",
       "      <td>7.92</td>\n",
       "      <td>1</td>\n",
       "    </tr>\n",
       "    <tr>\n",
       "      <th>...</th>\n",
       "      <td>...</td>\n",
       "      <td>...</td>\n",
       "      <td>...</td>\n",
       "      <td>...</td>\n",
       "      <td>...</td>\n",
       "      <td>...</td>\n",
       "      <td>...</td>\n",
       "    </tr>\n",
       "    <tr>\n",
       "      <th>305</th>\n",
       "      <td>47.90</td>\n",
       "      <td>13.62</td>\n",
       "      <td>36.00</td>\n",
       "      <td>34.29</td>\n",
       "      <td>117.45</td>\n",
       "      <td>-4.25</td>\n",
       "      <td>0</td>\n",
       "    </tr>\n",
       "    <tr>\n",
       "      <th>306</th>\n",
       "      <td>53.94</td>\n",
       "      <td>20.72</td>\n",
       "      <td>29.22</td>\n",
       "      <td>33.22</td>\n",
       "      <td>114.37</td>\n",
       "      <td>-0.42</td>\n",
       "      <td>0</td>\n",
       "    </tr>\n",
       "    <tr>\n",
       "      <th>307</th>\n",
       "      <td>61.45</td>\n",
       "      <td>22.69</td>\n",
       "      <td>46.17</td>\n",
       "      <td>38.75</td>\n",
       "      <td>125.67</td>\n",
       "      <td>-2.71</td>\n",
       "      <td>0</td>\n",
       "    </tr>\n",
       "    <tr>\n",
       "      <th>308</th>\n",
       "      <td>45.25</td>\n",
       "      <td>8.69</td>\n",
       "      <td>41.58</td>\n",
       "      <td>36.56</td>\n",
       "      <td>118.55</td>\n",
       "      <td>0.21</td>\n",
       "      <td>0</td>\n",
       "    </tr>\n",
       "    <tr>\n",
       "      <th>309</th>\n",
       "      <td>33.84</td>\n",
       "      <td>5.07</td>\n",
       "      <td>36.64</td>\n",
       "      <td>28.77</td>\n",
       "      <td>123.95</td>\n",
       "      <td>-0.20</td>\n",
       "      <td>0</td>\n",
       "    </tr>\n",
       "  </tbody>\n",
       "</table>\n",
       "<p>310 rows × 7 columns</p>\n",
       "</div>"
      ],
      "text/plain": [
       "     feat1  feat2  feat3  feat4   feat5  feat6  output\n",
       "0    63.03  22.55  39.61  40.48   98.67  -0.25       1\n",
       "1    39.06  10.06  25.02  29.00  114.41   4.56       1\n",
       "2    68.83  22.22  50.09  46.61  105.99  -3.53       1\n",
       "3    69.30  24.65  44.31  44.64  101.87  11.21       1\n",
       "4    49.71   9.65  28.32  40.06  108.17   7.92       1\n",
       "..     ...    ...    ...    ...     ...    ...     ...\n",
       "305  47.90  13.62  36.00  34.29  117.45  -4.25       0\n",
       "306  53.94  20.72  29.22  33.22  114.37  -0.42       0\n",
       "307  61.45  22.69  46.17  38.75  125.67  -2.71       0\n",
       "308  45.25   8.69  41.58  36.56  118.55   0.21       0\n",
       "309  33.84   5.07  36.64  28.77  123.95  -0.20       0\n",
       "\n",
       "[310 rows x 7 columns]"
      ]
     },
     "execution_count": 3,
     "metadata": {},
     "output_type": "execute_result"
    }
   ],
   "source": [
    "vert['output'] = vert['output'].map({'AB': 1, 'NO': 0})\n",
    "vert"
   ]
  },
  {
   "cell_type": "markdown",
   "metadata": {},
   "source": [
    "* **(5 points)** Perform feature scaling by normalizing the values of each feature column. We use feature scaling to make sure that features with larger values do not render features with small values insignificant. Use the following formula for normalization: $$ x_{new}  = \\frac{x - x_{min}}{x_{max} - x_{min}}$$"
   ]
  },
  {
   "cell_type": "code",
   "execution_count": 4,
   "metadata": {},
   "outputs": [],
   "source": [
    "vert[['feat1', 'feat2', 'feat3', 'feat4', 'feat5', 'feat6']] = vert[['feat1', 'feat2', 'feat3', 'feat4', 'feat5', 'feat6']].apply(lambda iterr: (iterr - iterr.min()) / (iterr.max() - iterr.min()))"
   ]
  },
  {
   "cell_type": "markdown",
   "metadata": {},
   "source": [
    "* **(5 points)** Split the dataset into two sets: 25% for testing and the rest for training."
   ]
  },
  {
   "cell_type": "code",
   "execution_count": 5,
   "metadata": {},
   "outputs": [
    {
     "name": "stdout",
     "output_type": "stream",
     "text": [
      "(232, 7)\n",
      "(78, 7)\n"
     ]
    }
   ],
   "source": [
    "#shuffle\n",
    "np.random.seed(42)\n",
    "vert = vert.sample(len(vert))\n",
    "\n",
    "#get split idx\n",
    "split_idx = int(.75 * len(vert))\n",
    "\n",
    "#split\n",
    "training, testing = vert.iloc[:split_idx,:], vert.iloc[split_idx:,:]\n",
    "\n",
    "print(training.shape)\n",
    "print(testing.shape)"
   ]
  },
  {
   "cell_type": "markdown",
   "metadata": {},
   "source": [
    "## Implementing the classifier\n",
    "\n",
    "* **(30 points)** Define a class named `KNearestNeighborClassifier` that generalizes the NearestNeighborClassifier of the `05.nearest_neighbors.ipynb` handout to `k` neighbors instead of just 1. The class must define a `fit()` and `predict()` methods just like `NearestNeighborClassifier` does."
   ]
  },
  {
   "cell_type": "code",
   "execution_count": 6,
   "metadata": {},
   "outputs": [],
   "source": [
    "class KNearestNeighborClassifier:\n",
    "    def fit(self, X, y):\n",
    "        self.X = X\n",
    "        self.y = y\n",
    "        \n",
    "        return self\n",
    "    \n",
    "    def predict(self, X_unseen, k):\n",
    "        if X_unseen.ndim == 1:\n",
    "            distances = np.sqrt(np.sum((self.X - X_unseen)**2, axis=1))\n",
    "            #sort 'k' values\n",
    "            k_min_idx = distances.argpartition(k)\n",
    "            #retrieve 'k' smallest values' idxs and get respective values\n",
    "            k_min_vals = self.y[k_min_idx[:k]]\n",
    "            #get bincounts\n",
    "            return np.bincount(k_min_vals).argmax()\n",
    "        else:\n",
    "            return np.array([self.predict(ex, k) for ex in X_unseen])"
   ]
  },
  {
   "cell_type": "markdown",
   "metadata": {},
   "source": [
    "## Hyperparameter tuning using 10-fold cross-validation\n",
    "* **(20 points)** Define a function that implements **10-fold cross-validation**. See the lecture notes for how such a function works. Use $1 - accuracy$ as an error measure. The learner in this case is your `KNearestNeighborClassifier` class and $k$ (the number of neighbors is the hyperparameter."
   ]
  },
  {
   "cell_type": "code",
   "execution_count": 7,
   "metadata": {},
   "outputs": [],
   "source": [
    "def fold10_cv(X, y, model, k_neighbors, cv_fold=10):\n",
    "    batch_size = len(X) // cv_fold\n",
    "    err = 0\n",
    "    for i in range(10):\n",
    "        test_start_idx = i * batch_size\n",
    "        test_end_idx = (i + 1) * batch_size\n",
    "        \n",
    "        mask = np.ones(len(X), dtype=bool)\n",
    "        mask[[range(test_start_idx, test_end_idx)]] = False\n",
    "        \n",
    "        X_val, y_val = X[~mask], y[~mask]\n",
    "        X_train, y_train = X[mask], y[mask]\n",
    "        \n",
    "        nn = model().fit(X_train, y_train)\n",
    "        y_predictions = nn.predict(X_val, k_neighbors)\n",
    "        cm = np.array(confusion_matrix(y_val, y_predictions))\n",
    "        acc = np.diag(cm).sum() / np.sum(cm)\n",
    "        err += 1 - acc\n",
    "    return err / cv_fold        "
   ]
  },
  {
   "cell_type": "markdown",
   "metadata": {},
   "source": [
    "* **(10 points)** Use the above **10-fold cross-validation** function to plot the values of `k` (1 to 20) against their cross-validation errors. Using this plot, what is the best value for `k`?"
   ]
  },
  {
   "cell_type": "code",
   "execution_count": 8,
   "metadata": {},
   "outputs": [],
   "source": [
    "import matplotlib.ticker as mticker"
   ]
  },
  {
   "cell_type": "code",
   "execution_count": 9,
   "metadata": {
    "tags": []
   },
   "outputs": [
    {
     "data": {
      "text/plain": [
       "[<matplotlib.axis.XTick at 0x1da667156d0>,\n",
       " <matplotlib.axis.XTick at 0x1da667156a0>,\n",
       " <matplotlib.axis.XTick at 0x1da666fc310>,\n",
       " <matplotlib.axis.XTick at 0x1da68771490>,\n",
       " <matplotlib.axis.XTick at 0x1da68771d00>,\n",
       " <matplotlib.axis.XTick at 0x1da687780a0>,\n",
       " <matplotlib.axis.XTick at 0x1da687786d0>,\n",
       " <matplotlib.axis.XTick at 0x1da68778e20>,\n",
       " <matplotlib.axis.XTick at 0x1da687825b0>,\n",
       " <matplotlib.axis.XTick at 0x1da68782d00>,\n",
       " <matplotlib.axis.XTick at 0x1da68788490>,\n",
       " <matplotlib.axis.XTick at 0x1da68782610>,\n",
       " <matplotlib.axis.XTick at 0x1da68771f10>,\n",
       " <matplotlib.axis.XTick at 0x1da687889a0>,\n",
       " <matplotlib.axis.XTick at 0x1da68790130>,\n",
       " <matplotlib.axis.XTick at 0x1da68790880>,\n",
       " <matplotlib.axis.XTick at 0x1da687940a0>,\n",
       " <matplotlib.axis.XTick at 0x1da68790c10>,\n",
       " <matplotlib.axis.XTick at 0x1da68788d90>,\n",
       " <matplotlib.axis.XTick at 0x1da68794700>]"
      ]
     },
     "execution_count": 9,
     "metadata": {},
     "output_type": "execute_result"
    },
    {
     "data": {
      "image/png": "[encoded data removed]",
      "text/plain": [
       "<Figure size 640x480 with 1 Axes>"
      ]
     },
     "metadata": {},
     "output_type": "display_data"
    }
   ],
   "source": [
    "err = []\n",
    "X_train = training.iloc[:,:-1].values\n",
    "y_train = training.iloc[:,-1].values\n",
    "\n",
    "for k_neighbor in range(1, 21):\n",
    "    err.append(fold10_cv(X_train, y_train, KNearestNeighborClassifier, k_neighbor, 10))\n",
    "\n",
    "min_err_idx = np.argmin(err)\n",
    "    \n",
    "fig, ax = plt.subplots()\n",
    "ax.plot(range(1,21), err)\n",
    "ax.plot(min_err_idx+1, err[min_err_idx], 'ro')\n",
    "ax.set_title('K Neighbors vs. Error')\n",
    "ax.set_xlabel('K Neighbors')\n",
    "ax.set_ylabel('Error')\n",
    "ax.set_xticks(range(1,21))"
   ]
  },
  {
   "cell_type": "markdown",
   "metadata": {},
   "source": [
    "## Testing the classifier\n",
    "* **(10 points)** Train a model of the above `KNearestNeighborClassifier` with the “found-out” best `k` value. Test the trained model using the testing set. Show its confusion matrix and accuracy."
   ]
  },
  {
   "cell_type": "code",
   "execution_count": 10,
   "metadata": {},
   "outputs": [
    {
     "name": "stdout",
     "output_type": "stream",
     "text": [
      "\n",
      "confusion matrix w/k=13:\n",
      "[[21  7]\n",
      " [ 8 42]]\n",
      "\n",
      "accuracy: 0.8076923076923077\n",
      "\n"
     ]
    }
   ],
   "source": [
    "X_train = training.iloc[:,:-1].values\n",
    "y_train = training.iloc[:,-1].values\n",
    "\n",
    "X_test = testing.iloc[:,:-1].values\n",
    "y_test = testing.iloc[:,-1].values\n",
    "\n",
    "best_nn = KNearestNeighborClassifier().fit(X_train, y_train)\n",
    "y_pred = best_nn.predict(X_test, k=min_err_idx+1)\n",
    "\n",
    "cm = confusion_matrix(y_test, y_pred)\n",
    "print(f'''\n",
    "confusion matrix w/k={min_err_idx+1}:\n",
    "{cm}\n",
    "\n",
    "accuracy: {np.diag(cm).sum() / cm.sum()}\n",
    "''')"
   ]
  },
  {
   "cell_type": "markdown",
   "metadata": {},
   "source": [
    "* **(10 points)** Plot a point corresponding to the above confusion matrix on the ROC (Receiver Operating Characteristic) plot; no curve, just a point. Make sure to also plot the line from (0,0) to (1,1). "
   ]
  },
  {
   "cell_type": "code",
   "execution_count": 11,
   "metadata": {},
   "outputs": [
    {
     "name": "stdout",
     "output_type": "stream",
     "text": [
      "sens: 0.84\n",
      "spec: 0.75\n"
     ]
    },
    {
     "data": {
      "text/plain": [
       "[<matplotlib.axis.XTick at 0x1da6899e280>,\n",
       " <matplotlib.axis.XTick at 0x1da6899e250>]"
      ]
     },
     "execution_count": 11,
     "metadata": {},
     "output_type": "execute_result"
    },
    {
     "data": {
      "image/png": "[encoded data removed]",
      "text/plain": [
       "<Figure size 640x480 with 1 Axes>"
      ]
     },
     "metadata": {},
     "output_type": "display_data"
    }
   ],
   "source": [
    "fpr, tpr, threshold = roc_curve(y_test, y_pred)\n",
    "\n",
    "tn, fp, fn, tp = cm.ravel()\n",
    "print('sens:', tp / (tp + fn))\n",
    "print('spec:', tn / (fp + tn))\n",
    "\n",
    "fig, ax = plt.subplots()\n",
    "ax.plot([0,1])\n",
    "ax.plot(fpr, tpr,'ro') \n",
    "ax.set_title(f'ROC for k = {min_err_idx+1}')\n",
    "ax.set_xlabel('FP')\n",
    "ax.set_ylabel('Sensitivity')\n",
    "ax.set_yticks(range(2))\n",
    "ax.set_xticks(range(2))"
   ]
  }
 ],
 "metadata": {
  "kernelspec": {
   "display_name": "Python 3 (ipykernel)",
   "language": "python",
   "name": "python3"
  },
  "language_info": {
   "codemirror_mode": {
    "name": "ipython",
    "version": 3
   },
   "file_extension": ".py",
   "mimetype": "text/x-python",
   "name": "python",
   "nbconvert_exporter": "python",
   "pygments_lexer": "ipython3",
   "version": "3.9.13"
  },
  "vscode": {
   "interpreter": {
    "hash": "0c4ab92bbc10d18b480eb40b47e751a2f458ae1b2b88576453c716fde62785ad"
   }
  }
 },
 "nbformat": 4,
 "nbformat_minor": 4
}
