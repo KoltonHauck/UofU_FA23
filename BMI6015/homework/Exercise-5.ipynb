{
 "cells": [
  {
   "cell_type": "markdown",
   "id": "076eb21f-1893-4dba-a0b0-210ce590f369",
   "metadata": {
    "tags": []
   },
   "source": [
    "# Exercise 5"
   ]
  },
  {
   "cell_type": "code",
   "execution_count": 1,
   "id": "4c457629-06f4-4517-8eb5-81db32273197",
   "metadata": {},
   "outputs": [],
   "source": [
    "import numpy as np\n",
    "import pandas as pd\n",
    "import tensorflow as tf\n",
    "from tensorflow import keras\n",
    "import matplotlib.pyplot as plt\n",
    "\n",
    "import mylib as my\n",
    "tf.random.set_seed(17)"
   ]
  },
  {
   "cell_type": "markdown",
   "id": "728be98f-4cea-4172-85d1-38513e78d820",
   "metadata": {},
   "source": [
    "## Part A\n",
    "In this part, you will train a Kera's neural network that fits the data below:"
   ]
  },
  {
   "cell_type": "code",
   "execution_count": null,
   "id": "cbc0a081-a446-4e84-8097-358f7a1b9caa",
   "metadata": {},
   "outputs": [],
   "source": [
    "N = 400\n",
    "X = np.linspace(0,2,N)\n",
    "y = np.sin(3*np.pi*X) + np.cos(4*np.pi*X) + np.random.randn(N)*.3\n",
    "X = X.reshape(N, 1)\n",
    "\n",
    "plt.plot(X, y, 'b.')\n",
    "plt.grid()"
   ]
  },
  {
   "cell_type": "markdown",
   "id": "d645ba4b-7a1b-4cab-9b55-8860bb3c4965",
   "metadata": {},
   "source": [
    "**IMPORTANT**: Perform the following steps and keep adjusting their parameters until you get a good fit at the end.\n",
    "\n",
    "* **(25 points)** Create the model. You must have at least two hidden layers."
   ]
  },
  {
   "cell_type": "code",
   "execution_count": null,
   "id": "286bb6d5-358a-4afc-a316-b55bb9f20d91",
   "metadata": {},
   "outputs": [],
   "source": [
    "# TODO"
   ]
  },
  {
   "cell_type": "markdown",
   "id": "597e563e-b9f0-4a5a-bd7f-a92ec6597491",
   "metadata": {},
   "source": [
    "* **(5 points)** Summarize it and plot it."
   ]
  },
  {
   "cell_type": "code",
   "execution_count": null,
   "id": "07a5b7d6-cd0c-4288-b3e1-7a9c46f08c0a",
   "metadata": {},
   "outputs": [],
   "source": [
    "# TODO"
   ]
  },
  {
   "cell_type": "markdown",
   "id": "37dff758-c64d-4ebf-8b14-50008dcf44d0",
   "metadata": {},
   "source": [
    "* **(5 points)** Compile it using the appropriate optimizer, loss, and metrics."
   ]
  },
  {
   "cell_type": "code",
   "execution_count": null,
   "id": "b12ad9f6-7a84-4eb7-ab1c-7828a28eb99b",
   "metadata": {},
   "outputs": [],
   "source": [
    "# TODO"
   ]
  },
  {
   "cell_type": "markdown",
   "id": "d319d984-90f1-45d7-83bd-a101228cae07",
   "metadata": {},
   "source": [
    "* **(10)** Train it and plot its training loss and metrics."
   ]
  },
  {
   "cell_type": "code",
   "execution_count": null,
   "id": "c8f66556-81ff-4dc5-8d57-7749f67f7fed",
   "metadata": {
    "tags": []
   },
   "outputs": [],
   "source": [
    "# TODO"
   ]
  },
  {
   "cell_type": "markdown",
   "id": "e184a4ab-360a-4675-8056-d1ae30cac4e5",
   "metadata": {
    "tags": []
   },
   "source": [
    "Here are the results:"
   ]
  },
  {
   "cell_type": "markdown",
   "id": "4d90a96e-ee7c-4ae6-ac9e-2f489ea5608b",
   "metadata": {},
   "source": [
    "* **(10 points)** Plot the above data and overlay the trained model's prediction curve on top of it."
   ]
  },
  {
   "cell_type": "code",
   "execution_count": null,
   "id": "8b92fafd-87c9-4399-b478-867f7ef8c8d1",
   "metadata": {},
   "outputs": [],
   "source": [
    "# TODO"
   ]
  },
  {
   "cell_type": "markdown",
   "id": "aa1d3b12-7aea-4c1e-a603-31cffada9d3d",
   "metadata": {},
   "source": [
    "## Part B"
   ]
  },
  {
   "cell_type": "markdown",
   "id": "b128f4b7-a6ed-413f-842b-bf95a728f1aa",
   "metadata": {},
   "source": [
    "In this part,  you will manually augment the data below with polynomial features and utilize the transformed dataset to train a linear soft-margin SVM model. You will do this three times: once for degree 1, again for degree 2, and a third time for degree 3."
   ]
  },
  {
   "cell_type": "code",
   "execution_count": null,
   "id": "6b14b4c7-76fc-4387-8b3f-82dfb819d209",
   "metadata": {},
   "outputs": [],
   "source": [
    "from sklearn.datasets import make_moons\n",
    "fig = plt.figure(figsize=(16, 6))\n",
    "X, y = make_moons(n_samples=300, random_state=17,noise=.1)"
   ]
  },
  {
   "cell_type": "markdown",
   "id": "55f3a562-3fe2-4954-8aa4-c799655855c2",
   "metadata": {},
   "source": [
    "* **(5 points)** First plot the above data."
   ]
  },
  {
   "cell_type": "code",
   "execution_count": null,
   "id": "ccf74bf9-91af-4416-90f7-8f056f30b857",
   "metadata": {},
   "outputs": [],
   "source": [
    "# TODO"
   ]
  },
  {
   "cell_type": "markdown",
   "id": "54a17e75-dd7a-4805-9aac-35a5b4244db0",
   "metadata": {},
   "source": [
    "* **(30 points)** For each degree (1, 2, and 3), utilize a pipeline to train a model on data transformed using a polynomial feature transformer with that degree. Plot the decision regions of these three models side by side, and display their respective degrees and accuracies in the titles of the plots."
   ]
  },
  {
   "cell_type": "code",
   "execution_count": null,
   "id": "06d9e96f-3c94-4294-bb43-b256bca06e06",
   "metadata": {
    "tags": []
   },
   "outputs": [],
   "source": [
    "# TODO"
   ]
  },
  {
   "cell_type": "markdown",
   "id": "915c329d-e0e0-46aa-a185-f3aac1788ced",
   "metadata": {},
   "source": [
    "* **(10 points)** To assess the effectiveness of using polynomial features versus a `poly` kernel, train a kernelized model using the poly kernel with a degree of 3. Adjust the value of `gamma` as needed. Plot the decision regions of this model and display its accuracy."
   ]
  },
  {
   "cell_type": "code",
   "execution_count": null,
   "id": "de306e5d-b1f8-4062-8a98-05177ff7786c",
   "metadata": {},
   "outputs": [],
   "source": [
    "# TODO"
   ]
  }
 ],
 "metadata": {
  "kernelspec": {
   "display_name": "Python 3 (ipykernel)",
   "language": "python",
   "name": "python3"
  },
  "language_info": {
   "codemirror_mode": {
    "name": "ipython",
    "version": 3
   },
   "file_extension": ".py",
   "mimetype": "text/x-python",
   "name": "python",
   "nbconvert_exporter": "python",
   "pygments_lexer": "ipython3",
   "version": "3.11.5"
  },
  "vscode": {
   "interpreter": {
    "hash": "0c4ab92bbc10d18b480eb40b47e751a2f458ae1b2b88576453c716fde62785ad"
   }
  }
 },
 "nbformat": 4,
 "nbformat_minor": 5
}
